{
 "cells": [
  {
   "cell_type": "markdown",
   "id": "145b3354-3cf3-4588-937b-a623475e561f",
   "metadata": {},
   "source": [
    "# Demo\n",
    "Demonstrate pyiron for LAMMPS users. "
   ]
  },
  {
   "cell_type": "code",
   "execution_count": 1,
   "id": "7ebda36b-38e3-4540-95c4-61ecc9941a99",
   "metadata": {},
   "outputs": [
    {
     "data": {
      "application/vnd.jupyter.widget-view+json": {
       "model_id": "487adf72653e441a81d5562b5d2a3208",
       "version_major": 2,
       "version_minor": 0
      },
      "text/plain": []
     },
     "metadata": {},
     "output_type": "display_data"
    }
   ],
   "source": [
    "from pyiron_atomistics import Project"
   ]
  },
  {
   "cell_type": "code",
   "execution_count": 2,
   "id": "d88e373f-05ff-4b35-857e-22883f6a17ff",
   "metadata": {},
   "outputs": [],
   "source": [
    "pr = Project(\"demo\")"
   ]
  },
  {
   "cell_type": "code",
   "execution_count": 3,
   "id": "433b13d1-44e0-4b3f-ad11-f5d94a15fa2e",
   "metadata": {},
   "outputs": [
    {
     "data": {
      "text/plain": [
       "'/home/janssen/pyiron/projects/2023-08-11-lammps-workshop/demo/'"
      ]
     },
     "execution_count": 3,
     "metadata": {},
     "output_type": "execute_result"
    }
   ],
   "source": [
    "pr.path"
   ]
  },
  {
   "cell_type": "code",
   "execution_count": 4,
   "id": "57751a11-f1ad-41e7-8119-4b942a346965",
   "metadata": {},
   "outputs": [
    {
     "data": {
      "text/html": [
       "<div>\n",
       "<style scoped>\n",
       "    .dataframe tbody tr th:only-of-type {\n",
       "        vertical-align: middle;\n",
       "    }\n",
       "\n",
       "    .dataframe tbody tr th {\n",
       "        vertical-align: top;\n",
       "    }\n",
       "\n",
       "    .dataframe thead th {\n",
       "        text-align: right;\n",
       "    }\n",
       "</style>\n",
       "<table border=\"1\" class=\"dataframe\">\n",
       "  <thead>\n",
       "    <tr style=\"text-align: right;\">\n",
       "      <th></th>\n",
       "      <th>id</th>\n",
       "      <th>status</th>\n",
       "      <th>chemicalformula</th>\n",
       "      <th>job</th>\n",
       "      <th>subjob</th>\n",
       "      <th>projectpath</th>\n",
       "      <th>project</th>\n",
       "      <th>timestart</th>\n",
       "      <th>timestop</th>\n",
       "      <th>totalcputime</th>\n",
       "      <th>computer</th>\n",
       "      <th>hamilton</th>\n",
       "      <th>hamversion</th>\n",
       "      <th>parentid</th>\n",
       "      <th>masterid</th>\n",
       "    </tr>\n",
       "  </thead>\n",
       "  <tbody>\n",
       "    <tr>\n",
       "      <th>0</th>\n",
       "      <td>21751</td>\n",
       "      <td>finished</td>\n",
       "      <td>Al4</td>\n",
       "      <td>lmp</td>\n",
       "      <td>/lmp</td>\n",
       "      <td>/home/janssen/pyiron/projects/</td>\n",
       "      <td>2023-08-11-lammps-workshop/demo/</td>\n",
       "      <td>2023-08-11 12:21:17.571885</td>\n",
       "      <td>2023-08-11 12:21:18.193762</td>\n",
       "      <td>0.0</td>\n",
       "      <td>pyiron@ljubi#1</td>\n",
       "      <td>Lammps</td>\n",
       "      <td>0.1</td>\n",
       "      <td>None</td>\n",
       "      <td>None</td>\n",
       "    </tr>\n",
       "  </tbody>\n",
       "</table>\n",
       "</div>"
      ],
      "text/plain": [
       "      id    status chemicalformula  job subjob  \\\n",
       "0  21751  finished             Al4  lmp   /lmp   \n",
       "\n",
       "                      projectpath                           project  \\\n",
       "0  /home/janssen/pyiron/projects/  2023-08-11-lammps-workshop/demo/   \n",
       "\n",
       "                   timestart                   timestop  totalcputime  \\\n",
       "0 2023-08-11 12:21:17.571885 2023-08-11 12:21:18.193762           0.0   \n",
       "\n",
       "         computer hamilton hamversion parentid masterid  \n",
       "0  pyiron@ljubi#1   Lammps        0.1     None     None  "
      ]
     },
     "execution_count": 4,
     "metadata": {},
     "output_type": "execute_result"
    }
   ],
   "source": [
    "pr.job_table()"
   ]
  },
  {
   "cell_type": "code",
   "execution_count": 5,
   "id": "3f643ebc-390c-4591-abf8-fde88e642b73",
   "metadata": {},
   "outputs": [],
   "source": [
    "# pr.remove_jobs()"
   ]
  },
  {
   "cell_type": "markdown",
   "id": "bdac98d2-b3ac-44c2-b268-550e1faeaf72",
   "metadata": {},
   "source": [
    "# Atomistic structures"
   ]
  },
  {
   "cell_type": "code",
   "execution_count": 6,
   "id": "9fa5aa25-9b43-4467-bef3-bd0674d26aa9",
   "metadata": {},
   "outputs": [],
   "source": [
    "structure = pr.create.structure.ase.bulk(\"Al\", cubic=True)"
   ]
  },
  {
   "cell_type": "code",
   "execution_count": 7,
   "id": "1938a06d-630b-4e91-a1e3-d91077059d27",
   "metadata": {},
   "outputs": [
    {
     "data": {
      "text/plain": [
       "Al: [0. 0. 0.]\n",
       "Al: [0.    2.025 2.025]\n",
       "Al: [2.025 0.    2.025]\n",
       "Al: [2.025 2.025 0.   ]\n",
       "tags: \n",
       "    indices: [0 0 0 0]\n",
       "pbc: [ True  True  True]\n",
       "cell: \n",
       "Cell([4.05, 4.05, 4.05])"
      ]
     },
     "execution_count": 7,
     "metadata": {},
     "output_type": "execute_result"
    }
   ],
   "source": [
    "structure"
   ]
  },
  {
   "cell_type": "code",
   "execution_count": 8,
   "id": "cd4903a5-4a39-4a37-83a6-7b2cda80038b",
   "metadata": {},
   "outputs": [
    {
     "data": {
      "application/vnd.jupyter.widget-view+json": {
       "model_id": "6c0ccc00a696493189e3861132cefb4b",
       "version_major": 2,
       "version_minor": 0
      },
      "text/plain": [
       "NGLWidget()"
      ]
     },
     "metadata": {},
     "output_type": "display_data"
    }
   ],
   "source": [
    "structure.plot3d()"
   ]
  },
  {
   "cell_type": "code",
   "execution_count": 39,
   "id": "825f43cc-d6d4-46c5-80e8-859054332483",
   "metadata": {},
   "outputs": [],
   "source": [
    "structure_big = structure.repeat([4,4,4])"
   ]
  },
  {
   "cell_type": "code",
   "execution_count": 42,
   "id": "775c3738-c0ee-4971-a577-a6e87e262368",
   "metadata": {},
   "outputs": [],
   "source": [
    "del structure_big[10]"
   ]
  },
  {
   "cell_type": "code",
   "execution_count": 43,
   "id": "3202586b-7f30-4c63-afad-aacf2d5780e0",
   "metadata": {},
   "outputs": [
    {
     "data": {
      "application/vnd.jupyter.widget-view+json": {
       "model_id": "ddb1b2aec10c49559984ca1bb34fca73",
       "version_major": 2,
       "version_minor": 0
      },
      "text/plain": [
       "NGLWidget()"
      ]
     },
     "metadata": {},
     "output_type": "display_data"
    }
   ],
   "source": [
    "structure_big.plot3d()"
   ]
  },
  {
   "cell_type": "markdown",
   "id": "252feff8-6460-49aa-ba59-a5f874818666",
   "metadata": {},
   "source": [
    "# LAMMPS calculation"
   ]
  },
  {
   "cell_type": "code",
   "execution_count": 9,
   "id": "c4b97fb4-3f96-4072-aad3-998872d7dfdc",
   "metadata": {},
   "outputs": [],
   "source": [
    "job = pr.create.job.Lammps(job_name=\"lmp\")"
   ]
  },
  {
   "cell_type": "code",
   "execution_count": 10,
   "id": "e188d5d2-4ec2-438d-ae26-b821f5c1a6c0",
   "metadata": {},
   "outputs": [],
   "source": [
    "job.structure = structure"
   ]
  },
  {
   "cell_type": "code",
   "execution_count": 11,
   "id": "962e3852-641c-4926-8ff0-731ff081a981",
   "metadata": {},
   "outputs": [
    {
     "data": {
      "text/html": [
       "<div>\n",
       "<style scoped>\n",
       "    .dataframe tbody tr th:only-of-type {\n",
       "        vertical-align: middle;\n",
       "    }\n",
       "\n",
       "    .dataframe tbody tr th {\n",
       "        vertical-align: top;\n",
       "    }\n",
       "\n",
       "    .dataframe thead th {\n",
       "        text-align: right;\n",
       "    }\n",
       "</style>\n",
       "<table border=\"1\" class=\"dataframe\">\n",
       "  <thead>\n",
       "    <tr style=\"text-align: right;\">\n",
       "      <th></th>\n",
       "      <th>Config</th>\n",
       "      <th>Filename</th>\n",
       "      <th>Model</th>\n",
       "      <th>Name</th>\n",
       "      <th>Species</th>\n",
       "      <th>Citations</th>\n",
       "    </tr>\n",
       "  </thead>\n",
       "  <tbody>\n",
       "    <tr>\n",
       "      <th>39</th>\n",
       "      <td>[pair_style eam/alloy\\n, pair_coeff * * NiAlH_jea.eam.alloy Ni Al H\\n]</td>\n",
       "      <td>[potential_LAMMPS/1995--Angelo-J-E--Ni-Al-H--LAMMPS--ipr1/NiAlH_jea.eam.alloy]</td>\n",
       "      <td>NISTiprpy</td>\n",
       "      <td>1995--Angelo-J-E--Ni-Al-H--LAMMPS--ipr1</td>\n",
       "      <td>[Ni, Al, H]</td>\n",
       "      <td>[{'Angelo_1995': {'title': 'Trapping of hydrogen to lattice defects in nickel', 'journal': 'Modelling and Simulation in Materials Science and Engineering', 'volume': '3', 'pages': '289--307', 'num...</td>\n",
       "    </tr>\n",
       "    <tr>\n",
       "      <th>40</th>\n",
       "      <td>[pair_style eam/alloy\\n, pair_coeff * * Farkas_Nb-Ti-Al_1996.eam.alloy Nb Ti Al\\n]</td>\n",
       "      <td>[potential_LAMMPS/1996--Farkas-D--Nb-Ti-Al--LAMMPS--ipr1/Farkas_Nb-Ti-Al_1996.eam.alloy]</td>\n",
       "      <td>NISTiprpy</td>\n",
       "      <td>1996--Farkas-D--Nb-Ti-Al--LAMMPS--ipr1</td>\n",
       "      <td>[Nb, Ti, Al]</td>\n",
       "      <td>[{'Farkas_1996': {'title': 'Interatomic potentials for ternary Nb - Ti - Al alloys', 'journal': 'Modelling and Simulation in Materials Science and Engineering', 'volume': '4', 'pages': '23--32', '...</td>\n",
       "    </tr>\n",
       "    <tr>\n",
       "      <th>43</th>\n",
       "      <td>[pair_style eam/alloy\\n, pair_coeff * * mg-al-set.eam.alloy Al Mg\\n]</td>\n",
       "      <td>[potential_LAMMPS/1997--Liu-X-Y--Al-Mg--LAMMPS--ipr1/mg-al-set.eam.alloy]</td>\n",
       "      <td>NISTiprpy</td>\n",
       "      <td>1997--Liu-X-Y--Al-Mg--LAMMPS--ipr1</td>\n",
       "      <td>[Al, Mg]</td>\n",
       "      <td>[{'Liu_1997': {'title': 'Anisotropic surface segregation in Al-Mg alloys', 'journal': 'Surface Science', 'volume': '373', 'pages': '357--370', 'number': '2-3', 'doi': '10.1016/s0039-6028(96)01154-...</td>\n",
       "    </tr>\n",
       "    <tr>\n",
       "      <th>46</th>\n",
       "      <td>[pair_style eam/alloy\\n, pair_coeff * * almg.liu.eam.alloy Al Mg\\n]</td>\n",
       "      <td>[potential_LAMMPS/1998--Liu-X-Y--Al-Mg--LAMMPS--ipr1/almg.liu.eam.alloy]</td>\n",
       "      <td>NISTiprpy</td>\n",
       "      <td>1998--Liu-X-Y--Al-Mg--LAMMPS--ipr1</td>\n",
       "      <td>[Al, Mg]</td>\n",
       "      <td>[{'Liu_1998': {'title': 'Grain-boundary segregation in Al-10%Mg alloys at hot working temperatures', 'journal': 'Acta Materialia', 'volume': '46', 'pages': '3467--3476', 'number': '10', 'doi': '10...</td>\n",
       "    </tr>\n",
       "    <tr>\n",
       "      <th>48</th>\n",
       "      <td>[pair_style eam/alloy\\n, pair_coeff * * al-cu-set.eam.alloy Al Cu\\n]</td>\n",
       "      <td>[potential_LAMMPS/1999--Liu-X-Y--Al-Cu--LAMMPS--ipr1/al-cu-set.eam.alloy]</td>\n",
       "      <td>NISTiprpy</td>\n",
       "      <td>1999--Liu-X-Y--Al-Cu--LAMMPS--ipr1</td>\n",
       "      <td>[Al, Cu]</td>\n",
       "      <td>[{'Liu_1999': {'title': \"A new investigation of copper's role in enhancing Al-Cu interconnect electromigration resistance from an atomistic view\", 'journal': 'Acta Materialia', 'volume': '47', 'pa...</td>\n",
       "    </tr>\n",
       "    <tr>\n",
       "      <th>...</th>\n",
       "      <td>...</td>\n",
       "      <td>...</td>\n",
       "      <td>...</td>\n",
       "      <td>...</td>\n",
       "      <td>...</td>\n",
       "      <td>...</td>\n",
       "    </tr>\n",
       "    <tr>\n",
       "      <th>948</th>\n",
       "      <td>[pair_style kim Sim_LAMMPS_MEAM_JelinekGrohHorstemeyer_2012_AlSiMgCuFe__SM_656517352485_000\\n, pair_coeff * * Al Si Mg Cu Fe\\n]</td>\n",
       "      <td>[]</td>\n",
       "      <td>OPENKIM</td>\n",
       "      <td>Sim_LAMMPS_MEAM_JelinekGrohHorstemeyer_2012_AlSiMgCuFe__SM_656517352485_000</td>\n",
       "      <td>[Al, Si, Mg, Cu, Fe]</td>\n",
       "      <td>[{'B._2012': {'title': 'Modified embedded atom method potential for Al, Si, Mg, Cu, and Fe alloys', 'volume': '85', 'year': '2012', 'journal': 'Physical Review B', 'doi': '10.1103/PhysRevB.85.2451...</td>\n",
       "    </tr>\n",
       "    <tr>\n",
       "      <th>958</th>\n",
       "      <td>[pair_style kim Sim_LAMMPS_MEAM_PascuetFernandez_2015_AlU__SM_721930391003_000\\n, pair_coeff * * Al U\\n]</td>\n",
       "      <td>[]</td>\n",
       "      <td>OPENKIM</td>\n",
       "      <td>Sim_LAMMPS_MEAM_PascuetFernandez_2015_AlU__SM_721930391003_000</td>\n",
       "      <td>[Al, U]</td>\n",
       "      <td>[{'M.I._2015': {'title': '{A}tomic interaction of the {MEAM} type for the study of intermetallics in the {A}l–{U} alloy', 'volume': '467', 'year': '2015', 'journal': 'Journal of Nuclear Materials'...</td>\n",
       "    </tr>\n",
       "    <tr>\n",
       "      <th>959</th>\n",
       "      <td>[pair_style kim Sim_LAMMPS_MEAM_PascuetFernandez_2015_Al__SM_811588957187_000\\n, pair_coeff * * Al\\n]</td>\n",
       "      <td>[]</td>\n",
       "      <td>OPENKIM</td>\n",
       "      <td>Sim_LAMMPS_MEAM_PascuetFernandez_2015_Al__SM_811588957187_000</td>\n",
       "      <td>[Al]</td>\n",
       "      <td>[{'M.I._2015': {'title': '{A}tomic interaction of the {MEAM} type for the study of intermetallics in the {A}l–{U} alloy', 'volume': '467', 'year': '2015', 'journal': 'Journal of Nuclear Materials'...</td>\n",
       "    </tr>\n",
       "    <tr>\n",
       "      <th>979</th>\n",
       "      <td>[pair_style kim Sim_LAMMPS_SMTBQ_SallesPolitanoAmzallag_2016_AlO__SM_853967355976_000\\n, pair_coeff * * Al O\\n]</td>\n",
       "      <td>[]</td>\n",
       "      <td>OPENKIM</td>\n",
       "      <td>Sim_LAMMPS_SMTBQ_SallesPolitanoAmzallag_2016_AlO__SM_853967355976_000</td>\n",
       "      <td>[Al, O]</td>\n",
       "      <td>[{'N._2016': {'title': 'Molecular dynamics study of high-pressure alumina polymorphs with a tight-binding variable-charge model', 'volume': '111', 'year': '2016', 'journal': 'Computational Materia...</td>\n",
       "    </tr>\n",
       "    <tr>\n",
       "      <th>980</th>\n",
       "      <td>[pair_style kim Sim_LAMMPS_SMTBQ_SallesPolitanoAmzallag_2016_Al__SM_404097633924_000\\n, pair_coeff * * Al\\n]</td>\n",
       "      <td>[]</td>\n",
       "      <td>OPENKIM</td>\n",
       "      <td>Sim_LAMMPS_SMTBQ_SallesPolitanoAmzallag_2016_Al__SM_404097633924_000</td>\n",
       "      <td>[Al]</td>\n",
       "      <td>[{'N._2016': {'title': 'Molecular dynamics study of high-pressure alumina polymorphs with a tight-binding variable-charge model', 'volume': '111', 'year': '2016', 'journal': 'Computational Materia...</td>\n",
       "    </tr>\n",
       "  </tbody>\n",
       "</table>\n",
       "<p>136 rows × 6 columns</p>\n",
       "</div>"
      ],
      "text/plain": [
       "                                                                                                                              Config  \\\n",
       "39                                                            [pair_style eam/alloy\\n, pair_coeff * * NiAlH_jea.eam.alloy Ni Al H\\n]   \n",
       "40                                                [pair_style eam/alloy\\n, pair_coeff * * Farkas_Nb-Ti-Al_1996.eam.alloy Nb Ti Al\\n]   \n",
       "43                                                              [pair_style eam/alloy\\n, pair_coeff * * mg-al-set.eam.alloy Al Mg\\n]   \n",
       "46                                                               [pair_style eam/alloy\\n, pair_coeff * * almg.liu.eam.alloy Al Mg\\n]   \n",
       "48                                                              [pair_style eam/alloy\\n, pair_coeff * * al-cu-set.eam.alloy Al Cu\\n]   \n",
       "..                                                                                                                               ...   \n",
       "948  [pair_style kim Sim_LAMMPS_MEAM_JelinekGrohHorstemeyer_2012_AlSiMgCuFe__SM_656517352485_000\\n, pair_coeff * * Al Si Mg Cu Fe\\n]   \n",
       "958                         [pair_style kim Sim_LAMMPS_MEAM_PascuetFernandez_2015_AlU__SM_721930391003_000\\n, pair_coeff * * Al U\\n]   \n",
       "959                            [pair_style kim Sim_LAMMPS_MEAM_PascuetFernandez_2015_Al__SM_811588957187_000\\n, pair_coeff * * Al\\n]   \n",
       "979                  [pair_style kim Sim_LAMMPS_SMTBQ_SallesPolitanoAmzallag_2016_AlO__SM_853967355976_000\\n, pair_coeff * * Al O\\n]   \n",
       "980                     [pair_style kim Sim_LAMMPS_SMTBQ_SallesPolitanoAmzallag_2016_Al__SM_404097633924_000\\n, pair_coeff * * Al\\n]   \n",
       "\n",
       "                                                                                     Filename  \\\n",
       "39             [potential_LAMMPS/1995--Angelo-J-E--Ni-Al-H--LAMMPS--ipr1/NiAlH_jea.eam.alloy]   \n",
       "40   [potential_LAMMPS/1996--Farkas-D--Nb-Ti-Al--LAMMPS--ipr1/Farkas_Nb-Ti-Al_1996.eam.alloy]   \n",
       "43                  [potential_LAMMPS/1997--Liu-X-Y--Al-Mg--LAMMPS--ipr1/mg-al-set.eam.alloy]   \n",
       "46                   [potential_LAMMPS/1998--Liu-X-Y--Al-Mg--LAMMPS--ipr1/almg.liu.eam.alloy]   \n",
       "48                  [potential_LAMMPS/1999--Liu-X-Y--Al-Cu--LAMMPS--ipr1/al-cu-set.eam.alloy]   \n",
       "..                                                                                        ...   \n",
       "948                                                                                        []   \n",
       "958                                                                                        []   \n",
       "959                                                                                        []   \n",
       "979                                                                                        []   \n",
       "980                                                                                        []   \n",
       "\n",
       "         Model  \\\n",
       "39   NISTiprpy   \n",
       "40   NISTiprpy   \n",
       "43   NISTiprpy   \n",
       "46   NISTiprpy   \n",
       "48   NISTiprpy   \n",
       "..         ...   \n",
       "948    OPENKIM   \n",
       "958    OPENKIM   \n",
       "959    OPENKIM   \n",
       "979    OPENKIM   \n",
       "980    OPENKIM   \n",
       "\n",
       "                                                                            Name  \\\n",
       "39                                       1995--Angelo-J-E--Ni-Al-H--LAMMPS--ipr1   \n",
       "40                                        1996--Farkas-D--Nb-Ti-Al--LAMMPS--ipr1   \n",
       "43                                            1997--Liu-X-Y--Al-Mg--LAMMPS--ipr1   \n",
       "46                                            1998--Liu-X-Y--Al-Mg--LAMMPS--ipr1   \n",
       "48                                            1999--Liu-X-Y--Al-Cu--LAMMPS--ipr1   \n",
       "..                                                                           ...   \n",
       "948  Sim_LAMMPS_MEAM_JelinekGrohHorstemeyer_2012_AlSiMgCuFe__SM_656517352485_000   \n",
       "958               Sim_LAMMPS_MEAM_PascuetFernandez_2015_AlU__SM_721930391003_000   \n",
       "959                Sim_LAMMPS_MEAM_PascuetFernandez_2015_Al__SM_811588957187_000   \n",
       "979        Sim_LAMMPS_SMTBQ_SallesPolitanoAmzallag_2016_AlO__SM_853967355976_000   \n",
       "980         Sim_LAMMPS_SMTBQ_SallesPolitanoAmzallag_2016_Al__SM_404097633924_000   \n",
       "\n",
       "                  Species  \\\n",
       "39            [Ni, Al, H]   \n",
       "40           [Nb, Ti, Al]   \n",
       "43               [Al, Mg]   \n",
       "46               [Al, Mg]   \n",
       "48               [Al, Cu]   \n",
       "..                    ...   \n",
       "948  [Al, Si, Mg, Cu, Fe]   \n",
       "958               [Al, U]   \n",
       "959                  [Al]   \n",
       "979               [Al, O]   \n",
       "980                  [Al]   \n",
       "\n",
       "                                                                                                                                                                                                   Citations  \n",
       "39   [{'Angelo_1995': {'title': 'Trapping of hydrogen to lattice defects in nickel', 'journal': 'Modelling and Simulation in Materials Science and Engineering', 'volume': '3', 'pages': '289--307', 'num...  \n",
       "40   [{'Farkas_1996': {'title': 'Interatomic potentials for ternary Nb - Ti - Al alloys', 'journal': 'Modelling and Simulation in Materials Science and Engineering', 'volume': '4', 'pages': '23--32', '...  \n",
       "43   [{'Liu_1997': {'title': 'Anisotropic surface segregation in Al-Mg alloys', 'journal': 'Surface Science', 'volume': '373', 'pages': '357--370', 'number': '2-3', 'doi': '10.1016/s0039-6028(96)01154-...  \n",
       "46   [{'Liu_1998': {'title': 'Grain-boundary segregation in Al-10%Mg alloys at hot working temperatures', 'journal': 'Acta Materialia', 'volume': '46', 'pages': '3467--3476', 'number': '10', 'doi': '10...  \n",
       "48   [{'Liu_1999': {'title': \"A new investigation of copper's role in enhancing Al-Cu interconnect electromigration resistance from an atomistic view\", 'journal': 'Acta Materialia', 'volume': '47', 'pa...  \n",
       "..                                                                                                                                                                                                       ...  \n",
       "948  [{'B._2012': {'title': 'Modified embedded atom method potential for Al, Si, Mg, Cu, and Fe alloys', 'volume': '85', 'year': '2012', 'journal': 'Physical Review B', 'doi': '10.1103/PhysRevB.85.2451...  \n",
       "958  [{'M.I._2015': {'title': '{A}tomic interaction of the {MEAM} type for the study of intermetallics in the {A}l–{U} alloy', 'volume': '467', 'year': '2015', 'journal': 'Journal of Nuclear Materials'...  \n",
       "959  [{'M.I._2015': {'title': '{A}tomic interaction of the {MEAM} type for the study of intermetallics in the {A}l–{U} alloy', 'volume': '467', 'year': '2015', 'journal': 'Journal of Nuclear Materials'...  \n",
       "979  [{'N._2016': {'title': 'Molecular dynamics study of high-pressure alumina polymorphs with a tight-binding variable-charge model', 'volume': '111', 'year': '2016', 'journal': 'Computational Materia...  \n",
       "980  [{'N._2016': {'title': 'Molecular dynamics study of high-pressure alumina polymorphs with a tight-binding variable-charge model', 'volume': '111', 'year': '2016', 'journal': 'Computational Materia...  \n",
       "\n",
       "[136 rows x 6 columns]"
      ]
     },
     "execution_count": 11,
     "metadata": {},
     "output_type": "execute_result"
    }
   ],
   "source": [
    "job.view_potentials()"
   ]
  },
  {
   "cell_type": "code",
   "execution_count": 12,
   "id": "27930c52-aa78-4813-8790-50c60220bdfa",
   "metadata": {},
   "outputs": [
    {
     "data": {
      "text/plain": [
       "['1995--Angelo-J-E--Ni-Al-H--LAMMPS--ipr1',\n",
       " '1996--Farkas-D--Nb-Ti-Al--LAMMPS--ipr1',\n",
       " '1997--Liu-X-Y--Al-Mg--LAMMPS--ipr1',\n",
       " '1998--Liu-X-Y--Al-Mg--LAMMPS--ipr1',\n",
       " '1999--Liu-X-Y--Al-Cu--LAMMPS--ipr1',\n",
       " '1999--Mishin-Y--Al--LAMMPS--ipr1',\n",
       " '2000--Landa-A--Al-Pb--LAMMPS--ipr1',\n",
       " '2000--Sturgeon-J-B--Al--LAMMPS--ipr1',\n",
       " '2002--Mishin-Y--Ni-Al--LAMMPS--ipr1',\n",
       " '2003--Lee-B-J--Al--LAMMPS--ipr1',\n",
       " '2003--Zope-R-R--Al--LAMMPS--ipr1',\n",
       " '2003--Zope-R-R--Ti-Al--LAMMPS--ipr1',\n",
       " '2004--Liu-X-Y--Al--LAMMPS--ipr1',\n",
       " '2004--Mishin-Y--Ni-Al--LAMMPS--ipr1',\n",
       " '2004--Mishin-Y--Ni-Al--LAMMPS--ipr2',\n",
       " '2004--Zhou-X-W--Al--LAMMPS--ipr2',\n",
       " '2005--Mendelev-M-I--Al-Fe--LAMMPS--ipr1',\n",
       " '2007--Silva-A-C--Al-Ni--LAMMPS--ipr1',\n",
       " '2008--Mendelev-M-I--Al--LAMMPS--ipr1',\n",
       " '2009--Kim-Y-M--Mg-Al--LAMMPS--ipr1',\n",
       " '2009--Mendelev-M-I--Al-Mg--LAMMPS--ipr1',\n",
       " '2009--Purja-Pun-G-P--Ni-Al--LAMMPS--ipr1',\n",
       " '2009--Zhakhovskii-V-V--Al--LAMMPS--ipr2',\n",
       " '2010--Lee-E--Fe-Al--LAMMPS--ipr1',\n",
       " '2010--Mendelev-M-I--fictional-Al-1--LAMMPS--ipr1',\n",
       " '2010--Mendelev-M-I--fictional-Al-2--LAMMPS--ipr1',\n",
       " '2010--Mendelev-M-I--fictional-Al-3--LAMMPS--ipr1',\n",
       " '2010--Winey-J-M--Al--LAMMPS--ipr1',\n",
       " '2011--Apostol-F--Al-Cu--LAMMPS--ipr1',\n",
       " '2011--Ko-W-S--Al-H--LAMMPS--ipr1',\n",
       " '2012--Dong-W-P--Co-Al--LAMMPS--ipr1',\n",
       " '2012--Jelinek-B--Al-Si-Mg-Cu-Fe--LAMMPS--ipr2',\n",
       " '2012--Schopf-D--Al-Mn-Pd--LAMMPS--ipr1',\n",
       " '2013--Shim-J-H--V-Al--LAMMPS--ipr1',\n",
       " '2013--Shim-J-H--V-Al-H--LAMMPS--ipr1',\n",
       " '2015--Choudhary-K--Al--LAMMPS--ipr1',\n",
       " '2015--Choudhary-K--Al-O--LAMMPS--ipr1',\n",
       " '2015--Kim-Y-K--Ni-Al-Co--LAMMPS--ipr1',\n",
       " '2015--Kumar-A--Al-Ni--LAMMPS--ipr1',\n",
       " '2015--Kumar-A--Al-Ni-O--LAMMPS--ipr1',\n",
       " '2015--Mendelev-M-I--Al-Sm--LAMMPS--ipr1',\n",
       " '2015--Pascuet-M-I--Al--LAMMPS--ipr1',\n",
       " '2015--Pascuet-M-I--Al-U--LAMMPS--ipr2',\n",
       " '2015--Purja-Pun-G-P--Al-Co--LAMMPS--ipr2',\n",
       " '2015--Purja-Pun-G-P--Ni-Al-Co--LAMMPS--ipr2',\n",
       " '2016--Kim-Y-K--Al-Ti--LAMMPS--ipr1',\n",
       " '2016--Zhou-X-W--Al-Cu--LAMMPS--ipr2',\n",
       " '2017--Botu-V--Al--LAMMPS--ipr1',\n",
       " '2017--Kim-J-S--Pt-Al--LAMMPS--ipr1',\n",
       " '2017--Kim-Y-K--Ni-Al-Ti--LAMMPS--ipr1',\n",
       " '2018--Dickel-D-E--Mg-Al-Zn--LAMMPS--ipr1',\n",
       " '2018--Jeong-G-U--Pd-Al--LAMMPS--ipr1',\n",
       " '2018--Zhou-X-W--Al-Cu-H--LAMMPS--ipr1',\n",
       " '2019--Plummer-G--Ti-Al-C--LAMMPS--ipr1',\n",
       " '2020--Farkas-D--Fe-Ni-Cr-Co-Al--LAMMPS--ipr1',\n",
       " '2020--Purja-Pun-G-P--Al--LAMMPS--ipr1',\n",
       " '2020--Starikov-S--Si-Au-Al--LAMMPS--ipr1',\n",
       " '2020--Starikov-S--Si-Au-Al--LAMMPS--ipr2',\n",
       " '2021--Plummer-G--Ti-Al-C--LAMMPS--ipr1',\n",
       " '2021--Song-H--Al-Sm--LAMMPS--ipr1',\n",
       " '2022--Fereidonnejad-R--Al-Hf--LAMMPS--ipr1',\n",
       " '2022--Fereidonnejad-R--Al-Nb--LAMMPS--ipr1',\n",
       " '2022--Fereidonnejad-R--Al-Ta--LAMMPS--ipr1',\n",
       " '2022--Fereidonnejad-R--Al-Ti--LAMMPS--ipr1',\n",
       " '2022--Fereidonnejad-R--Al-Zr--LAMMPS--ipr1',\n",
       " '2022--Mahata-A--Al-Cu--LAMMPS--ipr1',\n",
       " '2022--Mahata-A--Al-Fe--LAMMPS--ipr1',\n",
       " '2022--Mahata-A--Al-Ni--LAMMPS--ipr1',\n",
       " '2022--Mendelev-M-I--Ni-Al--LAMMPS--ipr1',\n",
       " 'EAM_CubicNaturalSpline_ErcolessiAdams_1994_Al__MO_800509458712_002',\n",
       " 'EAM_Dynamo_AngeloMoodyBaskes_1995_NiAlH__MO_418978237058_005',\n",
       " 'EAM_Dynamo_CaiYe_1996_AlCu__MO_942551040047_005',\n",
       " 'EAM_Dynamo_ErcolessiAdams_1994_Al__MO_123629422045_005',\n",
       " 'EAM_Dynamo_FarkasJones_1996_NbTiAl__MO_042691367780_000',\n",
       " 'EAM_Dynamo_JacobsenNorskovPuska_1987_Al__MO_411692133366_000',\n",
       " 'EAM_Dynamo_LandaWynblattSiegel_2000_AlPb__MO_699137396381_005',\n",
       " 'EAM_Dynamo_LiuAdams_1998_AlMg__MO_019873715786_000',\n",
       " 'EAM_Dynamo_LiuErcolessiAdams_2004_Al__MO_051157671505_000',\n",
       " 'EAM_Dynamo_LiuLiuBorucki_1999_AlCu__MO_020851069572_000',\n",
       " 'EAM_Dynamo_LiuOhotnickyAdams_1997_AlMg__MO_559870613549_000',\n",
       " 'EAM_Dynamo_MendelevAstaRahman_2009_AlMg__MO_658278549784_005',\n",
       " 'EAM_Dynamo_MendelevFangYe_2015_AlSm__MO_338600200739_000',\n",
       " 'EAM_Dynamo_MendelevKramerBecker_2008_Al__MO_106969701023_005',\n",
       " 'EAM_Dynamo_MendelevSrolovitzAckland_2005_AlFe__MO_577453891941_005',\n",
       " 'EAM_Dynamo_MishinFarkasMehl_1999_Al__MO_651801486679_005',\n",
       " 'EAM_Dynamo_MishinMehlPapaconstantopoulos_2002_NiAl__MO_109933561507_005',\n",
       " 'EAM_Dynamo_Mishin_2004_NiAl__MO_101214310689_005',\n",
       " 'EAM_Dynamo_PunMishin_2009_NiAl__MO_751354403791_005',\n",
       " 'EAM_Dynamo_PunYamakovMishin_2013_AlCo__MO_678952612413_000',\n",
       " 'EAM_Dynamo_PunYamakovMishin_2013_NiAlCo__MO_826591359508_000',\n",
       " 'EAM_Dynamo_SchopfBrommerFrigan_2012_AlMnPd__MO_137572817842_000',\n",
       " 'EAM_Dynamo_SturgeonLaird_2000_Al__MO_120808805541_005',\n",
       " 'EAM_Dynamo_VailheFarkas_1997_CoAl__MO_284963179498_005',\n",
       " 'EAM_Dynamo_WineyKubotaGupta_2010_Al__MO_149316865608_005',\n",
       " 'EAM_Dynamo_Zhakhovsky_2009_Al__MO_519613893196_000',\n",
       " 'EAM_Dynamo_ZhouJohnsonWadley_2004NISTretabulation_Al__MO_060567868558_000',\n",
       " 'EAM_Dynamo_ZhouJohnsonWadley_2004_Al__MO_131650261510_005',\n",
       " 'EAM_Dynamo_ZhouWadleyJohnson_2001_Al__MO_049243498555_000',\n",
       " 'EAM_Dynamo_ZopeMishin_2003_Al__MO_664470114311_005',\n",
       " 'EAM_Dynamo_ZopeMishin_2003_TiAl__MO_117656786760_005',\n",
       " 'EAM_ErcolessiAdams_1994_Al__MO_324507536345_003',\n",
       " 'EAM_IMD_BrommerGaehler_2006A_AlNiCo__MO_122703700223_003',\n",
       " 'EAM_IMD_BrommerGaehler_2006B_AlNiCo__MO_128037485276_003',\n",
       " 'EAM_IMD_SchopfBrommerFrigan_2012_AlMnPd__MO_878712978062_003',\n",
       " 'EAM_QuinticClampedSpline_ErcolessiAdams_1994_Al__MO_450093727396_002',\n",
       " 'EAM_QuinticHermiteSpline_ErcolessiAdams_1994_Al__MO_781138671863_002',\n",
       " 'EMT_Asap_Standard_JacobsenStoltzeNorskov_1996_AlAgAuCuNiPdPt__MO_115316750986_001',\n",
       " 'EMT_Asap_Standard_JacobsenStoltzeNorskov_1996_Al__MO_623376124862_001',\n",
       " 'MEAM_LAMMPS_AlmyrasSangiovanniSarakinos_2019_NAlTi__MO_958395190627_000',\n",
       " 'MEAM_LAMMPS_CostaAgrenClavaguera_2007_AlNi__MO_131642768288_000',\n",
       " 'MEAM_LAMMPS_DongKimKo_2012_CoAl__MO_099716416216_000',\n",
       " 'MEAM_LAMMPS_JelinekGrohHorstemeyer_2012_AlSiMgCuFe__MO_262519520678_000',\n",
       " 'MEAM_LAMMPS_JeongParkDo_2018_PdAl__MO_616482358807_000',\n",
       " 'MEAM_LAMMPS_KimJungLee_2015_NiAlCo__MO_876687166519_000',\n",
       " 'MEAM_LAMMPS_KimKimJung_2016_AlTi__MO_618133763375_000',\n",
       " 'MEAM_LAMMPS_KimKimJung_2017_NiAlTi__MO_478967255435_000',\n",
       " 'MEAM_LAMMPS_KimKimLee_2009_AlMg__MO_058537087384_000',\n",
       " 'MEAM_LAMMPS_KimSeolJi_2017_PtAl__MO_793141037706_000',\n",
       " 'MEAM_LAMMPS_KoShimLee_2011_AlH__MO_127847080751_000',\n",
       " 'MEAM_LAMMPS_LeeLee_2010_FeAl__MO_332211522050_000',\n",
       " 'MEAM_LAMMPS_PascuetFernandez_2015_AlU__MO_596300673917_000',\n",
       " 'MEAM_LAMMPS_PascuetFernandez_2015_Al__MO_315820974149_000',\n",
       " 'MEAM_LAMMPS_ShimKoKim_2013_AlVH__MO_344724145339_000',\n",
       " 'Morse_Shifted_GirifalcoWeizer_1959HighCutoff_Al__MO_140175748626_004',\n",
       " 'Morse_Shifted_GirifalcoWeizer_1959LowCutoff_Al__MO_411898953661_004',\n",
       " 'Morse_Shifted_GirifalcoWeizer_1959MedCutoff_Al__MO_279544746097_004',\n",
       " 'Sim_LAMMPS_ADP_ApostolMishin_2011_AlCu__SM_667696763561_000',\n",
       " 'Sim_LAMMPS_ADP_StarikovGordeevLysogorskiy_2020_SiAuAl__SM_113843830602_000',\n",
       " 'Sim_LAMMPS_AGNI_BotuBatraChapman_2017_Al__SM_666183636896_000',\n",
       " 'Sim_LAMMPS_BOP_ZhouWardFoster_2016_AlCu__SM_566399258279_000',\n",
       " 'Sim_LAMMPS_MEAM_AlmyrasSangiovanniSarakinos_2019_NAlTi__SM_871795249052_000',\n",
       " 'Sim_LAMMPS_MEAM_JelinekGrohHorstemeyer_2012_AlSiMgCuFe__SM_656517352485_000',\n",
       " 'Sim_LAMMPS_MEAM_PascuetFernandez_2015_AlU__SM_721930391003_000',\n",
       " 'Sim_LAMMPS_MEAM_PascuetFernandez_2015_Al__SM_811588957187_000',\n",
       " 'Sim_LAMMPS_SMTBQ_SallesPolitanoAmzallag_2016_AlO__SM_853967355976_000',\n",
       " 'Sim_LAMMPS_SMTBQ_SallesPolitanoAmzallag_2016_Al__SM_404097633924_000']"
      ]
     },
     "execution_count": 12,
     "metadata": {},
     "output_type": "execute_result"
    }
   ],
   "source": [
    "job.list_potentials()"
   ]
  },
  {
   "cell_type": "code",
   "execution_count": 13,
   "id": "b17c90ba-d950-46a1-9b3e-8bbf94b8d568",
   "metadata": {},
   "outputs": [],
   "source": [
    "job.potential = '1999--Mishin-Y--Al--LAMMPS--ipr1'"
   ]
  },
  {
   "cell_type": "code",
   "execution_count": 14,
   "id": "cac7ea76-82f0-4ab3-a117-fb89b977adb6",
   "metadata": {},
   "outputs": [
    {
     "data": {
      "text/html": [
       "<div>\n",
       "<style scoped>\n",
       "    .dataframe tbody tr th:only-of-type {\n",
       "        vertical-align: middle;\n",
       "    }\n",
       "\n",
       "    .dataframe tbody tr th {\n",
       "        vertical-align: top;\n",
       "    }\n",
       "\n",
       "    .dataframe thead th {\n",
       "        text-align: right;\n",
       "    }\n",
       "</style>\n",
       "<table border=\"1\" class=\"dataframe\">\n",
       "  <thead>\n",
       "    <tr style=\"text-align: right;\">\n",
       "      <th></th>\n",
       "      <th>Parameter</th>\n",
       "      <th>Value</th>\n",
       "      <th>Comment</th>\n",
       "    </tr>\n",
       "  </thead>\n",
       "  <tbody>\n",
       "    <tr>\n",
       "      <th>0</th>\n",
       "      <td>units</td>\n",
       "      <td>metal</td>\n",
       "      <td></td>\n",
       "    </tr>\n",
       "    <tr>\n",
       "      <th>1</th>\n",
       "      <td>dimension</td>\n",
       "      <td>3</td>\n",
       "      <td></td>\n",
       "    </tr>\n",
       "    <tr>\n",
       "      <th>2</th>\n",
       "      <td>boundary</td>\n",
       "      <td>p p p</td>\n",
       "      <td></td>\n",
       "    </tr>\n",
       "    <tr>\n",
       "      <th>3</th>\n",
       "      <td>atom_style</td>\n",
       "      <td>atomic</td>\n",
       "      <td></td>\n",
       "    </tr>\n",
       "    <tr>\n",
       "      <th>4</th>\n",
       "      <td>read_data</td>\n",
       "      <td>structure.inp</td>\n",
       "      <td></td>\n",
       "    </tr>\n",
       "    <tr>\n",
       "      <th>5</th>\n",
       "      <td>include</td>\n",
       "      <td>potential.inp</td>\n",
       "      <td></td>\n",
       "    </tr>\n",
       "    <tr>\n",
       "      <th>6</th>\n",
       "      <td>fix___ensemble</td>\n",
       "      <td>all nvt temp 500.0 500.0 0.1</td>\n",
       "      <td></td>\n",
       "    </tr>\n",
       "    <tr>\n",
       "      <th>7</th>\n",
       "      <td>variable___dumptime</td>\n",
       "      <td>equal 100</td>\n",
       "      <td></td>\n",
       "    </tr>\n",
       "    <tr>\n",
       "      <th>8</th>\n",
       "      <td>variable___thermotime</td>\n",
       "      <td>equal 100</td>\n",
       "      <td></td>\n",
       "    </tr>\n",
       "    <tr>\n",
       "      <th>9</th>\n",
       "      <td>timestep</td>\n",
       "      <td>0.001</td>\n",
       "      <td></td>\n",
       "    </tr>\n",
       "    <tr>\n",
       "      <th>10</th>\n",
       "      <td>velocity</td>\n",
       "      <td>all create 1000.0 61040 dist gaussian</td>\n",
       "      <td></td>\n",
       "    </tr>\n",
       "    <tr>\n",
       "      <th>11</th>\n",
       "      <td>dump___1</td>\n",
       "      <td>all custom ${dumptime} dump.out id type xsu ysu zsu fx fy fz vx vy vz</td>\n",
       "      <td></td>\n",
       "    </tr>\n",
       "    <tr>\n",
       "      <th>12</th>\n",
       "      <td>dump_modify___1</td>\n",
       "      <td>sort id format line \"%d %d %20.15g %20.15g %20.15g %20.15g %20.15g %20.15g %20.15g %20.15g %20.15g\"</td>\n",
       "      <td></td>\n",
       "    </tr>\n",
       "    <tr>\n",
       "      <th>13</th>\n",
       "      <td>thermo_style</td>\n",
       "      <td>custom step temp pe etotal pxx pxy pxz pyy pyz pzz vol</td>\n",
       "      <td></td>\n",
       "    </tr>\n",
       "    <tr>\n",
       "      <th>14</th>\n",
       "      <td>thermo_modify</td>\n",
       "      <td>format float %20.15g</td>\n",
       "      <td></td>\n",
       "    </tr>\n",
       "    <tr>\n",
       "      <th>15</th>\n",
       "      <td>thermo</td>\n",
       "      <td>${thermotime}</td>\n",
       "      <td></td>\n",
       "    </tr>\n",
       "    <tr>\n",
       "      <th>16</th>\n",
       "      <td>run</td>\n",
       "      <td>10000</td>\n",
       "      <td></td>\n",
       "    </tr>\n",
       "  </tbody>\n",
       "</table>\n",
       "</div>"
      ],
      "text/plain": [
       "                Parameter  \\\n",
       "0                   units   \n",
       "1               dimension   \n",
       "2                boundary   \n",
       "3              atom_style   \n",
       "4               read_data   \n",
       "5                 include   \n",
       "6          fix___ensemble   \n",
       "7     variable___dumptime   \n",
       "8   variable___thermotime   \n",
       "9                timestep   \n",
       "10               velocity   \n",
       "11               dump___1   \n",
       "12        dump_modify___1   \n",
       "13           thermo_style   \n",
       "14          thermo_modify   \n",
       "15                 thermo   \n",
       "16                    run   \n",
       "\n",
       "                                                                                                  Value  \\\n",
       "0                                                                                                 metal   \n",
       "1                                                                                                     3   \n",
       "2                                                                                                 p p p   \n",
       "3                                                                                                atomic   \n",
       "4                                                                                         structure.inp   \n",
       "5                                                                                         potential.inp   \n",
       "6                                                                          all nvt temp 500.0 500.0 0.1   \n",
       "7                                                                                            equal 100    \n",
       "8                                                                                            equal 100    \n",
       "9                                                                                                 0.001   \n",
       "10                                                                all create 1000.0 61040 dist gaussian   \n",
       "11                                all custom ${dumptime} dump.out id type xsu ysu zsu fx fy fz vx vy vz   \n",
       "12  sort id format line \"%d %d %20.15g %20.15g %20.15g %20.15g %20.15g %20.15g %20.15g %20.15g %20.15g\"   \n",
       "13                                               custom step temp pe etotal pxx pxy pxz pyy pyz pzz vol   \n",
       "14                                                                                 format float %20.15g   \n",
       "15                                                                                        ${thermotime}   \n",
       "16                                                                                                10000   \n",
       "\n",
       "   Comment  \n",
       "0           \n",
       "1           \n",
       "2           \n",
       "3           \n",
       "4           \n",
       "5           \n",
       "6           \n",
       "7           \n",
       "8           \n",
       "9           \n",
       "10          \n",
       "11          \n",
       "12          \n",
       "13          \n",
       "14          \n",
       "15          \n",
       "16          "
      ]
     },
     "execution_count": 14,
     "metadata": {},
     "output_type": "execute_result"
    }
   ],
   "source": [
    "job.input.control"
   ]
  },
  {
   "cell_type": "code",
   "execution_count": 15,
   "id": "1cdc0e8c-7244-4f3e-9e5b-9d11fb0f2a7a",
   "metadata": {},
   "outputs": [
    {
     "name": "stderr",
     "output_type": "stream",
     "text": [
      "/home/janssen/mambaforge/lib/python3.10/site-packages/pyiron_base/storage/parameters.py:280: UserWarning: The input in GenericParameters changed, while the state of the job was already finished.\n",
      "  warnings.warn(\n"
     ]
    }
   ],
   "source": [
    "job.input.control[\"run\"] = 10"
   ]
  },
  {
   "cell_type": "code",
   "execution_count": 16,
   "id": "b83d0a0f-e4a6-419e-a80d-f859326a2e62",
   "metadata": {},
   "outputs": [],
   "source": [
    "job.calc_md(temperature=500.0, n_ionic_steps=10000)"
   ]
  },
  {
   "cell_type": "code",
   "execution_count": 17,
   "id": "39996077-a72c-4c4b-979d-75b1018cef7c",
   "metadata": {},
   "outputs": [
    {
     "data": {
      "text/html": [
       "<div>\n",
       "<style scoped>\n",
       "    .dataframe tbody tr th:only-of-type {\n",
       "        vertical-align: middle;\n",
       "    }\n",
       "\n",
       "    .dataframe tbody tr th {\n",
       "        vertical-align: top;\n",
       "    }\n",
       "\n",
       "    .dataframe thead th {\n",
       "        text-align: right;\n",
       "    }\n",
       "</style>\n",
       "<table border=\"1\" class=\"dataframe\">\n",
       "  <thead>\n",
       "    <tr style=\"text-align: right;\">\n",
       "      <th></th>\n",
       "      <th>Parameter</th>\n",
       "      <th>Value</th>\n",
       "      <th>Comment</th>\n",
       "    </tr>\n",
       "  </thead>\n",
       "  <tbody>\n",
       "    <tr>\n",
       "      <th>0</th>\n",
       "      <td>units</td>\n",
       "      <td>metal</td>\n",
       "      <td></td>\n",
       "    </tr>\n",
       "    <tr>\n",
       "      <th>1</th>\n",
       "      <td>dimension</td>\n",
       "      <td>3</td>\n",
       "      <td></td>\n",
       "    </tr>\n",
       "    <tr>\n",
       "      <th>2</th>\n",
       "      <td>boundary</td>\n",
       "      <td>p p p</td>\n",
       "      <td></td>\n",
       "    </tr>\n",
       "    <tr>\n",
       "      <th>3</th>\n",
       "      <td>atom_style</td>\n",
       "      <td>atomic</td>\n",
       "      <td></td>\n",
       "    </tr>\n",
       "    <tr>\n",
       "      <th>4</th>\n",
       "      <td>read_data</td>\n",
       "      <td>structure.inp</td>\n",
       "      <td></td>\n",
       "    </tr>\n",
       "    <tr>\n",
       "      <th>5</th>\n",
       "      <td>include</td>\n",
       "      <td>potential.inp</td>\n",
       "      <td></td>\n",
       "    </tr>\n",
       "    <tr>\n",
       "      <th>6</th>\n",
       "      <td>fix___ensemble</td>\n",
       "      <td>all nvt temp 500.0 500.0 0.1</td>\n",
       "      <td></td>\n",
       "    </tr>\n",
       "    <tr>\n",
       "      <th>7</th>\n",
       "      <td>variable___dumptime</td>\n",
       "      <td>equal 100</td>\n",
       "      <td></td>\n",
       "    </tr>\n",
       "    <tr>\n",
       "      <th>8</th>\n",
       "      <td>variable___thermotime</td>\n",
       "      <td>equal 100</td>\n",
       "      <td></td>\n",
       "    </tr>\n",
       "    <tr>\n",
       "      <th>9</th>\n",
       "      <td>timestep</td>\n",
       "      <td>0.001</td>\n",
       "      <td></td>\n",
       "    </tr>\n",
       "    <tr>\n",
       "      <th>10</th>\n",
       "      <td>velocity</td>\n",
       "      <td>all create 1000.0 61040 dist gaussian</td>\n",
       "      <td></td>\n",
       "    </tr>\n",
       "    <tr>\n",
       "      <th>11</th>\n",
       "      <td>dump___1</td>\n",
       "      <td>all custom ${dumptime} dump.out id type xsu ysu zsu fx fy fz vx vy vz</td>\n",
       "      <td></td>\n",
       "    </tr>\n",
       "    <tr>\n",
       "      <th>12</th>\n",
       "      <td>dump_modify___1</td>\n",
       "      <td>sort id format line \"%d %d %20.15g %20.15g %20.15g %20.15g %20.15g %20.15g %20.15g %20.15g %20.15g\"</td>\n",
       "      <td></td>\n",
       "    </tr>\n",
       "    <tr>\n",
       "      <th>13</th>\n",
       "      <td>thermo_style</td>\n",
       "      <td>custom step temp pe etotal pxx pxy pxz pyy pyz pzz vol</td>\n",
       "      <td></td>\n",
       "    </tr>\n",
       "    <tr>\n",
       "      <th>14</th>\n",
       "      <td>thermo_modify</td>\n",
       "      <td>format float %20.15g</td>\n",
       "      <td></td>\n",
       "    </tr>\n",
       "    <tr>\n",
       "      <th>15</th>\n",
       "      <td>thermo</td>\n",
       "      <td>${thermotime}</td>\n",
       "      <td></td>\n",
       "    </tr>\n",
       "    <tr>\n",
       "      <th>16</th>\n",
       "      <td>run</td>\n",
       "      <td>10000</td>\n",
       "      <td></td>\n",
       "    </tr>\n",
       "  </tbody>\n",
       "</table>\n",
       "</div>"
      ],
      "text/plain": [
       "                Parameter  \\\n",
       "0                   units   \n",
       "1               dimension   \n",
       "2                boundary   \n",
       "3              atom_style   \n",
       "4               read_data   \n",
       "5                 include   \n",
       "6          fix___ensemble   \n",
       "7     variable___dumptime   \n",
       "8   variable___thermotime   \n",
       "9                timestep   \n",
       "10               velocity   \n",
       "11               dump___1   \n",
       "12        dump_modify___1   \n",
       "13           thermo_style   \n",
       "14          thermo_modify   \n",
       "15                 thermo   \n",
       "16                    run   \n",
       "\n",
       "                                                                                                  Value  \\\n",
       "0                                                                                                 metal   \n",
       "1                                                                                                     3   \n",
       "2                                                                                                 p p p   \n",
       "3                                                                                                atomic   \n",
       "4                                                                                         structure.inp   \n",
       "5                                                                                         potential.inp   \n",
       "6                                                                          all nvt temp 500.0 500.0 0.1   \n",
       "7                                                                                            equal 100    \n",
       "8                                                                                            equal 100    \n",
       "9                                                                                                 0.001   \n",
       "10                                                                all create 1000.0 61040 dist gaussian   \n",
       "11                                all custom ${dumptime} dump.out id type xsu ysu zsu fx fy fz vx vy vz   \n",
       "12  sort id format line \"%d %d %20.15g %20.15g %20.15g %20.15g %20.15g %20.15g %20.15g %20.15g %20.15g\"   \n",
       "13                                               custom step temp pe etotal pxx pxy pxz pyy pyz pzz vol   \n",
       "14                                                                                 format float %20.15g   \n",
       "15                                                                                        ${thermotime}   \n",
       "16                                                                                                10000   \n",
       "\n",
       "   Comment  \n",
       "0           \n",
       "1           \n",
       "2           \n",
       "3           \n",
       "4           \n",
       "5           \n",
       "6           \n",
       "7           \n",
       "8           \n",
       "9           \n",
       "10          \n",
       "11          \n",
       "12          \n",
       "13          \n",
       "14          \n",
       "15          \n",
       "16          "
      ]
     },
     "execution_count": 17,
     "metadata": {},
     "output_type": "execute_result"
    }
   ],
   "source": [
    "job.input.control"
   ]
  },
  {
   "cell_type": "code",
   "execution_count": 18,
   "id": "cb755cbc-3643-48f6-9257-f5f122a158da",
   "metadata": {},
   "outputs": [
    {
     "data": {
      "text/plain": [
       "\u001b[0;31mSignature:\u001b[0m \u001b[0mjob\u001b[0m\u001b[0;34m.\u001b[0m\u001b[0minput\u001b[0m\u001b[0;34m.\u001b[0m\u001b[0mcontrol\u001b[0m\u001b[0;34m.\u001b[0m\u001b[0mload_string\u001b[0m\u001b[0;34m(\u001b[0m\u001b[0minput_str\u001b[0m\u001b[0;34m)\u001b[0m\u001b[0;34m\u001b[0m\u001b[0;34m\u001b[0m\u001b[0m\n",
       "\u001b[0;31mDocstring:\u001b[0m\n",
       "Load a multi line string to overwrite the current parameter settings\n",
       "\n",
       "Args:\n",
       "    input_str (str): multi line string\n",
       "\u001b[0;31mFile:\u001b[0m      ~/mambaforge/lib/python3.10/site-packages/pyiron_base/storage/parameters.py\n",
       "\u001b[0;31mType:\u001b[0m      method"
      ]
     },
     "metadata": {},
     "output_type": "display_data"
    }
   ],
   "source": [
    "job.input.control.load_string?"
   ]
  },
  {
   "cell_type": "code",
   "execution_count": 19,
   "id": "ca14438b-3cb7-49f3-a7ad-c0ba76005998",
   "metadata": {},
   "outputs": [
    {
     "data": {
      "text/plain": [
       "['flux']"
      ]
     },
     "execution_count": 19,
     "metadata": {},
     "output_type": "execute_result"
    }
   ],
   "source": [
    "job.server.list_queues()"
   ]
  },
  {
   "cell_type": "code",
   "execution_count": 20,
   "id": "1ba41de8-22cd-4d60-a8a0-a1e404937eeb",
   "metadata": {},
   "outputs": [
    {
     "data": {
      "text/html": [
       "<div>\n",
       "<style scoped>\n",
       "    .dataframe tbody tr th:only-of-type {\n",
       "        vertical-align: middle;\n",
       "    }\n",
       "\n",
       "    .dataframe tbody tr th {\n",
       "        vertical-align: top;\n",
       "    }\n",
       "\n",
       "    .dataframe thead th {\n",
       "        text-align: right;\n",
       "    }\n",
       "</style>\n",
       "<table border=\"1\" class=\"dataframe\">\n",
       "  <thead>\n",
       "    <tr style=\"text-align: right;\">\n",
       "      <th></th>\n",
       "      <th>cores_max</th>\n",
       "      <th>cores_min</th>\n",
       "      <th>memory_max</th>\n",
       "      <th>run_time_max</th>\n",
       "    </tr>\n",
       "  </thead>\n",
       "  <tbody>\n",
       "    <tr>\n",
       "      <th>flux</th>\n",
       "      <td>12</td>\n",
       "      <td>1</td>\n",
       "      <td>None</td>\n",
       "      <td>172800</td>\n",
       "    </tr>\n",
       "  </tbody>\n",
       "</table>\n",
       "</div>"
      ],
      "text/plain": [
       "     cores_max cores_min memory_max run_time_max\n",
       "flux        12         1       None       172800"
      ]
     },
     "execution_count": 20,
     "metadata": {},
     "output_type": "execute_result"
    }
   ],
   "source": [
    "job.server.view_queues()"
   ]
  },
  {
   "cell_type": "code",
   "execution_count": 21,
   "id": "11cf5e21-d93d-4b36-8a48-99322445f99d",
   "metadata": {},
   "outputs": [
    {
     "name": "stderr",
     "output_type": "stream",
     "text": [
      "2023-08-11 12:52:57,488 - pyiron_log - WARNING - The job lmp is being loaded instead of running. To re-run use the argument 'delete_existing_job=True in create_job'\n"
     ]
    }
   ],
   "source": [
    "job.run()"
   ]
  },
  {
   "cell_type": "code",
   "execution_count": 22,
   "id": "4d458c95-2027-485e-a1a6-ad045bb14871",
   "metadata": {},
   "outputs": [
    {
     "data": {
      "text/html": [
       "<div>\n",
       "<style scoped>\n",
       "    .dataframe tbody tr th:only-of-type {\n",
       "        vertical-align: middle;\n",
       "    }\n",
       "\n",
       "    .dataframe tbody tr th {\n",
       "        vertical-align: top;\n",
       "    }\n",
       "\n",
       "    .dataframe thead th {\n",
       "        text-align: right;\n",
       "    }\n",
       "</style>\n",
       "<table border=\"1\" class=\"dataframe\">\n",
       "  <thead>\n",
       "    <tr style=\"text-align: right;\">\n",
       "      <th></th>\n",
       "      <th>id</th>\n",
       "      <th>status</th>\n",
       "      <th>chemicalformula</th>\n",
       "      <th>job</th>\n",
       "      <th>subjob</th>\n",
       "      <th>projectpath</th>\n",
       "      <th>project</th>\n",
       "      <th>timestart</th>\n",
       "      <th>timestop</th>\n",
       "      <th>totalcputime</th>\n",
       "      <th>computer</th>\n",
       "      <th>hamilton</th>\n",
       "      <th>hamversion</th>\n",
       "      <th>parentid</th>\n",
       "      <th>masterid</th>\n",
       "    </tr>\n",
       "  </thead>\n",
       "  <tbody>\n",
       "    <tr>\n",
       "      <th>0</th>\n",
       "      <td>21751</td>\n",
       "      <td>finished</td>\n",
       "      <td>Al4</td>\n",
       "      <td>lmp</td>\n",
       "      <td>/lmp</td>\n",
       "      <td>/home/janssen/pyiron/projects/</td>\n",
       "      <td>2023-08-11-lammps-workshop/demo/</td>\n",
       "      <td>2023-08-11 12:21:17.571885</td>\n",
       "      <td>2023-08-11 12:21:18.193762</td>\n",
       "      <td>0.0</td>\n",
       "      <td>pyiron@ljubi#1</td>\n",
       "      <td>Lammps</td>\n",
       "      <td>0.1</td>\n",
       "      <td>None</td>\n",
       "      <td>None</td>\n",
       "    </tr>\n",
       "  </tbody>\n",
       "</table>\n",
       "</div>"
      ],
      "text/plain": [
       "      id    status chemicalformula  job subjob  \\\n",
       "0  21751  finished             Al4  lmp   /lmp   \n",
       "\n",
       "                      projectpath                           project  \\\n",
       "0  /home/janssen/pyiron/projects/  2023-08-11-lammps-workshop/demo/   \n",
       "\n",
       "                   timestart                   timestop  totalcputime  \\\n",
       "0 2023-08-11 12:21:17.571885 2023-08-11 12:21:18.193762           0.0   \n",
       "\n",
       "         computer hamilton hamversion parentid masterid  \n",
       "0  pyiron@ljubi#1   Lammps        0.1     None     None  "
      ]
     },
     "execution_count": 22,
     "metadata": {},
     "output_type": "execute_result"
    }
   ],
   "source": [
    "pr.job_table()"
   ]
  },
  {
   "cell_type": "markdown",
   "id": "46f944a8-7b82-4e94-a9df-0b421042234a",
   "metadata": {},
   "source": [
    "# Analysis"
   ]
  },
  {
   "cell_type": "code",
   "execution_count": 23,
   "id": "3253116f-1a25-4929-ba53-8428b85e3cdc",
   "metadata": {},
   "outputs": [
    {
     "data": {
      "text/plain": [
       "array([1000.        ,  752.0015943 ,  581.97828295,  565.88498131,\n",
       "        498.64163307,  619.46212912,  839.79469054,  735.46121047,\n",
       "        490.9818782 ,  425.72892636,  511.25870675,  728.11331086,\n",
       "        979.29177938,  779.08050078,  318.19269923,  319.76544017,\n",
       "        615.98147637,  764.33185652,  537.13919302,  566.83533086,\n",
       "        324.06236624,  239.681096  ,  357.65958767,  529.71207802,\n",
       "        678.65954585, 1017.29045232,  965.27929927,  538.05571921,\n",
       "        415.48645095,  441.8216159 ,  609.74969834,  696.54891985,\n",
       "        589.34487532,  512.24203853,  411.42514663,  243.03455806,\n",
       "        223.14397594,  373.19610873,  458.5817006 ,  564.98024262,\n",
       "        788.10126229,  546.27031088,  342.6747628 ,  328.98287765,\n",
       "        399.97450592,  607.28820557,  734.54679262,  727.88113948,\n",
       "        744.91136117,  503.00152276,  275.34234858,  319.44515758,\n",
       "        638.80953199,  603.46319087,  658.63014981,  408.61543622,\n",
       "        214.18100485,  172.29883429,  136.02885008,  178.75290088,\n",
       "        275.3730367 ,  512.79746057,  718.8203184 ,  537.29244852,\n",
       "        242.26061934,  233.39828518,  316.69127405,  171.43394863,\n",
       "        166.37733062,  533.3350456 ,  469.09494053,  358.06977249,\n",
       "        482.30113254,  429.48687577,  367.35969121,  677.47890948,\n",
       "        751.07498074,  516.81094117,  443.34143158,  379.24775963,\n",
       "        498.15543097,  869.38443683, 1093.11902342,  850.26532134,\n",
       "        573.17328841,  563.33684203,  704.39942526, 1092.24591094,\n",
       "       1259.10019361,  866.66215626,  529.51239522,  519.50456174,\n",
       "        529.78547674,  411.20641589,  567.71018046,  759.89599555,\n",
       "        384.52677489,  334.85213855,  371.31468598,  503.71616875,\n",
       "        874.70226638])"
      ]
     },
     "execution_count": 23,
     "metadata": {},
     "output_type": "execute_result"
    }
   ],
   "source": [
    "job.output.temperature"
   ]
  },
  {
   "cell_type": "code",
   "execution_count": 24,
   "id": "9ef394fb-b0bc-42a0-84c2-8ecfa0addcc6",
   "metadata": {},
   "outputs": [],
   "source": [
    "import matplotlib.pyplot as plt"
   ]
  },
  {
   "cell_type": "code",
   "execution_count": 25,
   "id": "c8f7240b-fc6a-45df-ba75-4a54bd58031f",
   "metadata": {},
   "outputs": [
    {
     "data": {
      "text/plain": [
       "Text(0, 0.5, 'Temperature K')"
      ]
     },
     "execution_count": 25,
     "metadata": {},
     "output_type": "execute_result"
    },
    {
     "data": {
      "image/png": "[encoded data removed]",
      "text/plain": [
       "<Figure size 640x480 with 1 Axes>"
      ]
     },
     "metadata": {},
     "output_type": "display_data"
    }
   ],
   "source": [
    "plt.plot(job.output.steps, job.output.temperature)\n",
    "plt.xlabel(\"Timestep\")\n",
    "plt.ylabel(\"Temperature K\")"
   ]
  },
  {
   "cell_type": "markdown",
   "id": "b7a36bd6-48f2-4161-af90-c7f40a7e37d0",
   "metadata": {},
   "source": [
    "# Access output "
   ]
  },
  {
   "cell_type": "code",
   "execution_count": 26,
   "id": "6b0ac0ca-1110-4a14-9148-bf3fa57abc51",
   "metadata": {},
   "outputs": [
    {
     "data": {
      "text/plain": [
       "array([1000.        ,  752.0015943 ,  581.97828295,  565.88498131,\n",
       "        498.64163307,  619.46212912,  839.79469054,  735.46121047,\n",
       "        490.9818782 ,  425.72892636,  511.25870675,  728.11331086,\n",
       "        979.29177938,  779.08050078,  318.19269923,  319.76544017,\n",
       "        615.98147637,  764.33185652,  537.13919302,  566.83533086,\n",
       "        324.06236624,  239.681096  ,  357.65958767,  529.71207802,\n",
       "        678.65954585, 1017.29045232,  965.27929927,  538.05571921,\n",
       "        415.48645095,  441.8216159 ,  609.74969834,  696.54891985,\n",
       "        589.34487532,  512.24203853,  411.42514663,  243.03455806,\n",
       "        223.14397594,  373.19610873,  458.5817006 ,  564.98024262,\n",
       "        788.10126229,  546.27031088,  342.6747628 ,  328.98287765,\n",
       "        399.97450592,  607.28820557,  734.54679262,  727.88113948,\n",
       "        744.91136117,  503.00152276,  275.34234858,  319.44515758,\n",
       "        638.80953199,  603.46319087,  658.63014981,  408.61543622,\n",
       "        214.18100485,  172.29883429,  136.02885008,  178.75290088,\n",
       "        275.3730367 ,  512.79746057,  718.8203184 ,  537.29244852,\n",
       "        242.26061934,  233.39828518,  316.69127405,  171.43394863,\n",
       "        166.37733062,  533.3350456 ,  469.09494053,  358.06977249,\n",
       "        482.30113254,  429.48687577,  367.35969121,  677.47890948,\n",
       "        751.07498074,  516.81094117,  443.34143158,  379.24775963,\n",
       "        498.15543097,  869.38443683, 1093.11902342,  850.26532134,\n",
       "        573.17328841,  563.33684203,  704.39942526, 1092.24591094,\n",
       "       1259.10019361,  866.66215626,  529.51239522,  519.50456174,\n",
       "        529.78547674,  411.20641589,  567.71018046,  759.89599555,\n",
       "        384.52677489,  334.85213855,  371.31468598,  503.71616875,\n",
       "        874.70226638])"
      ]
     },
     "execution_count": 26,
     "metadata": {},
     "output_type": "execute_result"
    }
   ],
   "source": [
    "job[\"output/generic/temperature\"]"
   ]
  },
  {
   "cell_type": "code",
   "execution_count": 27,
   "id": "7cd37f8c-aba7-4474-9ee8-642fe2a14e50",
   "metadata": {},
   "outputs": [],
   "source": [
    "job.decompress()"
   ]
  },
  {
   "cell_type": "code",
   "execution_count": 28,
   "id": "117afb67-56b6-43c7-a5d6-418644ee4f93",
   "metadata": {},
   "outputs": [
    {
     "data": {
      "text/plain": [
       "['LAMMPS (28 Mar 2023 - Update 1)\\n',\n",
       " 'units metal\\n',\n",
       " 'dimension 3\\n',\n",
       " 'boundary p p p\\n',\n",
       " 'atom_style atomic\\n',\n",
       " 'read_data structure.inp\\n',\n",
       " 'Reading data file ...\\n',\n",
       " '  orthogonal box = (0 0 0) to (4.05 4.05 4.05)\\n',\n",
       " '  1 by 1 by 1 MPI processor grid\\n',\n",
       " '  reading atoms ...\\n',\n",
       " '  4 atoms\\n',\n",
       " '  read_data CPU = 0.000 seconds\\n',\n",
       " 'include potential.inp\\n',\n",
       " 'pair_style eam/alloy\\n',\n",
       " 'pair_coeff * * Al99.eam.alloy Al\\n',\n",
       " 'fix ensemble all nvt temp 500.0 500.0 0.1\\n',\n",
       " 'variable dumptime  equal 100\\n',\n",
       " 'variable thermotime  equal 100\\n',\n",
       " 'timestep 0.001\\n',\n",
       " 'velocity all create 1000.0 61040 dist gaussian\\n',\n",
       " 'dump 1 all custom ${dumptime} dump.out id type xsu ysu zsu fx fy fz vx vy vz\\n',\n",
       " 'dump 1 all custom 100 dump.out id type xsu ysu zsu fx fy fz vx vy vz\\n',\n",
       " 'dump_modify 1 sort id format line \"%d %d %20.15g %20.15g %20.15g %20.15g %20.15g %20.15g %20.15g %20.15g %20.15g\"\\n',\n",
       " 'thermo_style custom step temp pe etotal pxx pxy pxz pyy pyz pzz vol\\n',\n",
       " 'thermo_modify format float %20.15g\\n',\n",
       " 'thermo ${thermotime}\\n',\n",
       " 'thermo 100\\n',\n",
       " 'run 10000\\n',\n",
       " 'Neighbor list info ...\\n',\n",
       " '  update: every = 1 steps, delay = 0 steps, check = yes\\n',\n",
       " '  max neighbors/atom: 2000, page size: 100000\\n',\n",
       " '  master list distance cutoff = 8.28721\\n',\n",
       " '  ghost atom cutoff = 8.28721\\n',\n",
       " '  binsize = 4.143605, bins = 1 1 1\\n',\n",
       " '  1 neighbor lists, perpetual/occasional/extra = 1 0 0\\n',\n",
       " '  (1) pair eam/alloy, perpetual\\n',\n",
       " '      attributes: half, newton on\\n',\n",
       " '      pair build: half/bin/atomonly/newton\\n',\n",
       " '      stencil: half/bin/3d\\n',\n",
       " '      bin: standard\\n',\n",
       " 'Per MPI rank memory allocation (min/avg/max) = 4.492 | 4.492 | 4.492 Mbytes\\n',\n",
       " '   Step          Temp          PotEng         TotEng          Pxx            Pxy            Pxz            Pyy            Pyz            Pzz           Volume    \\n',\n",
       " '         0                  1000    -13.4399999525399    -13.0522195175399     6625.59782087403    -7443.22978534659    -866.826476810976     11104.5819648942      2194.1609925506     983.150164376666            66.430125\\n',\n",
       " '       100      752.001594301928    -13.3510663255047    -13.0594548201456     14823.0879874269    -87.7928884692233     1137.71342997224     16898.6400048557    -556.480327719691     5238.13408507839            66.430125\\n',\n",
       " '       200      581.978282952345    -13.3078875458599    -13.0822077541361     17180.8414119011     3765.91742831798    -4994.82425608563     14413.9418378016     316.496079390417     12359.7074556628            66.430125\\n',\n",
       " '       300      565.884981307815    -13.3539313457144    -13.1344922215029     11697.6983345439    -3587.74213027796     3538.34815961484     8607.88003313948     456.848520957984     8323.49797764467            66.430125\\n',\n",
       " '       400      498.641633066463     -13.352845302581    -13.1594818332014     13524.9897448273    -4092.22622336295    -22.8578637074882     10785.2272865822     52.1007735309335     2402.44560863964            66.430125\\n',\n",
       " '       500      619.462129116665    -13.3350171997656    -13.0948019058707     17958.8214681728     5631.92615189808    -4683.45184381048     9426.59186549594     853.542008954574     5547.71875220764            66.430125\\n',\n",
       " '       600       839.79469054124    -13.2273588065167    -12.9017028561079      29646.057759672    -4376.58570315802     12883.3461258884     13007.4546584373    -4075.96903381633     20325.1020137433            66.430125\\n',\n",
       " '       700      735.461210468307    -13.1619021427079    -12.8767046745869     34541.0373388057    -3913.10999446247    -5898.16926402937      27960.756637454     9102.90986057353     16945.4696690426            66.430125\\n',\n",
       " '       800      490.981878204272    -13.3287811514583    -13.1383879851511     15207.6265869357     2604.44150480075    -2277.63773097276     9632.04642818511     -3267.0477650551     6649.69103185672            66.430125\\n',\n",
       " '       900      425.728926364381    -13.3636857835995    -13.1985964353418     11072.1651178264    -2388.62903563817     3841.62182909539     4472.81387189081    -1008.06117943329     6700.87950261038            66.430125\\n',\n",
       " '      1000      511.258706752416    -13.3413555242286    -13.1430994005267     11483.9756384329    -580.193183533776     419.224438274943     9997.74120624911     5312.66672569025     8697.86369127453            66.430125\\n',\n",
       " '      1100      728.113310861693    -13.2966923760874    -13.0143442796721     16671.5205830041      1778.6551306524    -3902.92933285756     16387.9791747922    -6561.58641306022     16665.0192773678            66.430125\\n',\n",
       " '      1200      979.291779381618    -13.3090297968583    -12.9292796046577     18218.5848290967    -1420.94293790538     5063.97815569781     8334.38851820968    -1565.23432174142     23078.1946158316            66.430125\\n',\n",
       " '      1300      779.080500782665    -13.3551498132323    -13.0530376377388     9964.80509648424     5581.70283586649     2266.25133132941     6885.46657604573     6938.98464634491     15768.7089705936            66.430125\\n',\n",
       " '      1400      318.192699225883    -13.3704538376724    -13.2470649343528     7051.58795899356    -4256.37544736247     -1591.1285874893      6919.5091290425    -1417.67795388745     8254.19514594419            66.430125\\n',\n",
       " '      1500      319.765440168471    -13.3568132807521    -13.2328144992656     9112.29108435426      3387.8729701242    -137.113664775729     6538.20425198815    -1047.65233045884     8660.43291870639            66.430125\\n',\n",
       " '      1600      615.981476372798    -13.3547568424816    -13.1158912776218     10457.8401099676     2627.09951606258     2660.10209009612     6104.30716788548     3094.54711505783     10076.5705265436            66.430125\\n',\n",
       " '      1700      764.331856522524    -13.2947172369479    -12.9983242971412      17612.076934005    -9248.05558862264     2133.34638366385     16132.1428743873    -243.316057110884     11990.0889085912            66.430125\\n',\n",
       " '      1800      537.139193016898    -13.2074937216187    -12.9992016516951     24538.4343114321     11521.2372419228    -5740.54081606686      21944.658609078    -1591.86167715659     17570.6190148991            66.430125\\n',\n",
       " '      1900       566.83533086309    -13.2923344851192    -13.0725268339437      15749.694475194     2202.69883385506     4249.25849421552     9635.80884750921     2878.99799253046     14323.9560881393            66.430125\\n',\n",
       " '      2000      324.062366242423    -13.3721440664564    -13.2464790211078     8096.41348533948    -3991.87463520647     173.732527810127     7046.64139720135    -1231.81279624193     3158.40741569049            66.430125\\n',\n",
       " '      2100      239.681096002017    -13.3866959758106    -13.2937523361416     6719.96261188474      2138.2036631951    -945.712305237015     6843.66646615247    -278.143942913025     1856.62724268544            66.430125\\n',\n",
       " '      2200       357.65958766798    -13.3819662568538     -13.243272866366     7770.66493934794     2452.44689746702     2031.83096401075     6370.10837862363     1714.57049307372      4787.5754100445            66.430125\\n',\n",
       " '      2300      529.712078016213    -13.3589535432661    -13.1535415632283     13435.5407287333    -3700.48318222738    -1525.69052968491     6635.66162250436    -3785.33368406697     8962.19281450725            66.430125\\n',\n",
       " '      2400      678.659545853821    -13.3370987958827    -13.0739279019746     20818.5104780164    -1722.41276406009     753.797375102893     11027.0935208412     1733.61144167237     7213.40108494733            66.430125\\n',\n",
       " '      2500      1017.29045232027    -13.3970413344091     -13.002556000287      15205.056136639     8835.34624476738    -677.236708831649     8515.84813862488    -455.581617864962     4143.91336415893            66.430125\\n',\n",
       " '      2600      965.279299268909    -13.3597277859385    -12.9854113593715     17625.5071296434    -2855.93388818345     2641.23564523235     11066.5377474625     -3688.8050038548     8229.44443131572            66.430125\\n',\n",
       " '      2700      538.055719209154     -13.323330818495    -13.1146833376458     19837.6839600348    -3331.94296851464    -3482.93101589635     10853.1281633261     598.888224458104     10139.2443307828            66.430125\\n',\n",
       " '      2800      415.486450946544    -13.3837808392278    -13.2226633225431     10246.1690417032     3854.67851978798     308.079989439478     4228.61083698263     212.288210157886     5578.02664997059            66.430125\\n',\n",
       " '      2900      441.821615897597    -13.3865264244753    -13.2151966460701     8833.32349803841     563.241532859981     2594.74248411042     5574.75609998888    -842.974402687681     3236.41184184962            66.430125\\n',\n",
       " '      3000      609.749698344084    -13.2817785622613    -13.0453295589963     21288.8858881321    -9431.42154896148    -7278.54662071598     16320.5623975099    -1454.46613708368     8754.14272763016            66.430125\\n',\n",
       " '      3100      696.548919854249    -13.2164679474397    -12.9463599042998     25469.1353652897     9481.98467143145     5770.67154263987     15739.0125372385     4910.51585263183      21445.869669254            66.430125\\n',\n",
       " '      3200      589.344875323352    -13.2371786637373    -13.0086422516194     21311.4769303811      1228.2971227164     676.213599502287     17537.8281071456    -4758.95300957477     14414.0907586438            66.430125\\n',\n",
       " '      3300      512.242038531633    -13.3054685268887    -13.1068310863616     15688.7076919394    -4738.83170050818    -6095.98118671537     14764.7938526357    -219.454631570647     6261.52705507109            66.430125\\n',\n",
       " '      3400      411.425146633112    -13.3524371077359    -13.1928944854046     9109.72863538115     3724.63762901728     5037.82482822487     6556.44291118351     2455.02291000244     8914.16565887104            66.430125\\n',\n",
       " '      3500      243.034558062904    -13.3926617457904    -13.2984176991448     4411.86432267834    -545.284053638995     318.045027389042     2619.41652682602    -274.899463540236     6789.20509380357            66.430125\\n',\n",
       " '      3600      223.143975938846    -13.4053295113547    -13.3187986432975     3765.71787170353    -1361.57265125758    -1985.82985925778     3181.50906881288    -1055.37833121373      4642.2835477156            66.430125\\n',\n",
       " '      3700       373.19610873208    -13.3748220904341    -13.2301039410497     8522.89109213249     5712.83116730573     1742.95971926498     7445.63837106997     2101.20835199428     5771.53869230508            66.430125\\n',\n",
       " '      3800      458.581700595601     -13.313447420925     -13.135618409585      13986.674300789     -4439.2105637272     6509.03257594852     9186.22321227263     2566.54817543673     14239.0488995424            66.430125\\n',\n",
       " '      3900      564.980242624691     -13.268005847791    -13.0489175635396     17055.5667270501     2039.96975709053    -12941.9254172493     11797.6801935846    -9490.71694590599     21442.2364886868            66.430125\\n',\n",
       " '      4000      788.101262294748    -13.2578419116047     -12.952231661288     20350.0518506765     984.787349881281     5642.79879112806     19067.2215547131     6721.24101271685     10281.6990306072            66.430125\\n',\n",
       " '      4100      546.270310884967    -13.1882331707149    -12.9764002319324      27745.357268099     1856.03065087389     8056.77555325637     23361.7109929698     5480.55234188888     15418.2956158992            66.430125\\n',\n",
       " '      4200      342.674762798481    -13.2997263985915      -13.16684383001     13574.1002794064     2083.67653023237     -8147.2471516568     10432.9141862608    -6273.51952444712     11965.0552784698            66.430125\\n',\n",
       " '      4300      328.982877647342     -13.357268419089    -13.2296952956873     8888.44213786885    -1957.46640893499     4230.59951640472     7567.34759095066     3278.20280505295     3786.24383909323            66.430125\\n',\n",
       " '      4400      399.974505919135    -13.3301610591127    -13.1750587712185     15155.3015620291     773.878762136857     383.151697698634     11209.4813060968    -453.562710031655     1382.63961757583            66.430125\\n',\n",
       " '      4500      607.288205570841    -13.2830406579364    -13.0475461734097     23153.7907286489     5133.93766216813    -9511.80670289714     12635.4971368606    -4267.16195373036     11583.6472208028            66.430125\\n',\n",
       " '      4600      734.546792621317    -13.3054903896753    -13.0206475149048     20011.2648201048     -5328.0907075166      10945.426860841     12030.0199194215     4477.64423388396     15280.6896161177            66.430125\\n',\n",
       " '      4700      727.881139482533    -13.3296515300005    -13.0473934651036     19203.5830523612     -1447.6367385771    -3441.59181290915     15555.8018025069    -2995.29456094738     6353.63403679939            66.430125\\n',\n",
       " '      4800      744.911361168068    -13.3891092782361    -13.1002472265659     12645.6712315307     6949.86020660159    -1770.67428487542     7529.64957979208     741.441145572394     4483.78238602476            66.430125\\n',\n",
       " '      4900      503.001522764098    -13.3734704276236    -13.1784162783204     11248.4399863908    -1756.86281241934     4970.79044760912     5917.96892340095    -114.982312351629     7560.45453736963            66.430125\\n',\n",
       " '      5000      275.342348584065    -13.3468610318343    -13.2400886561264      10800.651854302    -4184.03474985082    -1954.72211406221     9318.55282972239     532.913169526477     6736.31796783464            66.430125\\n',\n",
       " '      5100      319.445157582775      -13.35579281665    -13.2319182344839     7078.46855864508     6087.68502490788    -787.477080739088     9639.27070471255    -521.973612033357     5906.93817823271            66.430125\\n',\n",
       " '      5200      638.809531986736    -13.2974095129755    -13.0496916747796     10690.1819950034     1044.60209824009      3124.2750534991      15649.648784208     1398.19884900274     10268.1948097211            66.430125\\n',\n",
       " '      5300      603.463190871926    -13.1848520736102    -12.9508408549474     28703.6668858092     -15808.285599615     874.520094616148     27851.7553104292     1493.25318897105     13428.2919129649            66.430125\\n',\n",
       " '      5400      658.630149808988    -13.2628940867555    -13.0074902007584     19817.2061189338     10234.4264154496    -5526.60203506673     15778.3771830709    -3665.75473328894     15063.4677224546            66.430125\\n',\n",
       " '      5500      408.615436219916    -13.3074935296405    -13.1490404580354     11537.0177269845     2517.72486036752     1674.49038592385     12599.2247053026     3062.29481522397     9165.36948980144            66.430125\\n',\n",
       " '      5600      214.181004846646    -13.3352824813837    -13.2522272781555     10042.0347487875    -6791.92860405605     554.498964676772     10311.0907260387     36.4669900935877      5157.2182910593            66.430125\\n',\n",
       " '      5700      172.298834291888    -13.3707289928959    -13.3039148759842     6400.18178072042     5082.23616603447    -743.879626382557     4212.38766379057    -1378.76061157984     4559.27926112731            66.430125\\n',\n",
       " '      5800      136.028850081669    -13.3887752770879    -13.3360259504306     3926.79081461726    -276.695073654235    -910.828111422089      1036.7390223984     635.565770976792     4773.60247883934            66.430125\\n',\n",
       " '      5900       178.75290088311    -13.3488726347945    -13.2795557571326     7802.85665673096    -5280.15024991408     1993.56239714999      6170.8967141139     2586.04828746319     8112.00007388103            66.430125\\n',\n",
       " '      6000      275.373036698717    -13.2694475863946    -13.1626633104363     14672.8636484693      11995.964290812     -1801.1148631604     17933.0358480735    -8081.06565663138     12337.6147963397            66.430125\\n',\n",
       " '      6100      512.797460568173    -13.2454496515042    -13.0465968291782     18469.4529340031    -5968.29370303197    -7844.90086831589     16483.5511409443     7476.40659710538     17510.6914899744            66.430125\\n',\n",
       " '      6200      718.820318398019    -13.2294407269771    -12.9506962712219     22970.6367741134    -3963.68944123737     16889.8748124017     14261.2884007715     4128.60311750063     21732.7477926628            66.430125\\n',\n",
       " '      6300       537.29244851735    -13.1997390194405    -12.9913875200322       21046.44399146     8108.13333296496    -3799.35341153282      27468.132463863    -11298.3874186838     16096.9026193795            66.430125\\n',\n",
       " '      6400      242.260619340518    -13.2728185630642    -13.1788746347129     16059.4973806241    -3820.97489919767    -7435.07561094868      14533.670369733     5990.15197266297     11400.0064573487            66.430125\\n',\n",
       " '      6500      233.398285180173    -13.3275784920319    -13.2370712034764     11254.2609684994     1151.27569880809     8710.27252364146     6596.75931464323    -1576.61412084322     7561.63691264234            66.430125\\n',\n",
       " '      6600      316.691274048549    -13.3068262126309    -13.1840195326197     9931.98717398665    -428.170910495119     -3216.6621270373     9760.70644483179    -1656.72803613997     6150.39624007583            66.430125\\n',\n",
       " '      6700      171.433948628845    -13.1680774032779    -13.1015986721048     22152.1709952688    -5929.09887634124    -13400.8662631463      21123.484977994     6527.17128857872     16979.3158755078            66.430125\\n',\n",
       " '      6800      166.377330618575    -13.1326507357981    -13.0681328621567     26224.8126389432     8112.52187053912     18638.4133019284      23250.531120324    -6287.45339708243      22420.285186898            66.430125\\n',\n",
       " '      6900      533.335045599337    -13.2486760898958    -13.0418591939126     11912.8349541348    -5629.27790123737    -3264.41830974208     17090.9599841291      4604.3738520954     12214.1031482074            66.430125\\n',\n",
       " '      7000      469.094940533178    -13.2155509717412     -13.033645131645     19230.4622708079    -6423.64287033721    -15330.3949593156     19819.1886633363    -338.005721617695     15420.4516803404            66.430125\\n',\n",
       " '      7100      358.069772487474    -13.2104830987355    -13.0716306465999     21774.8981932935     11517.7195110654     13947.7917483598     23140.9852138709     -2207.5715215206     16454.4902510214            66.430125\\n',\n",
       " '      7200      482.301132542525    -13.3311541653604    -13.1441272223821     6071.08707595867    -6333.69858356555    -2692.42043145266     15307.8791600596     5370.20016828775     9327.79991743147            66.430125\\n',\n",
       " '      7300      429.486875766292    -13.3478004696329    -13.1812538621215     6892.97715707806    -3697.91926998771    -3435.11385980753     13034.5964312161    -3430.79609096981      7068.9489265742            66.430125\\n',\n",
       " '      7400      367.359691206823    -13.2675659741853    -13.1251110733277     19984.7695551153     13002.4061684046     5987.61045855143     17961.6108261008     638.716054343819     9804.79554332469            66.430125\\n',\n",
       " '      7500      677.478909479777    -13.1777750680053    -12.9150620017839     24720.9856816389    -13430.9207214661    -4790.46386875401     21847.9154731102     8831.32658069122      24595.062383959            66.430125\\n',\n",
       " '      7600      751.074980740868    -13.1765367908108    -12.8852846080614     21637.6961269886     -12047.390056172     372.264954324314     27828.8615954799    -8371.58421885642     23000.9742141646            66.430125\\n',\n",
       " '      7700      516.810941166969    -13.2544615011863    -13.0540523296078     20784.2805582267     16029.4698763303    -1464.54819207407     18752.0853885752    -294.422281638691     10449.6963153528            66.430125\\n',\n",
       " '      7800      443.341431583668    -13.2907014556401     -13.118782322447     15180.2896059221    -6919.72873377909     2104.43155237321     7008.17631779092     4773.15653781723     13808.6099740448            66.430125\\n',\n",
       " '      7900      379.247759631364     -13.251541922798    -13.1044770615954     18988.4994793144    -6283.25967216026    -218.156988130714     10989.8775232903    -5932.30021847363     16334.9890922027            66.430125\\n',\n",
       " '      8000      498.155430971824    -13.2492753058632    -13.0561003761433     22763.9100047029     16185.1059870204    -3610.92191369781     17255.0699407336     1226.05191440965     13087.7534705521            66.430125\\n',\n",
       " '      8100      869.384436832226    -13.2917247860436    -12.9545945109465     20522.7526891678    -12285.3805820924     5288.93041125218     10062.5242889147     2183.33372722819     15948.8562586509            66.430125\\n',\n",
       " '      8200      1093.11902341676    -13.2267926009059    -12.8029024304986     32886.1249824911    -3387.38461840213     384.931044419718     15754.0343659085    -5870.34420041017     20520.8105065561            66.430125\\n',\n",
       " '      8300         850.265321341    -13.2821231627655    -12.9524069065905     25662.8859757372     10896.0031726171     -6313.1836222938     19459.7030524433    -858.617706966621     9948.70732275628            66.430125\\n',\n",
       " '      8400      573.173288406115    -13.3734761765111    -13.1512107894026     10577.3039896081    -4588.00897185719     3919.25110554926     6341.82228703794     430.456404681648     8098.13939925982            66.430125\\n',\n",
       " '      8500      563.336842026792    -13.3888429956427      -13.17039198999     9264.26127591903     1461.95200572219     1616.69196463304     4396.36071912336     79.8760725744146     7605.95840580559            66.430125\\n',\n",
       " '      8600      704.399425255622    -13.3602845596818    -13.0871322441424     15456.4353909877     5251.83782484571    -3611.82091952748     11445.2357166518    -1277.93644202075     7045.26391464036            66.430125\\n',\n",
       " '      8700      1092.24591093621    -13.2782190842901    -12.8546674898203     25501.0405829234    -4181.63704343133     1350.61469079385     20135.5797752432     4513.33888820315      19821.697788226            66.430125\\n',\n",
       " '      8800      1259.10019361054    -13.3385539748237    -12.8502995540368     12535.7287048136     3163.49199179866     4929.39487783262     12820.6605708832     -3440.2420135181     23389.0415739445            66.430125\\n',\n",
       " '      8900      866.662156259006    -13.3450142275705    -13.0089395996183     14613.1253915239    -5548.29739807979    -4320.88481506945     10508.2800454874      -184.4649920624     12660.6469268201            66.430125\\n',\n",
       " '      9000      529.512395217305    -13.2605971749326    -13.0552626279774     23286.5303746273     9089.16756708102     2093.25524067014      15274.228688302     6068.56350435318     15814.1778482348            66.430125\\n',\n",
       " '      9100       519.50456174447    -13.2977244976144    -13.0962707926766     12512.4993952396    -3361.73696695038     1290.75642649497     12407.2521558807    -6869.14422265064     15255.9348753319            66.430125\\n',\n",
       " '      9200      529.785476741152    -13.3305984446017    -13.1251580019743     9225.04169980917    -6765.30261518417    -1487.05524833991      8312.3874978437     3747.44474087485     11502.3835391865            66.430125\\n',\n",
       " '      9300      411.206415889871    -13.2673260652777    -13.1078682624491     19925.7201302961     12095.6828998679    -15.4268099120751     13215.3009734592     5123.30722018268     12031.7863420483            66.430125\\n',\n",
       " '      9400      567.710180457456    -13.1913853690112    -12.9712384682795     24917.4897718619    -5674.15941995512    -1111.02285300759     19978.3684698905    -13001.5635299206     20639.7619477284            66.430125\\n',\n",
       " '      9500      759.895995551107    -13.1279222364159    -12.8332494367063     27857.8826021108    -23980.5350948139     1043.97373212993     30578.4314629184       14461.83161579     22863.6367032474            66.430125\\n',\n",
       " '      9600      384.526774894323    -13.1825073020238    -13.0333953419861     26205.4046643232     22199.1850799717     922.245666517741     22124.9420734002     234.919280919446     13540.5373319406            66.430125\\n',\n",
       " '      9700      334.852138550811    -13.3137560104901    -13.1839069025422      11901.343861533    -1383.62161849762    -3842.76218576955      6511.5361718493    -4938.22862245399     10430.7570440005            66.430125\\n',\n",
       " '      9800      371.314685980746    -13.3092590413902    -13.1652704709387     13312.7910609963    -9978.48348387502     2289.28085548708     11806.9147820196     5809.87069553342      10835.711210013            66.430125\\n',\n",
       " '      9900      503.716168754364    -13.2703875852666    -13.0750563102305      16744.347058307     13101.2217937565    -776.706563185312     22358.6592431022    -4441.43951201798     9625.89526257975            66.430125\\n',\n",
       " '     10000      874.702266383889    -13.2839348148909     -12.944742389537      14458.239769642     1515.35798000008    -4962.65496379813     19711.8675472838    -899.171840771311     11134.9032957219            66.430125\\n',\n",
       " 'Loop time of 0.124536 on 1 procs for 10000 steps with 4 atoms\\n',\n",
       " '\\n',\n",
       " 'Performance: 6937.740 ns/day, 0.003 hours/ns, 80297.917 timesteps/s, 321.192 katom-step/s\\n',\n",
       " '104.1% CPU use with 1 MPI tasks x no OpenMP threads\\n',\n",
       " '\\n',\n",
       " 'MPI task timing breakdown:\\n',\n",
       " 'Section |  min time  |  avg time  |  max time  |%varavg| %total\\n',\n",
       " '---------------------------------------------------------------\\n',\n",
       " 'Pair    | 0.062597   | 0.062597   | 0.062597   |   0.0 | 50.26\\n',\n",
       " 'Neigh   | 0          | 0          | 0          |   0.0 |  0.00\\n',\n",
       " 'Comm    | 0.028713   | 0.028713   | 0.028713   |   0.0 | 23.06\\n',\n",
       " 'Output  | 0.0025701  | 0.0025701  | 0.0025701  |   0.0 |  2.06\\n',\n",
       " 'Modify  | 0.012855   | 0.012855   | 0.012855   |   0.0 | 10.32\\n',\n",
       " 'Other   |            | 0.0178     |            |       | 14.29\\n',\n",
       " '\\n',\n",
       " 'Nlocal:              4 ave           4 max           4 min\\n',\n",
       " 'Histogram: 1 0 0 0 0 0 0 0 0 0\\n',\n",
       " 'Nghost:            662 ave         662 max         662 min\\n',\n",
       " 'Histogram: 1 0 0 0 0 0 0 0 0 0\\n',\n",
       " 'Neighs:            280 ave         280 max         280 min\\n',\n",
       " 'Histogram: 1 0 0 0 0 0 0 0 0 0\\n',\n",
       " '\\n',\n",
       " 'Total # of neighbors = 280\\n',\n",
       " 'Ave neighs/atom = 70\\n',\n",
       " 'Neighbor list builds = 0\\n',\n",
       " 'Dangerous builds = 0\\n',\n",
       " 'Total wall time: 0:00:00\\n']"
      ]
     },
     "execution_count": 28,
     "metadata": {},
     "output_type": "execute_result"
    }
   ],
   "source": [
    "job[\"log.lammps\"]"
   ]
  },
  {
   "cell_type": "code",
   "execution_count": 29,
   "id": "3b562c59-9324-43fd-b5cc-c37c390fdc3c",
   "metadata": {},
   "outputs": [
    {
     "data": {
      "application/vnd.jupyter.widget-view+json": {
       "model_id": "b80a900d71d447cb9aa17fa4aa430cad",
       "version_major": 2,
       "version_minor": 0
      },
      "text/plain": [
       "NGLWidget(max_frame=100)"
      ]
     },
     "metadata": {},
     "output_type": "display_data"
    }
   ],
   "source": [
    "job.animate_structures()"
   ]
  },
  {
   "cell_type": "code",
   "execution_count": 30,
   "id": "76dba382-58c6-4048-b6f8-6212b738905d",
   "metadata": {},
   "outputs": [
    {
     "data": {
      "text/plain": [
       "'/home/janssen/mambaforge/share/pyiron/lammps/bin/run_lammps_2020.03.03.sh'"
      ]
     },
     "execution_count": 30,
     "metadata": {},
     "output_type": "execute_result"
    }
   ],
   "source": [
    "job.executable"
   ]
  },
  {
   "cell_type": "code",
   "execution_count": 31,
   "id": "875ad8ba-1e7b-46bb-a4ef-8365ca4d5075",
   "metadata": {},
   "outputs": [],
   "source": [
    "job.executable.version = '2022.11.03_flux_mpi'"
   ]
  },
  {
   "cell_type": "code",
   "execution_count": 32,
   "id": "a3bb95c2-c125-49cc-a5fa-8ed4e0f4d8ea",
   "metadata": {},
   "outputs": [
    {
     "name": "stdout",
     "output_type": "stream",
     "text": [
      "#!/bin/bash\n",
      "\n",
      "############### This is important for other programs ##########################\n",
      "# The FLUX_PMI_LIBRARY_PATH variable is always created under a flux instance (flux start).\n",
      "PMIPATH=$(dirname $FLUX_PMI_LIBRARY_PATH)\n",
      "# This is to stack LD_LIBRARY_PATH exports to look at the conda environment and flux pmi paths\n",
      "# Suggested by Danny /https://flux-framework.readthedocs.io/en/latest/tutorials/lab/coral2.html \n",
      "# BOTH exports are needed for pretty much any MPI process under flux\n",
      "CONDA_LD=\"${CONDA_PREFIX}/lib/\"\n",
      "export TMP_LD_LIBRARY_PATH=$CONDA_LD:$PMIPATH:$LD_LIBRARY_PATH\n",
      "################################################################################\n",
      "\n",
      "flux run -n$1 --env=LD_LIBRARY_PATH=${TMP_LD_LIBRARY_PATH} lmp_mpi -in control.inp;\n"
     ]
    }
   ],
   "source": [
    "!cat $job.executable"
   ]
  },
  {
   "cell_type": "code",
   "execution_count": 33,
   "id": "35a7789d-582b-45cc-be64-ddb0e67dadc8",
   "metadata": {},
   "outputs": [
    {
     "data": {
      "text/plain": [
       "['2020.03.03', '2020.03.03_mpi', '2022.11.03_flux', '2022.11.03_flux_mpi']"
      ]
     },
     "execution_count": 33,
     "metadata": {},
     "output_type": "execute_result"
    }
   ],
   "source": [
    "job.executable.list_executables()"
   ]
  },
  {
   "cell_type": "code",
   "execution_count": 34,
   "id": "2a0bd26f-b4af-4747-aeaa-9705e1d8d54b",
   "metadata": {},
   "outputs": [],
   "source": [
    "job.server.cores = 2"
   ]
  },
  {
   "cell_type": "code",
   "execution_count": 35,
   "id": "3e92d7d5-eb69-442d-9f74-d4b41098dfef",
   "metadata": {},
   "outputs": [
    {
     "data": {
      "text/plain": [
       "1"
      ]
     },
     "execution_count": 35,
     "metadata": {},
     "output_type": "execute_result"
    }
   ],
   "source": [
    "job.server.threads"
   ]
  },
  {
   "cell_type": "code",
   "execution_count": 36,
   "id": "4f47f7db-6426-4ce3-937c-43b4db5f170d",
   "metadata": {},
   "outputs": [],
   "source": [
    "job.server.gpus"
   ]
  },
  {
   "cell_type": "code",
   "execution_count": 37,
   "id": "9fd7c203-78f2-4e2f-97ce-a7718a3e0d2b",
   "metadata": {},
   "outputs": [
    {
     "data": {
      "text/plain": [
       "Text(0, 0.5, 'Y coordinates')"
      ]
     },
     "execution_count": 37,
     "metadata": {},
     "output_type": "execute_result"
    },
    {
     "data": {
      "image/png": "[encoded data removed]",
      "text/plain": [
       "<Figure size 640x480 with 1 Axes>"
      ]
     },
     "metadata": {},
     "output_type": "display_data"
    }
   ],
   "source": [
    "plt.hist2d(job.output.positions[:, :, 0].flatten(), job.output.positions[:, :, 1].flatten(), bins=50)\n",
    "plt.xlabel(\"X coordinates\")\n",
    "plt.ylabel(\"Y coordinates\")"
   ]
  },
  {
   "cell_type": "code",
   "execution_count": 38,
   "id": "d748408a-197d-4955-a7eb-161b42abe3c8",
   "metadata": {},
   "outputs": [
    {
     "data": {
      "text/html": [
       "<div>\n",
       "<style scoped>\n",
       "    .dataframe tbody tr th:only-of-type {\n",
       "        vertical-align: middle;\n",
       "    }\n",
       "\n",
       "    .dataframe tbody tr th {\n",
       "        vertical-align: top;\n",
       "    }\n",
       "\n",
       "    .dataframe thead th {\n",
       "        text-align: right;\n",
       "    }\n",
       "</style>\n",
       "<table border=\"1\" class=\"dataframe\">\n",
       "  <thead>\n",
       "    <tr style=\"text-align: right;\">\n",
       "      <th></th>\n",
       "      <th>author</th>\n",
       "      <th>title</th>\n",
       "      <th>journal</th>\n",
       "      <th>volume</th>\n",
       "      <th>pages</th>\n",
       "      <th>issn</th>\n",
       "      <th>doi</th>\n",
       "      <th>url</th>\n",
       "      <th>year</th>\n",
       "      <th>number</th>\n",
       "      <th>publisher</th>\n",
       "    </tr>\n",
       "  </thead>\n",
       "  <tbody>\n",
       "    <tr>\n",
       "      <th>0</th>\n",
       "      <td>[Jan Janssen, Sudarsan Surendralal, Yury Lysogorskiy, Mira Todorova, Tilmann Hickel, Ralf Drautz, Jörg Neugebauer]</td>\n",
       "      <td>pyiron: An integrated development environment for computational materials science</td>\n",
       "      <td>Computational Materials Science</td>\n",
       "      <td>161</td>\n",
       "      <td>24 - 36</td>\n",
       "      <td>0927-0256</td>\n",
       "      <td>https://doi.org/10.1016/j.commatsci.2018.07.043</td>\n",
       "      <td>http://www.sciencedirect.com/science/article/pii/S0927025618304786</td>\n",
       "      <td>2019</td>\n",
       "      <td>NaN</td>\n",
       "      <td>NaN</td>\n",
       "    </tr>\n",
       "    <tr>\n",
       "      <th>1</th>\n",
       "      <td>[Ask Hjorth Larsen, Jens Jørgen Mortensen, Jakob Blomqvist, Ivano E Castelli, Rune Christensen, Marcin Dułak, Jesper Friis, Michael N Groves, Bjørk Hammer, Cory Hargus, Eric D Hermes, Paul C Jenni...</td>\n",
       "      <td>The atomic simulation environment—a Python library for working with atoms</td>\n",
       "      <td>Journal of Physics: Condensed Matter</td>\n",
       "      <td>29</td>\n",
       "      <td>273002</td>\n",
       "      <td>NaN</td>\n",
       "      <td>NaN</td>\n",
       "      <td>http://stacks.iop.org/0953-8984/29/i=27/a=273002</td>\n",
       "      <td>2017</td>\n",
       "      <td>27</td>\n",
       "      <td>NaN</td>\n",
       "    </tr>\n",
       "    <tr>\n",
       "      <th>2</th>\n",
       "      <td>[Steve Plimpton]</td>\n",
       "      <td>Fast Parallel Algorithms for Short-Range Molecular Dynamics</td>\n",
       "      <td>Journal of Computational Physics</td>\n",
       "      <td>117</td>\n",
       "      <td>1-19</td>\n",
       "      <td>0021-9991</td>\n",
       "      <td>10.1006/jcph.1995.1039</td>\n",
       "      <td>http://www.sciencedirect.com/science/article/pii/S002199918571039X</td>\n",
       "      <td>1995</td>\n",
       "      <td>1</td>\n",
       "      <td>NaN</td>\n",
       "    </tr>\n",
       "    <tr>\n",
       "      <th>3</th>\n",
       "      <td>[Y. Mishin, D. Farkas, M. J. Mehl, D. A. Papaconstantopoulos]</td>\n",
       "      <td>Interatomic potentials for monoatomic metals from experimental data and ab initio calculations</td>\n",
       "      <td>Physical Review B</td>\n",
       "      <td>59</td>\n",
       "      <td>3393--3407</td>\n",
       "      <td>NaN</td>\n",
       "      <td>10.1103/physrevb.59.3393</td>\n",
       "      <td>https://doi.org/10.1103%2Fphysrevb.59.3393</td>\n",
       "      <td>1999</td>\n",
       "      <td>5</td>\n",
       "      <td>American Physical Society (APS)</td>\n",
       "    </tr>\n",
       "  </tbody>\n",
       "</table>\n",
       "</div>"
      ],
      "text/plain": [
       "                                                                                                                                                                                                    author  \\\n",
       "0                                                                                       [Jan Janssen, Sudarsan Surendralal, Yury Lysogorskiy, Mira Todorova, Tilmann Hickel, Ralf Drautz, Jörg Neugebauer]   \n",
       "1  [Ask Hjorth Larsen, Jens Jørgen Mortensen, Jakob Blomqvist, Ivano E Castelli, Rune Christensen, Marcin Dułak, Jesper Friis, Michael N Groves, Bjørk Hammer, Cory Hargus, Eric D Hermes, Paul C Jenni...   \n",
       "2                                                                                                                                                                                         [Steve Plimpton]   \n",
       "3                                                                                                                                            [Y. Mishin, D. Farkas, M. J. Mehl, D. A. Papaconstantopoulos]   \n",
       "\n",
       "                                                                                            title  \\\n",
       "0               pyiron: An integrated development environment for computational materials science   \n",
       "1                       The atomic simulation environment—a Python library for working with atoms   \n",
       "2                                     Fast Parallel Algorithms for Short-Range Molecular Dynamics   \n",
       "3  Interatomic potentials for monoatomic metals from experimental data and ab initio calculations   \n",
       "\n",
       "                                journal volume       pages       issn  \\\n",
       "0       Computational Materials Science    161     24 - 36  0927-0256   \n",
       "1  Journal of Physics: Condensed Matter     29      273002        NaN   \n",
       "2      Journal of Computational Physics    117        1-19  0021-9991   \n",
       "3                     Physical Review B     59  3393--3407        NaN   \n",
       "\n",
       "                                               doi  \\\n",
       "0  https://doi.org/10.1016/j.commatsci.2018.07.043   \n",
       "1                                              NaN   \n",
       "2                           10.1006/jcph.1995.1039   \n",
       "3                         10.1103/physrevb.59.3393   \n",
       "\n",
       "                                                                  url  year  \\\n",
       "0  http://www.sciencedirect.com/science/article/pii/S0927025618304786  2019   \n",
       "1                    http://stacks.iop.org/0953-8984/29/i=27/a=273002  2017   \n",
       "2  http://www.sciencedirect.com/science/article/pii/S002199918571039X  1995   \n",
       "3                          https://doi.org/10.1103%2Fphysrevb.59.3393  1999   \n",
       "\n",
       "  number                        publisher  \n",
       "0    NaN                              NaN  \n",
       "1     27                              NaN  \n",
       "2      1                              NaN  \n",
       "3      5  American Physical Society (APS)  "
      ]
     },
     "execution_count": 38,
     "metadata": {},
     "output_type": "execute_result"
    }
   ],
   "source": [
    "pr.list_publications()"
   ]
  },
  {
   "cell_type": "code",
   "execution_count": null,
   "id": "1e2d91d0-5955-471a-833a-a2091053f28d",
   "metadata": {},
   "outputs": [],
   "source": []
  }
 ],
 "metadata": {
  "kernelspec": {
   "display_name": "Python 3 (ipykernel)",
   "language": "python",
   "name": "python3"
  },
  "language_info": {
   "codemirror_mode": {
    "name": "ipython",
    "version": 3
   },
   "file_extension": ".py",
   "mimetype": "text/x-python",
   "name": "python",
   "nbconvert_exporter": "python",
   "pygments_lexer": "ipython3",
   "version": "3.10.12"
  }
 },
 "nbformat": 4,
 "nbformat_minor": 5
}
