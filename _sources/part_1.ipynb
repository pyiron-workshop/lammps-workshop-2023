{
 "cells": [
  {
   "cell_type": "markdown",
   "id": "8ef7e657-bcfc-495a-802c-cf037cb16c98",
   "metadata": {},
   "source": [
    "# Introduction to pyiron for LAMMPS users\n",
    "\n",
    "Author: [jan-janssen](https://jan-janssen.com)\n",
    "\n",
    "The [pyiron framework](https://pyiron.org) enables rapid prototyping and up-scaling of simulation protocols. In pyiron simulation protocols are developed in jupyter notebooks using the Python programming language. This has two advantages, on the one hand documentation, code and results can be combined in the same document to maintain their provenance and on the other hand the user no longer has to switch between different interfaces, setting up the calculation, submitting it to an high performance computing (HPC) cluster and analysing the results of the finished calculation can all be done in the same document.\n",
    "\n",
    "While LAMMPS already has a Python interface to access the [LAMMPS library](https://docs.lammps.org/Python_module.html) from Python as well as the ability to call [Python within your LAMMPS simulation protocol](https://docs.lammps.org/Python_call.html), pyiron adds an abstraction layer on top of this functionality. In particular pyiron provides job management and data management for LAMMPS calculation. This enables users to run parameter studies over hundreds or thousands of parameters. Consequently, pyiron is very beneficial to up-scale simulation protocols to iterate over the periodic table and identify chemical trends. \n",
    "\n",
    "This tutorial covers the basic usage of the pyiron framework: \n",
    "* Create a new project in pyiron \n",
    "* Create an atomistic structure\n",
    "* Visualize an atomistic structure\n",
    "* Run a LAMMPS calculation with pyiron\n",
    "* Plot the results of a LAMMPS calculation"
   ]
  },
  {
   "cell_type": "markdown",
   "id": "48710c2b-e16c-4786-bbaa-67455a9e1107",
   "metadata": {},
   "source": [
    "# Create a new project in pyiron"
   ]
  },
  {
   "cell_type": "markdown",
   "id": "4f3feb27-3ac0-48e7-814f-0df0252c329c",
   "metadata": {},
   "source": [
    "To simplify the use of pyiron inside jupyter notebooks, the pyiron framework only requires a single import statement. As LAMMPS is an atomistic simulation code, we are going to import the `Project` class from the `pyiron_atomistics` module."
   ]
  },
  {
   "cell_type": "code",
   "execution_count": 1,
   "id": "d3127aea-30b4-48da-8c54-96cc4749e536",
   "metadata": {},
   "outputs": [
    {
     "data": {
      "application/vnd.jupyter.widget-view+json": {
       "model_id": "0f83f5607fd246e28dd1d03926b64241",
       "version_major": 2,
       "version_minor": 0
      },
      "text/plain": []
     },
     "metadata": {},
     "output_type": "display_data"
    }
   ],
   "source": [
    "from pyiron_atomistics import Project"
   ]
  },
  {
   "cell_type": "markdown",
   "id": "a3fba135-54fc-48df-aeaa-bbf6d3939599",
   "metadata": {},
   "source": [
    "The `Project` class in pyiron behaves just like a folder on the filesystem. In contrast to other workflow systems in pyiron the user does not have to interact with the underlying database directly but rather pyiron leverages the filesystem to structure individual calculation into projects. So we can create a first project named `test` to get started."
   ]
  },
  {
   "cell_type": "code",
   "execution_count": 2,
   "id": "1d121cbd-c0bc-4944-9611-3227a171df11",
   "metadata": {},
   "outputs": [],
   "source": [
    "pr = Project(path=\"test\")"
   ]
  },
  {
   "cell_type": "markdown",
   "id": "6552bb8c-d1cb-4583-9587-84c121de2e91",
   "metadata": {},
   "source": [
    "For validation we can use the `ls` command on the commandline to see that the project folder named test was actually created: "
   ]
  },
  {
   "cell_type": "code",
   "execution_count": 3,
   "id": "ecb5885e-ee82-4aa9-bfff-5a3dab809b2f",
   "metadata": {},
   "outputs": [
    {
     "name": "stdout",
     "output_type": "stream",
     "text": [
      "part_1.ipynb  part_2.ipynb  pyiron.log\ttest\n"
     ]
    }
   ],
   "source": [
    "!ls"
   ]
  },
  {
   "cell_type": "markdown",
   "id": "3c6ce38e-cb38-4203-a290-a4cc6d244a85",
   "metadata": {},
   "source": [
    "In addition to creating new projects, the project class can also be used to list the calculation inside a given project `pr.job_table()` and delete the calculation inside a given project `pr.remove_jobs()` if you want to start fresh. The goal of the database in pyiron is store all the calculation that you executed, so if you execute the same jupyter notebook again the results are reloaded rather than being recalculated. Still for this example we are going to delete all existing calculation:"
   ]
  },
  {
   "cell_type": "code",
   "execution_count": 4,
   "id": "1f38808b-ea8e-443b-bfb6-cc64b5603184",
   "metadata": {},
   "outputs": [
    {
     "data": {
      "text/html": [
       "<div>\n",
       "<style scoped>\n",
       "    .dataframe tbody tr th:only-of-type {\n",
       "        vertical-align: middle;\n",
       "    }\n",
       "\n",
       "    .dataframe tbody tr th {\n",
       "        vertical-align: top;\n",
       "    }\n",
       "\n",
       "    .dataframe thead th {\n",
       "        text-align: right;\n",
       "    }\n",
       "</style>\n",
       "<table border=\"1\" class=\"dataframe\">\n",
       "  <thead>\n",
       "    <tr style=\"text-align: right;\">\n",
       "      <th></th>\n",
       "      <th>id</th>\n",
       "      <th>status</th>\n",
       "      <th>chemicalformula</th>\n",
       "      <th>job</th>\n",
       "      <th>subjob</th>\n",
       "      <th>projectpath</th>\n",
       "      <th>project</th>\n",
       "      <th>timestart</th>\n",
       "      <th>timestop</th>\n",
       "      <th>totalcputime</th>\n",
       "      <th>computer</th>\n",
       "      <th>hamilton</th>\n",
       "      <th>hamversion</th>\n",
       "      <th>parentid</th>\n",
       "      <th>masterid</th>\n",
       "    </tr>\n",
       "  </thead>\n",
       "  <tbody>\n",
       "  </tbody>\n",
       "</table>\n",
       "</div>"
      ],
      "text/plain": [
       "Empty DataFrame\n",
       "Columns: [id, status, chemicalformula, job, subjob, projectpath, project, timestart, timestop, totalcputime, computer, hamilton, hamversion, parentid, masterid]\n",
       "Index: []"
      ]
     },
     "execution_count": 4,
     "metadata": {},
     "output_type": "execute_result"
    }
   ],
   "source": [
    "pr.job_table()"
   ]
  },
  {
   "cell_type": "code",
   "execution_count": 5,
   "id": "1bb09674-e790-463a-8f31-6dd8a7e6ebd0",
   "metadata": {},
   "outputs": [],
   "source": [
    "pr.remove_jobs(silently=True)"
   ]
  },
  {
   "cell_type": "markdown",
   "id": "ec8a8440-28ba-42b8-99d1-baa338cf1093",
   "metadata": {},
   "source": [
    "# Atomistic structures"
   ]
  },
  {
   "cell_type": "markdown",
   "id": "ba71b5eb-3a61-4dfb-9a28-683829098179",
   "metadata": {},
   "source": [
    "After the `Project` class the next object we want to introduce is the atomistic structure object. The pyiron atomistic structure is base on the `ase.atoms.Atom` class from the [atomic simulation environment (ASE)](https://wiki.fysik.dtu.dk/ase/). "
   ]
  },
  {
   "cell_type": "markdown",
   "id": "4f668f36-450e-4328-a3c7-3d4e1938c118",
   "metadata": {},
   "source": [
    "## Create an atomistic structure"
   ]
  },
  {
   "cell_type": "markdown",
   "id": "d839cac6-69d9-4a76-b366-4316cffc96ce",
   "metadata": {},
   "source": [
    "For demonstration purposes we create a bulk aluminium structure. Rather than having to import a separate module to create the structure object, in pyiron we can use the `Project` instance defined above and then use autocompletion (by clicking `<tab>` on your keyboard) to select the `pr.create.structure.ase.bulk()` function. The function takes an element as input and in addition we use the optional parameter `cubic=True` to generate a cubic aluminium cell.  "
   ]
  },
  {
   "cell_type": "code",
   "execution_count": 6,
   "id": "4679e1cd-ce15-44a1-9bd5-b2181281a848",
   "metadata": {},
   "outputs": [],
   "source": [
    "structure = pr.create.structure.ase.bulk(name=\"Al\", cubic=True)"
   ]
  },
  {
   "cell_type": "markdown",
   "id": "050d6b6d-6b11-4c7e-b1b6-7ff8fda6e4fc",
   "metadata": {},
   "source": [
    "## Visualize an atomistic structure"
   ]
  },
  {
   "cell_type": "markdown",
   "id": "999a7ec8-030d-4f96-b01b-7385f3cd725e",
   "metadata": {},
   "source": [
    "Another focus of pyiron is to represent each pyiron object inside the jupyter environment. So in addtion to the string based representation from ASE you can use the `plot3d()` function of the structure object to visualize it using the [Nglview](http://nglviewer.org/nglview/latest/) package. The Nglview package provides a fully interactive visualization integrated in the jupyter notebook environment.  "
   ]
  },
  {
   "cell_type": "code",
   "execution_count": 7,
   "id": "113c6c21-c754-4aec-9278-f38ccd567f2a",
   "metadata": {},
   "outputs": [
    {
     "data": {
      "text/plain": [
       "Al: [0. 0. 0.]\n",
       "Al: [0.    2.025 2.025]\n",
       "Al: [2.025 0.    2.025]\n",
       "Al: [2.025 2.025 0.   ]\n",
       "tags: \n",
       "    indices: [0 0 0 0]\n",
       "pbc: [ True  True  True]\n",
       "cell: \n",
       "Cell([4.05, 4.05, 4.05])"
      ]
     },
     "execution_count": 7,
     "metadata": {},
     "output_type": "execute_result"
    }
   ],
   "source": [
    "structure"
   ]
  },
  {
   "cell_type": "code",
   "execution_count": 8,
   "id": "5e5234ac-ea8d-4514-99af-87c734f2371d",
   "metadata": {},
   "outputs": [
    {
     "data": {
      "application/vnd.jupyter.widget-view+json": {
       "model_id": "43e6b15ac2c2494db3d158488d77a27b",
       "version_major": 2,
       "version_minor": 0
      },
      "text/plain": [
       "NGLWidget()"
      ]
     },
     "metadata": {},
     "output_type": "display_data"
    }
   ],
   "source": [
    "structure.plot3d()"
   ]
  },
  {
   "cell_type": "markdown",
   "id": "5227f10f-7101-4ae8-8148-8686770fe3a6",
   "metadata": {},
   "source": [
    "# Run a LAMMPS calculation with pyiron"
   ]
  },
  {
   "cell_type": "markdown",
   "id": "1cdace9c-1e3a-4e1e-a0b0-116533385b11",
   "metadata": {},
   "source": [
    "After creating the structure object, the next step is setting up the LAMMPS calculation. In pyiron individual calculation are called `jobs`. So we can create a LAMMPS object, in analogy to creating an atomistic structure object, using `pr.create.job.Lammps()`. The create job function takes a `job_name` as input argument. This `job_name` is used in the pyiron database to differentiate individual calculation and to allow pyiron to reload existing calculation. "
   ]
  },
  {
   "cell_type": "code",
   "execution_count": 9,
   "id": "86cd56fa-9fee-40b6-80bb-5477c3b0f5b4",
   "metadata": {},
   "outputs": [],
   "source": [
    "lmp = pr.create.job.Lammps(job_name=\"lmp\")"
   ]
  },
  {
   "cell_type": "markdown",
   "id": "75b682d9-8f61-4906-8f8e-5c2d07c52f9b",
   "metadata": {},
   "source": [
    "## Assign the atomistic structure to the LAMMPS calculation"
   ]
  },
  {
   "cell_type": "markdown",
   "id": "1b4a9da6-5c0a-4974-88ec-abebd0611ad6",
   "metadata": {},
   "source": [
    "In the next step we can assign the atomistic structure `structure` created above to the LAMMPS calculation. By setting the `structure` property of the LAMMPS job object:"
   ]
  },
  {
   "cell_type": "code",
   "execution_count": 10,
   "id": "2bcf30f4-89b4-466a-93bc-3cd5c3b47779",
   "metadata": {},
   "outputs": [],
   "source": [
    "lmp.structure = structure"
   ]
  },
  {
   "cell_type": "markdown",
   "id": "e96dc6d6-b489-40d0-bc8a-14729855442f",
   "metadata": {},
   "source": [
    "## Select an interatomic potential for the LAMMPS calculation"
   ]
  },
  {
   "cell_type": "markdown",
   "id": "92102a44-c556-456a-ab2c-7d4c48fd5a33",
   "metadata": {},
   "source": [
    "After the atomistic structure is assigned to the LAMMPS job object, pyiron is internally aware of the elements of the structure. In this particular case pyiron knows an aluminium structure was assinged. So when we want to select an interatomic potential, pyiron automatically queries both the [NIST database](https://www.ctcms.nist.gov/potentials/) as well as the [OpenKIM database](https://openkim.org) to list available interatomic potentials for aluminium. All this is done with the simple `lmp.list_potentials()` call. Alternatively, you can also use the `lmp.view_potentials()` function to get more details about the individual potentials: "
   ]
  },
  {
   "cell_type": "code",
   "execution_count": 11,
   "id": "d8dcfec1-21b3-455a-889f-68bda4abaab4",
   "metadata": {},
   "outputs": [
    {
     "data": {
      "text/plain": [
       "['1995--Angelo-J-E--Ni-Al-H--LAMMPS--ipr1',\n",
       " '1996--Farkas-D--Nb-Ti-Al--LAMMPS--ipr1',\n",
       " '1997--Liu-X-Y--Al-Mg--LAMMPS--ipr1',\n",
       " '1998--Liu-X-Y--Al-Mg--LAMMPS--ipr1',\n",
       " '1999--Liu-X-Y--Al-Cu--LAMMPS--ipr1',\n",
       " '1999--Mishin-Y--Al--LAMMPS--ipr1',\n",
       " '2000--Landa-A--Al-Pb--LAMMPS--ipr1',\n",
       " '2000--Sturgeon-J-B--Al--LAMMPS--ipr1',\n",
       " '2002--Mishin-Y--Ni-Al--LAMMPS--ipr1',\n",
       " '2003--Lee-B-J--Al--LAMMPS--ipr1',\n",
       " '2003--Zope-R-R--Al--LAMMPS--ipr1',\n",
       " '2003--Zope-R-R--Ti-Al--LAMMPS--ipr1',\n",
       " '2004--Liu-X-Y--Al--LAMMPS--ipr1',\n",
       " '2004--Mishin-Y--Ni-Al--LAMMPS--ipr1',\n",
       " '2004--Mishin-Y--Ni-Al--LAMMPS--ipr2',\n",
       " '2004--Zhou-X-W--Al--LAMMPS--ipr2',\n",
       " '2005--Mendelev-M-I--Al-Fe--LAMMPS--ipr1',\n",
       " '2007--Silva-A-C--Al-Ni--LAMMPS--ipr1',\n",
       " '2008--Mendelev-M-I--Al--LAMMPS--ipr1',\n",
       " '2009--Kim-Y-M--Mg-Al--LAMMPS--ipr1',\n",
       " '2009--Mendelev-M-I--Al-Mg--LAMMPS--ipr1',\n",
       " '2009--Purja-Pun-G-P--Ni-Al--LAMMPS--ipr1',\n",
       " '2009--Zhakhovskii-V-V--Al--LAMMPS--ipr2',\n",
       " '2010--Lee-E--Fe-Al--LAMMPS--ipr1',\n",
       " '2010--Mendelev-M-I--fictional-Al-1--LAMMPS--ipr1',\n",
       " '2010--Mendelev-M-I--fictional-Al-2--LAMMPS--ipr1',\n",
       " '2010--Mendelev-M-I--fictional-Al-3--LAMMPS--ipr1',\n",
       " '2010--Winey-J-M--Al--LAMMPS--ipr1',\n",
       " '2011--Apostol-F--Al-Cu--LAMMPS--ipr1',\n",
       " '2011--Ko-W-S--Al-H--LAMMPS--ipr1',\n",
       " '2012--Dong-W-P--Co-Al--LAMMPS--ipr1',\n",
       " '2012--Jelinek-B--Al-Si-Mg-Cu-Fe--LAMMPS--ipr2',\n",
       " '2012--Schopf-D--Al-Mn-Pd--LAMMPS--ipr1',\n",
       " '2013--Shim-J-H--V-Al--LAMMPS--ipr1',\n",
       " '2013--Shim-J-H--V-Al-H--LAMMPS--ipr1',\n",
       " '2015--Choudhary-K--Al--LAMMPS--ipr1',\n",
       " '2015--Choudhary-K--Al-O--LAMMPS--ipr1',\n",
       " '2015--Kim-Y-K--Ni-Al-Co--LAMMPS--ipr1',\n",
       " '2015--Kumar-A--Al-Ni--LAMMPS--ipr1',\n",
       " '2015--Kumar-A--Al-Ni-O--LAMMPS--ipr1',\n",
       " '2015--Mendelev-M-I--Al-Sm--LAMMPS--ipr1',\n",
       " '2015--Pascuet-M-I--Al--LAMMPS--ipr1',\n",
       " '2015--Pascuet-M-I--Al-U--LAMMPS--ipr2',\n",
       " '2015--Purja-Pun-G-P--Al-Co--LAMMPS--ipr2',\n",
       " '2015--Purja-Pun-G-P--Ni-Al-Co--LAMMPS--ipr2',\n",
       " '2016--Kim-Y-K--Al-Ti--LAMMPS--ipr1',\n",
       " '2016--Zhou-X-W--Al-Cu--LAMMPS--ipr2',\n",
       " '2017--Botu-V--Al--LAMMPS--ipr1',\n",
       " '2017--Kim-J-S--Pt-Al--LAMMPS--ipr1',\n",
       " '2017--Kim-Y-K--Ni-Al-Ti--LAMMPS--ipr1',\n",
       " '2018--Dickel-D-E--Mg-Al-Zn--LAMMPS--ipr1',\n",
       " '2018--Jeong-G-U--Pd-Al--LAMMPS--ipr1',\n",
       " '2018--Zhou-X-W--Al-Cu-H--LAMMPS--ipr1',\n",
       " '2019--Plummer-G--Ti-Al-C--LAMMPS--ipr1',\n",
       " '2020--Farkas-D--Fe-Ni-Cr-Co-Al--LAMMPS--ipr1',\n",
       " '2020--Purja-Pun-G-P--Al--LAMMPS--ipr1',\n",
       " '2020--Starikov-S--Si-Au-Al--LAMMPS--ipr1',\n",
       " '2020--Starikov-S--Si-Au-Al--LAMMPS--ipr2',\n",
       " '2021--Plummer-G--Ti-Al-C--LAMMPS--ipr1',\n",
       " '2021--Song-H--Al-Sm--LAMMPS--ipr1',\n",
       " '2022--Fereidonnejad-R--Al-Hf--LAMMPS--ipr1',\n",
       " '2022--Fereidonnejad-R--Al-Nb--LAMMPS--ipr1',\n",
       " '2022--Fereidonnejad-R--Al-Ta--LAMMPS--ipr1',\n",
       " '2022--Fereidonnejad-R--Al-Ti--LAMMPS--ipr1',\n",
       " '2022--Fereidonnejad-R--Al-Zr--LAMMPS--ipr1',\n",
       " '2022--Mahata-A--Al-Cu--LAMMPS--ipr1',\n",
       " '2022--Mahata-A--Al-Fe--LAMMPS--ipr1',\n",
       " '2022--Mahata-A--Al-Ni--LAMMPS--ipr1',\n",
       " '2022--Mendelev-M-I--Ni-Al--LAMMPS--ipr1',\n",
       " 'EAM_CubicNaturalSpline_ErcolessiAdams_1994_Al__MO_800509458712_002',\n",
       " 'EAM_Dynamo_AngeloMoodyBaskes_1995_NiAlH__MO_418978237058_005',\n",
       " 'EAM_Dynamo_CaiYe_1996_AlCu__MO_942551040047_005',\n",
       " 'EAM_Dynamo_ErcolessiAdams_1994_Al__MO_123629422045_005',\n",
       " 'EAM_Dynamo_FarkasJones_1996_NbTiAl__MO_042691367780_000',\n",
       " 'EAM_Dynamo_JacobsenNorskovPuska_1987_Al__MO_411692133366_000',\n",
       " 'EAM_Dynamo_LandaWynblattSiegel_2000_AlPb__MO_699137396381_005',\n",
       " 'EAM_Dynamo_LiuAdams_1998_AlMg__MO_019873715786_000',\n",
       " 'EAM_Dynamo_LiuErcolessiAdams_2004_Al__MO_051157671505_000',\n",
       " 'EAM_Dynamo_LiuLiuBorucki_1999_AlCu__MO_020851069572_000',\n",
       " 'EAM_Dynamo_LiuOhotnickyAdams_1997_AlMg__MO_559870613549_000',\n",
       " 'EAM_Dynamo_MendelevAstaRahman_2009_AlMg__MO_658278549784_005',\n",
       " 'EAM_Dynamo_MendelevFangYe_2015_AlSm__MO_338600200739_000',\n",
       " 'EAM_Dynamo_MendelevKramerBecker_2008_Al__MO_106969701023_005',\n",
       " 'EAM_Dynamo_MendelevSrolovitzAckland_2005_AlFe__MO_577453891941_005',\n",
       " 'EAM_Dynamo_MishinFarkasMehl_1999_Al__MO_651801486679_005',\n",
       " 'EAM_Dynamo_MishinMehlPapaconstantopoulos_2002_NiAl__MO_109933561507_005',\n",
       " 'EAM_Dynamo_Mishin_2004_NiAl__MO_101214310689_005',\n",
       " 'EAM_Dynamo_PunMishin_2009_NiAl__MO_751354403791_005',\n",
       " 'EAM_Dynamo_PunYamakovMishin_2013_AlCo__MO_678952612413_000',\n",
       " 'EAM_Dynamo_PunYamakovMishin_2013_NiAlCo__MO_826591359508_000',\n",
       " 'EAM_Dynamo_SchopfBrommerFrigan_2012_AlMnPd__MO_137572817842_000',\n",
       " 'EAM_Dynamo_SturgeonLaird_2000_Al__MO_120808805541_005',\n",
       " 'EAM_Dynamo_VailheFarkas_1997_CoAl__MO_284963179498_005',\n",
       " 'EAM_Dynamo_WineyKubotaGupta_2010_Al__MO_149316865608_005',\n",
       " 'EAM_Dynamo_Zhakhovsky_2009_Al__MO_519613893196_000',\n",
       " 'EAM_Dynamo_ZhouJohnsonWadley_2004NISTretabulation_Al__MO_060567868558_000',\n",
       " 'EAM_Dynamo_ZhouJohnsonWadley_2004_Al__MO_131650261510_005',\n",
       " 'EAM_Dynamo_ZhouWadleyJohnson_2001_Al__MO_049243498555_000',\n",
       " 'EAM_Dynamo_ZopeMishin_2003_Al__MO_664470114311_005',\n",
       " 'EAM_Dynamo_ZopeMishin_2003_TiAl__MO_117656786760_005',\n",
       " 'EAM_ErcolessiAdams_1994_Al__MO_324507536345_003',\n",
       " 'EAM_IMD_BrommerGaehler_2006A_AlNiCo__MO_122703700223_003',\n",
       " 'EAM_IMD_BrommerGaehler_2006B_AlNiCo__MO_128037485276_003',\n",
       " 'EAM_IMD_SchopfBrommerFrigan_2012_AlMnPd__MO_878712978062_003',\n",
       " 'EAM_QuinticClampedSpline_ErcolessiAdams_1994_Al__MO_450093727396_002',\n",
       " 'EAM_QuinticHermiteSpline_ErcolessiAdams_1994_Al__MO_781138671863_002',\n",
       " 'EMT_Asap_Standard_JacobsenStoltzeNorskov_1996_AlAgAuCuNiPdPt__MO_115316750986_001',\n",
       " 'EMT_Asap_Standard_JacobsenStoltzeNorskov_1996_Al__MO_623376124862_001',\n",
       " 'MEAM_LAMMPS_AlmyrasSangiovanniSarakinos_2019_NAlTi__MO_958395190627_000',\n",
       " 'MEAM_LAMMPS_CostaAgrenClavaguera_2007_AlNi__MO_131642768288_000',\n",
       " 'MEAM_LAMMPS_DongKimKo_2012_CoAl__MO_099716416216_000',\n",
       " 'MEAM_LAMMPS_JelinekGrohHorstemeyer_2012_AlSiMgCuFe__MO_262519520678_000',\n",
       " 'MEAM_LAMMPS_JeongParkDo_2018_PdAl__MO_616482358807_000',\n",
       " 'MEAM_LAMMPS_KimJungLee_2015_NiAlCo__MO_876687166519_000',\n",
       " 'MEAM_LAMMPS_KimKimJung_2016_AlTi__MO_618133763375_000',\n",
       " 'MEAM_LAMMPS_KimKimJung_2017_NiAlTi__MO_478967255435_000',\n",
       " 'MEAM_LAMMPS_KimKimLee_2009_AlMg__MO_058537087384_000',\n",
       " 'MEAM_LAMMPS_KimSeolJi_2017_PtAl__MO_793141037706_000',\n",
       " 'MEAM_LAMMPS_KoShimLee_2011_AlH__MO_127847080751_000',\n",
       " 'MEAM_LAMMPS_LeeLee_2010_FeAl__MO_332211522050_000',\n",
       " 'MEAM_LAMMPS_PascuetFernandez_2015_AlU__MO_596300673917_000',\n",
       " 'MEAM_LAMMPS_PascuetFernandez_2015_Al__MO_315820974149_000',\n",
       " 'MEAM_LAMMPS_ShimKoKim_2013_AlVH__MO_344724145339_000',\n",
       " 'Morse_Shifted_GirifalcoWeizer_1959HighCutoff_Al__MO_140175748626_004',\n",
       " 'Morse_Shifted_GirifalcoWeizer_1959LowCutoff_Al__MO_411898953661_004',\n",
       " 'Morse_Shifted_GirifalcoWeizer_1959MedCutoff_Al__MO_279544746097_004',\n",
       " 'Sim_LAMMPS_ADP_ApostolMishin_2011_AlCu__SM_667696763561_000',\n",
       " 'Sim_LAMMPS_ADP_StarikovGordeevLysogorskiy_2020_SiAuAl__SM_113843830602_000',\n",
       " 'Sim_LAMMPS_AGNI_BotuBatraChapman_2017_Al__SM_666183636896_000',\n",
       " 'Sim_LAMMPS_BOP_ZhouWardFoster_2016_AlCu__SM_566399258279_000',\n",
       " 'Sim_LAMMPS_MEAM_AlmyrasSangiovanniSarakinos_2019_NAlTi__SM_871795249052_000',\n",
       " 'Sim_LAMMPS_MEAM_JelinekGrohHorstemeyer_2012_AlSiMgCuFe__SM_656517352485_000',\n",
       " 'Sim_LAMMPS_MEAM_PascuetFernandez_2015_AlU__SM_721930391003_000',\n",
       " 'Sim_LAMMPS_MEAM_PascuetFernandez_2015_Al__SM_811588957187_000',\n",
       " 'Sim_LAMMPS_SMTBQ_SallesPolitanoAmzallag_2016_AlO__SM_853967355976_000',\n",
       " 'Sim_LAMMPS_SMTBQ_SallesPolitanoAmzallag_2016_Al__SM_404097633924_000']"
      ]
     },
     "execution_count": 11,
     "metadata": {},
     "output_type": "execute_result"
    }
   ],
   "source": [
    "lmp.list_potentials()"
   ]
  },
  {
   "cell_type": "code",
   "execution_count": 12,
   "id": "12d48e2d-8a8e-4537-b053-62301f01b9bf",
   "metadata": {},
   "outputs": [
    {
     "data": {
      "text/html": [
       "<div>\n",
       "<style scoped>\n",
       "    .dataframe tbody tr th:only-of-type {\n",
       "        vertical-align: middle;\n",
       "    }\n",
       "\n",
       "    .dataframe tbody tr th {\n",
       "        vertical-align: top;\n",
       "    }\n",
       "\n",
       "    .dataframe thead th {\n",
       "        text-align: right;\n",
       "    }\n",
       "</style>\n",
       "<table border=\"1\" class=\"dataframe\">\n",
       "  <thead>\n",
       "    <tr style=\"text-align: right;\">\n",
       "      <th></th>\n",
       "      <th>Config</th>\n",
       "      <th>Filename</th>\n",
       "      <th>Model</th>\n",
       "      <th>Name</th>\n",
       "      <th>Species</th>\n",
       "      <th>Citations</th>\n",
       "    </tr>\n",
       "  </thead>\n",
       "  <tbody>\n",
       "    <tr>\n",
       "      <th>39</th>\n",
       "      <td>[pair_style eam/alloy\\n, pair_coeff * * NiAlH_jea.eam.alloy Ni Al H\\n]</td>\n",
       "      <td>[potential_LAMMPS/1995--Angelo-J-E--Ni-Al-H--LAMMPS--ipr1/NiAlH_jea.eam.alloy]</td>\n",
       "      <td>NISTiprpy</td>\n",
       "      <td>1995--Angelo-J-E--Ni-Al-H--LAMMPS--ipr1</td>\n",
       "      <td>[Ni, Al, H]</td>\n",
       "      <td>[{'Angelo_1995': {'title': 'Trapping of hydrogen to lattice defects in nickel', 'journal': 'Modelling and Simulation in Materials Science and Engineering', 'volume': '3', 'pages': '289--307', 'num...</td>\n",
       "    </tr>\n",
       "    <tr>\n",
       "      <th>40</th>\n",
       "      <td>[pair_style eam/alloy\\n, pair_coeff * * Farkas_Nb-Ti-Al_1996.eam.alloy Nb Ti Al\\n]</td>\n",
       "      <td>[potential_LAMMPS/1996--Farkas-D--Nb-Ti-Al--LAMMPS--ipr1/Farkas_Nb-Ti-Al_1996.eam.alloy]</td>\n",
       "      <td>NISTiprpy</td>\n",
       "      <td>1996--Farkas-D--Nb-Ti-Al--LAMMPS--ipr1</td>\n",
       "      <td>[Nb, Ti, Al]</td>\n",
       "      <td>[{'Farkas_1996': {'title': 'Interatomic potentials for ternary Nb - Ti - Al alloys', 'journal': 'Modelling and Simulation in Materials Science and Engineering', 'volume': '4', 'pages': '23--32', '...</td>\n",
       "    </tr>\n",
       "    <tr>\n",
       "      <th>43</th>\n",
       "      <td>[pair_style eam/alloy\\n, pair_coeff * * mg-al-set.eam.alloy Al Mg\\n]</td>\n",
       "      <td>[potential_LAMMPS/1997--Liu-X-Y--Al-Mg--LAMMPS--ipr1/mg-al-set.eam.alloy]</td>\n",
       "      <td>NISTiprpy</td>\n",
       "      <td>1997--Liu-X-Y--Al-Mg--LAMMPS--ipr1</td>\n",
       "      <td>[Al, Mg]</td>\n",
       "      <td>[{'Liu_1997': {'title': 'Anisotropic surface segregation in Al-Mg alloys', 'journal': 'Surface Science', 'volume': '373', 'pages': '357--370', 'number': '2-3', 'doi': '10.1016/s0039-6028(96)01154-...</td>\n",
       "    </tr>\n",
       "    <tr>\n",
       "      <th>46</th>\n",
       "      <td>[pair_style eam/alloy\\n, pair_coeff * * almg.liu.eam.alloy Al Mg\\n]</td>\n",
       "      <td>[potential_LAMMPS/1998--Liu-X-Y--Al-Mg--LAMMPS--ipr1/almg.liu.eam.alloy]</td>\n",
       "      <td>NISTiprpy</td>\n",
       "      <td>1998--Liu-X-Y--Al-Mg--LAMMPS--ipr1</td>\n",
       "      <td>[Al, Mg]</td>\n",
       "      <td>[{'Liu_1998': {'title': 'Grain-boundary segregation in Al-10%Mg alloys at hot working temperatures', 'journal': 'Acta Materialia', 'volume': '46', 'pages': '3467--3476', 'number': '10', 'doi': '10...</td>\n",
       "    </tr>\n",
       "    <tr>\n",
       "      <th>48</th>\n",
       "      <td>[pair_style eam/alloy\\n, pair_coeff * * al-cu-set.eam.alloy Al Cu\\n]</td>\n",
       "      <td>[potential_LAMMPS/1999--Liu-X-Y--Al-Cu--LAMMPS--ipr1/al-cu-set.eam.alloy]</td>\n",
       "      <td>NISTiprpy</td>\n",
       "      <td>1999--Liu-X-Y--Al-Cu--LAMMPS--ipr1</td>\n",
       "      <td>[Al, Cu]</td>\n",
       "      <td>[{'Liu_1999': {'title': \"A new investigation of copper's role in enhancing Al-Cu interconnect electromigration resistance from an atomistic view\", 'journal': 'Acta Materialia', 'volume': '47', 'pa...</td>\n",
       "    </tr>\n",
       "    <tr>\n",
       "      <th>...</th>\n",
       "      <td>...</td>\n",
       "      <td>...</td>\n",
       "      <td>...</td>\n",
       "      <td>...</td>\n",
       "      <td>...</td>\n",
       "      <td>...</td>\n",
       "    </tr>\n",
       "    <tr>\n",
       "      <th>948</th>\n",
       "      <td>[pair_style kim Sim_LAMMPS_MEAM_JelinekGrohHorstemeyer_2012_AlSiMgCuFe__SM_656517352485_000\\n, pair_coeff * * Al Si Mg Cu Fe\\n]</td>\n",
       "      <td>[]</td>\n",
       "      <td>OPENKIM</td>\n",
       "      <td>Sim_LAMMPS_MEAM_JelinekGrohHorstemeyer_2012_AlSiMgCuFe__SM_656517352485_000</td>\n",
       "      <td>[Al, Si, Mg, Cu, Fe]</td>\n",
       "      <td>[{'B._2012': {'title': 'Modified embedded atom method potential for Al, Si, Mg, Cu, and Fe alloys', 'volume': '85', 'year': '2012', 'journal': 'Physical Review B', 'doi': '10.1103/PhysRevB.85.2451...</td>\n",
       "    </tr>\n",
       "    <tr>\n",
       "      <th>958</th>\n",
       "      <td>[pair_style kim Sim_LAMMPS_MEAM_PascuetFernandez_2015_AlU__SM_721930391003_000\\n, pair_coeff * * Al U\\n]</td>\n",
       "      <td>[]</td>\n",
       "      <td>OPENKIM</td>\n",
       "      <td>Sim_LAMMPS_MEAM_PascuetFernandez_2015_AlU__SM_721930391003_000</td>\n",
       "      <td>[Al, U]</td>\n",
       "      <td>[{'M.I._2015': {'title': '{A}tomic interaction of the {MEAM} type for the study of intermetallics in the {A}l–{U} alloy', 'volume': '467', 'year': '2015', 'journal': 'Journal of Nuclear Materials'...</td>\n",
       "    </tr>\n",
       "    <tr>\n",
       "      <th>959</th>\n",
       "      <td>[pair_style kim Sim_LAMMPS_MEAM_PascuetFernandez_2015_Al__SM_811588957187_000\\n, pair_coeff * * Al\\n]</td>\n",
       "      <td>[]</td>\n",
       "      <td>OPENKIM</td>\n",
       "      <td>Sim_LAMMPS_MEAM_PascuetFernandez_2015_Al__SM_811588957187_000</td>\n",
       "      <td>[Al]</td>\n",
       "      <td>[{'M.I._2015': {'title': '{A}tomic interaction of the {MEAM} type for the study of intermetallics in the {A}l–{U} alloy', 'volume': '467', 'year': '2015', 'journal': 'Journal of Nuclear Materials'...</td>\n",
       "    </tr>\n",
       "    <tr>\n",
       "      <th>979</th>\n",
       "      <td>[pair_style kim Sim_LAMMPS_SMTBQ_SallesPolitanoAmzallag_2016_AlO__SM_853967355976_000\\n, pair_coeff * * Al O\\n]</td>\n",
       "      <td>[]</td>\n",
       "      <td>OPENKIM</td>\n",
       "      <td>Sim_LAMMPS_SMTBQ_SallesPolitanoAmzallag_2016_AlO__SM_853967355976_000</td>\n",
       "      <td>[Al, O]</td>\n",
       "      <td>[{'N._2016': {'title': 'Molecular dynamics study of high-pressure alumina polymorphs with a tight-binding variable-charge model', 'volume': '111', 'year': '2016', 'journal': 'Computational Materia...</td>\n",
       "    </tr>\n",
       "    <tr>\n",
       "      <th>980</th>\n",
       "      <td>[pair_style kim Sim_LAMMPS_SMTBQ_SallesPolitanoAmzallag_2016_Al__SM_404097633924_000\\n, pair_coeff * * Al\\n]</td>\n",
       "      <td>[]</td>\n",
       "      <td>OPENKIM</td>\n",
       "      <td>Sim_LAMMPS_SMTBQ_SallesPolitanoAmzallag_2016_Al__SM_404097633924_000</td>\n",
       "      <td>[Al]</td>\n",
       "      <td>[{'N._2016': {'title': 'Molecular dynamics study of high-pressure alumina polymorphs with a tight-binding variable-charge model', 'volume': '111', 'year': '2016', 'journal': 'Computational Materia...</td>\n",
       "    </tr>\n",
       "  </tbody>\n",
       "</table>\n",
       "<p>136 rows × 6 columns</p>\n",
       "</div>"
      ],
      "text/plain": [
       "                                                                                                                              Config  \\\n",
       "39                                                            [pair_style eam/alloy\\n, pair_coeff * * NiAlH_jea.eam.alloy Ni Al H\\n]   \n",
       "40                                                [pair_style eam/alloy\\n, pair_coeff * * Farkas_Nb-Ti-Al_1996.eam.alloy Nb Ti Al\\n]   \n",
       "43                                                              [pair_style eam/alloy\\n, pair_coeff * * mg-al-set.eam.alloy Al Mg\\n]   \n",
       "46                                                               [pair_style eam/alloy\\n, pair_coeff * * almg.liu.eam.alloy Al Mg\\n]   \n",
       "48                                                              [pair_style eam/alloy\\n, pair_coeff * * al-cu-set.eam.alloy Al Cu\\n]   \n",
       "..                                                                                                                               ...   \n",
       "948  [pair_style kim Sim_LAMMPS_MEAM_JelinekGrohHorstemeyer_2012_AlSiMgCuFe__SM_656517352485_000\\n, pair_coeff * * Al Si Mg Cu Fe\\n]   \n",
       "958                         [pair_style kim Sim_LAMMPS_MEAM_PascuetFernandez_2015_AlU__SM_721930391003_000\\n, pair_coeff * * Al U\\n]   \n",
       "959                            [pair_style kim Sim_LAMMPS_MEAM_PascuetFernandez_2015_Al__SM_811588957187_000\\n, pair_coeff * * Al\\n]   \n",
       "979                  [pair_style kim Sim_LAMMPS_SMTBQ_SallesPolitanoAmzallag_2016_AlO__SM_853967355976_000\\n, pair_coeff * * Al O\\n]   \n",
       "980                     [pair_style kim Sim_LAMMPS_SMTBQ_SallesPolitanoAmzallag_2016_Al__SM_404097633924_000\\n, pair_coeff * * Al\\n]   \n",
       "\n",
       "                                                                                     Filename  \\\n",
       "39             [potential_LAMMPS/1995--Angelo-J-E--Ni-Al-H--LAMMPS--ipr1/NiAlH_jea.eam.alloy]   \n",
       "40   [potential_LAMMPS/1996--Farkas-D--Nb-Ti-Al--LAMMPS--ipr1/Farkas_Nb-Ti-Al_1996.eam.alloy]   \n",
       "43                  [potential_LAMMPS/1997--Liu-X-Y--Al-Mg--LAMMPS--ipr1/mg-al-set.eam.alloy]   \n",
       "46                   [potential_LAMMPS/1998--Liu-X-Y--Al-Mg--LAMMPS--ipr1/almg.liu.eam.alloy]   \n",
       "48                  [potential_LAMMPS/1999--Liu-X-Y--Al-Cu--LAMMPS--ipr1/al-cu-set.eam.alloy]   \n",
       "..                                                                                        ...   \n",
       "948                                                                                        []   \n",
       "958                                                                                        []   \n",
       "959                                                                                        []   \n",
       "979                                                                                        []   \n",
       "980                                                                                        []   \n",
       "\n",
       "         Model  \\\n",
       "39   NISTiprpy   \n",
       "40   NISTiprpy   \n",
       "43   NISTiprpy   \n",
       "46   NISTiprpy   \n",
       "48   NISTiprpy   \n",
       "..         ...   \n",
       "948    OPENKIM   \n",
       "958    OPENKIM   \n",
       "959    OPENKIM   \n",
       "979    OPENKIM   \n",
       "980    OPENKIM   \n",
       "\n",
       "                                                                            Name  \\\n",
       "39                                       1995--Angelo-J-E--Ni-Al-H--LAMMPS--ipr1   \n",
       "40                                        1996--Farkas-D--Nb-Ti-Al--LAMMPS--ipr1   \n",
       "43                                            1997--Liu-X-Y--Al-Mg--LAMMPS--ipr1   \n",
       "46                                            1998--Liu-X-Y--Al-Mg--LAMMPS--ipr1   \n",
       "48                                            1999--Liu-X-Y--Al-Cu--LAMMPS--ipr1   \n",
       "..                                                                           ...   \n",
       "948  Sim_LAMMPS_MEAM_JelinekGrohHorstemeyer_2012_AlSiMgCuFe__SM_656517352485_000   \n",
       "958               Sim_LAMMPS_MEAM_PascuetFernandez_2015_AlU__SM_721930391003_000   \n",
       "959                Sim_LAMMPS_MEAM_PascuetFernandez_2015_Al__SM_811588957187_000   \n",
       "979        Sim_LAMMPS_SMTBQ_SallesPolitanoAmzallag_2016_AlO__SM_853967355976_000   \n",
       "980         Sim_LAMMPS_SMTBQ_SallesPolitanoAmzallag_2016_Al__SM_404097633924_000   \n",
       "\n",
       "                  Species  \\\n",
       "39            [Ni, Al, H]   \n",
       "40           [Nb, Ti, Al]   \n",
       "43               [Al, Mg]   \n",
       "46               [Al, Mg]   \n",
       "48               [Al, Cu]   \n",
       "..                    ...   \n",
       "948  [Al, Si, Mg, Cu, Fe]   \n",
       "958               [Al, U]   \n",
       "959                  [Al]   \n",
       "979               [Al, O]   \n",
       "980                  [Al]   \n",
       "\n",
       "                                                                                                                                                                                                   Citations  \n",
       "39   [{'Angelo_1995': {'title': 'Trapping of hydrogen to lattice defects in nickel', 'journal': 'Modelling and Simulation in Materials Science and Engineering', 'volume': '3', 'pages': '289--307', 'num...  \n",
       "40   [{'Farkas_1996': {'title': 'Interatomic potentials for ternary Nb - Ti - Al alloys', 'journal': 'Modelling and Simulation in Materials Science and Engineering', 'volume': '4', 'pages': '23--32', '...  \n",
       "43   [{'Liu_1997': {'title': 'Anisotropic surface segregation in Al-Mg alloys', 'journal': 'Surface Science', 'volume': '373', 'pages': '357--370', 'number': '2-3', 'doi': '10.1016/s0039-6028(96)01154-...  \n",
       "46   [{'Liu_1998': {'title': 'Grain-boundary segregation in Al-10%Mg alloys at hot working temperatures', 'journal': 'Acta Materialia', 'volume': '46', 'pages': '3467--3476', 'number': '10', 'doi': '10...  \n",
       "48   [{'Liu_1999': {'title': \"A new investigation of copper's role in enhancing Al-Cu interconnect electromigration resistance from an atomistic view\", 'journal': 'Acta Materialia', 'volume': '47', 'pa...  \n",
       "..                                                                                                                                                                                                       ...  \n",
       "948  [{'B._2012': {'title': 'Modified embedded atom method potential for Al, Si, Mg, Cu, and Fe alloys', 'volume': '85', 'year': '2012', 'journal': 'Physical Review B', 'doi': '10.1103/PhysRevB.85.2451...  \n",
       "958  [{'M.I._2015': {'title': '{A}tomic interaction of the {MEAM} type for the study of intermetallics in the {A}l–{U} alloy', 'volume': '467', 'year': '2015', 'journal': 'Journal of Nuclear Materials'...  \n",
       "959  [{'M.I._2015': {'title': '{A}tomic interaction of the {MEAM} type for the study of intermetallics in the {A}l–{U} alloy', 'volume': '467', 'year': '2015', 'journal': 'Journal of Nuclear Materials'...  \n",
       "979  [{'N._2016': {'title': 'Molecular dynamics study of high-pressure alumina polymorphs with a tight-binding variable-charge model', 'volume': '111', 'year': '2016', 'journal': 'Computational Materia...  \n",
       "980  [{'N._2016': {'title': 'Molecular dynamics study of high-pressure alumina polymorphs with a tight-binding variable-charge model', 'volume': '111', 'year': '2016', 'journal': 'Computational Materia...  \n",
       "\n",
       "[136 rows x 6 columns]"
      ]
     },
     "execution_count": 12,
     "metadata": {},
     "output_type": "execute_result"
    }
   ],
   "source": [
    "lmp.view_potentials()"
   ]
  },
  {
   "cell_type": "markdown",
   "id": "8820e1c2-b7b2-4aec-bbfa-90446ccc3b65",
   "metadata": {},
   "source": [
    "To assign a specific interatomic potential for our LAMMPS calculation, we can simply set the name of the potential as a parameter to the `potential` property of the LAMMPS job object:"
   ]
  },
  {
   "cell_type": "code",
   "execution_count": 13,
   "id": "f8ca78bb-98b8-4920-8acd-15fab37c0337",
   "metadata": {},
   "outputs": [],
   "source": [
    "lmp.potential = '2002--Mishin-Y--Ni-Al--LAMMPS--ipr1'"
   ]
  },
  {
   "cell_type": "markdown",
   "id": "192cbfe8-2988-49a5-8e07-2b52a9b675c3",
   "metadata": {},
   "source": [
    "## Setting up the LAMMPS calculation"
   ]
  },
  {
   "cell_type": "markdown",
   "id": "d41b0f52-2739-4de0-bf18-e31667f1b01f",
   "metadata": {},
   "source": [
    "pyiron provides two options to setting up LAMMPS calculation. The first is using the traditional LAMMPS commands you know from the LAMMPS input files, the second is using the generic pyiron commands, which are not only implemented for LAMMPS but also for many other simulation codes. So the advantage of the generic pyiron commands is that the same commands can be applied for both a density functional theory (DFT) simulation code like the Vienna Ab initio Simulation Package (VASP) as well as interatomic potential based simulation codes like LAMMPS to simplify switching between them, for example for fitting machine learning interatomic potentials. q"
   ]
  },
  {
   "cell_type": "markdown",
   "id": "cb5c3b44-c674-4a60-80e2-a68342949a5a",
   "metadata": {},
   "source": [
    "### Generic pyiron commands"
   ]
  },
  {
   "cell_type": "markdown",
   "id": "fdd6878f-5cbc-4b1a-b1db-ca9e12221229",
   "metadata": {},
   "source": [
    "In this example we are going to calculate a molecular dynamics calculation at 500K, zero pressure and run it for 10000 steps, using the `calc_md()` function. Again, you can use the `<tab>` based autocompletion to get a list of available input commands. Alternatively you can call `calc_md?` to get a list of all input parameters: "
   ]
  },
  {
   "cell_type": "code",
   "execution_count": 14,
   "id": "dfd0475e-47fd-481f-8bfa-83dd7e444436",
   "metadata": {},
   "outputs": [
    {
     "data": {
      "text/plain": [
       "\u001b[0;31mSignature:\u001b[0m\n",
       "\u001b[0mlmp\u001b[0m\u001b[0;34m.\u001b[0m\u001b[0mcalc_md\u001b[0m\u001b[0;34m(\u001b[0m\u001b[0;34m\u001b[0m\n",
       "\u001b[0;34m\u001b[0m    \u001b[0mtemperature\u001b[0m\u001b[0;34m=\u001b[0m\u001b[0;32mNone\u001b[0m\u001b[0;34m,\u001b[0m\u001b[0;34m\u001b[0m\n",
       "\u001b[0;34m\u001b[0m    \u001b[0mpressure\u001b[0m\u001b[0;34m=\u001b[0m\u001b[0;32mNone\u001b[0m\u001b[0;34m,\u001b[0m\u001b[0;34m\u001b[0m\n",
       "\u001b[0;34m\u001b[0m    \u001b[0mn_ionic_steps\u001b[0m\u001b[0;34m=\u001b[0m\u001b[0;36m1000\u001b[0m\u001b[0;34m,\u001b[0m\u001b[0;34m\u001b[0m\n",
       "\u001b[0;34m\u001b[0m    \u001b[0mtime_step\u001b[0m\u001b[0;34m=\u001b[0m\u001b[0;36m1.0\u001b[0m\u001b[0;34m,\u001b[0m\u001b[0;34m\u001b[0m\n",
       "\u001b[0;34m\u001b[0m    \u001b[0mn_print\u001b[0m\u001b[0;34m=\u001b[0m\u001b[0;36m100\u001b[0m\u001b[0;34m,\u001b[0m\u001b[0;34m\u001b[0m\n",
       "\u001b[0;34m\u001b[0m    \u001b[0mtemperature_damping_timescale\u001b[0m\u001b[0;34m=\u001b[0m\u001b[0;36m100.0\u001b[0m\u001b[0;34m,\u001b[0m\u001b[0;34m\u001b[0m\n",
       "\u001b[0;34m\u001b[0m    \u001b[0mpressure_damping_timescale\u001b[0m\u001b[0;34m=\u001b[0m\u001b[0;36m1000.0\u001b[0m\u001b[0;34m,\u001b[0m\u001b[0;34m\u001b[0m\n",
       "\u001b[0;34m\u001b[0m    \u001b[0mseed\u001b[0m\u001b[0;34m=\u001b[0m\u001b[0;32mNone\u001b[0m\u001b[0;34m,\u001b[0m\u001b[0;34m\u001b[0m\n",
       "\u001b[0;34m\u001b[0m    \u001b[0mtloop\u001b[0m\u001b[0;34m=\u001b[0m\u001b[0;32mNone\u001b[0m\u001b[0;34m,\u001b[0m\u001b[0;34m\u001b[0m\n",
       "\u001b[0;34m\u001b[0m    \u001b[0minitial_temperature\u001b[0m\u001b[0;34m=\u001b[0m\u001b[0;32mNone\u001b[0m\u001b[0;34m,\u001b[0m\u001b[0;34m\u001b[0m\n",
       "\u001b[0;34m\u001b[0m    \u001b[0mlangevin\u001b[0m\u001b[0;34m=\u001b[0m\u001b[0;32mFalse\u001b[0m\u001b[0;34m,\u001b[0m\u001b[0;34m\u001b[0m\n",
       "\u001b[0;34m\u001b[0m    \u001b[0mdelta_temp\u001b[0m\u001b[0;34m=\u001b[0m\u001b[0;32mNone\u001b[0m\u001b[0;34m,\u001b[0m\u001b[0;34m\u001b[0m\n",
       "\u001b[0;34m\u001b[0m    \u001b[0mdelta_press\u001b[0m\u001b[0;34m=\u001b[0m\u001b[0;32mNone\u001b[0m\u001b[0;34m,\u001b[0m\u001b[0;34m\u001b[0m\n",
       "\u001b[0;34m\u001b[0m\u001b[0;34m)\u001b[0m\u001b[0;34m\u001b[0m\u001b[0;34m\u001b[0m\u001b[0m\n",
       "\u001b[0;31mDocstring:\u001b[0m\n",
       "Set an MD calculation within LAMMPS. Nosé Hoover is used by default.\n",
       "\n",
       "Args:\n",
       "    temperature (None/float/list): Target temperature value(-s). If set to None, an NVE\n",
       "        calculation is performed. It is required when the pressure is set or langevin is set\n",
       "        It can be a list of temperature values, containing the initial target temperature and\n",
       "        the final target temperature (in between the target value is varied linearly).\n",
       "    pressure (None/float/numpy.ndarray/list): Target pressure. If set to None, an NVE or an\n",
       "        NVT calculation is performed. If set to a scalar, the shear of the cell and the\n",
       "        ratio of the x, y, and z components is kept constant, while an isotropic, hydrostatic\n",
       "        pressure is applied. A list of up to length 6 can be given to specify xx, yy, zz, xy,\n",
       "        xz, and yz components of the pressure tensor, respectively. These values can mix\n",
       "        floats and `None` to allow only certain degrees of cell freedom to change. (Default\n",
       "        is None, run isochorically.)\n",
       "    n_ionic_steps (int): Number of ionic steps\n",
       "    time_step (float): Step size in fs between two steps.\n",
       "    n_print (int):  Print frequency\n",
       "    temperature_damping_timescale (float): The time associated with the thermostat adjusting\n",
       "        the temperature.  (In fs. After rescaling to appropriate time units, is equivalent to\n",
       "        Lammps' `Tdamp`.)\n",
       "    pressure_damping_timescale (float): The time associated with the barostat adjusting the\n",
       "        temperature.  (In fs. After rescaling to appropriate time units, is equivalent to\n",
       "        Lammps' `Pdamp`.)\n",
       "    seed (int):  Seed for the random number generation used for the intiial velocity creation\n",
       "        and langevin dynamics - otherwise ignored. If not specified, the seed is created via\n",
       "        job name\n",
       "    tloop:\n",
       "    initial_temperature (None/float):  Initial temperature according to which the initial\n",
       "        velocity field is created. If None, the initial temperature will be twice the target\n",
       "        temperature (which would go immediately down to the target temperature as described\n",
       "        in equipartition theorem). If 0, the velocity field is not initialized (in which case\n",
       "        the initial velocity given in structure will be used). If any other number is given,\n",
       "        this value is going to be used for the initial temperature.\n",
       "    langevin (bool): (True or False) Activate Langevin dynamics\n",
       "    delta_temp (float): Thermostat timescale, but in your Lammps time units, whatever those\n",
       "        are. (DEPRECATED.)\n",
       "    delta_press (float): Barostat timescale, but in your Lammps time units, whatever those\n",
       "        are. (DEPRECATED.)\n",
       "    job_name (str): Job name of the job to generate a unique random seed.\n",
       "    rotation_matrix (numpy.ndarray): The rotation matrix from the pyiron to Lammps coordinate\n",
       "        frame.\n",
       "\u001b[0;31mFile:\u001b[0m      ~/mambaforge/lib/python3.10/site-packages/pyiron_atomistics/lammps/interactive.py\n",
       "\u001b[0;31mType:\u001b[0m      method"
      ]
     },
     "metadata": {},
     "output_type": "display_data"
    }
   ],
   "source": [
    "lmp.calc_md?"
   ]
  },
  {
   "cell_type": "code",
   "execution_count": 15,
   "id": "09f510a5-5f47-4de1-9cd1-f571cf8dbb12",
   "metadata": {},
   "outputs": [],
   "source": [
    "lmp.calc_md(temperature=500.0, pressure=0.0, n_ionic_steps=10000)"
   ]
  },
  {
   "cell_type": "markdown",
   "id": "4cbfdec1-a228-4bf6-915a-1b7bbc1c7e72",
   "metadata": {},
   "source": [
    "### LAMMPS input commands"
   ]
  },
  {
   "cell_type": "markdown",
   "id": "a62760d6-d2fb-4e10-ab1b-c93073e390a5",
   "metadata": {},
   "source": [
    "While this generic set of pyiron commands is helpful for users who are not yet familiar with the LAMMPS input file commands, pyiron also addresses the needs of expert users, by providing direct access to the underlying input files. So to see the current input of the LAMMPS calculation you can simply use `lmp.input.control`:"
   ]
  },
  {
   "cell_type": "code",
   "execution_count": 16,
   "id": "50ee5601-91b6-4fae-bb91-59514b790d32",
   "metadata": {},
   "outputs": [
    {
     "data": {
      "text/html": [
       "<div>\n",
       "<style scoped>\n",
       "    .dataframe tbody tr th:only-of-type {\n",
       "        vertical-align: middle;\n",
       "    }\n",
       "\n",
       "    .dataframe tbody tr th {\n",
       "        vertical-align: top;\n",
       "    }\n",
       "\n",
       "    .dataframe thead th {\n",
       "        text-align: right;\n",
       "    }\n",
       "</style>\n",
       "<table border=\"1\" class=\"dataframe\">\n",
       "  <thead>\n",
       "    <tr style=\"text-align: right;\">\n",
       "      <th></th>\n",
       "      <th>Parameter</th>\n",
       "      <th>Value</th>\n",
       "      <th>Comment</th>\n",
       "    </tr>\n",
       "  </thead>\n",
       "  <tbody>\n",
       "    <tr>\n",
       "      <th>0</th>\n",
       "      <td>units</td>\n",
       "      <td>metal</td>\n",
       "      <td></td>\n",
       "    </tr>\n",
       "    <tr>\n",
       "      <th>1</th>\n",
       "      <td>dimension</td>\n",
       "      <td>3</td>\n",
       "      <td></td>\n",
       "    </tr>\n",
       "    <tr>\n",
       "      <th>2</th>\n",
       "      <td>boundary</td>\n",
       "      <td>p p p</td>\n",
       "      <td></td>\n",
       "    </tr>\n",
       "    <tr>\n",
       "      <th>3</th>\n",
       "      <td>atom_style</td>\n",
       "      <td>atomic</td>\n",
       "      <td></td>\n",
       "    </tr>\n",
       "    <tr>\n",
       "      <th>4</th>\n",
       "      <td>read_data</td>\n",
       "      <td>structure.inp</td>\n",
       "      <td></td>\n",
       "    </tr>\n",
       "    <tr>\n",
       "      <th>5</th>\n",
       "      <td>include</td>\n",
       "      <td>potential.inp</td>\n",
       "      <td></td>\n",
       "    </tr>\n",
       "    <tr>\n",
       "      <th>6</th>\n",
       "      <td>fix___ensemble</td>\n",
       "      <td>all npt temp 500.0 500.0 0.1 iso 0.0 0.0 1.0</td>\n",
       "      <td></td>\n",
       "    </tr>\n",
       "    <tr>\n",
       "      <th>7</th>\n",
       "      <td>variable___dumptime</td>\n",
       "      <td>equal 100</td>\n",
       "      <td></td>\n",
       "    </tr>\n",
       "    <tr>\n",
       "      <th>8</th>\n",
       "      <td>variable___thermotime</td>\n",
       "      <td>equal 100</td>\n",
       "      <td></td>\n",
       "    </tr>\n",
       "    <tr>\n",
       "      <th>9</th>\n",
       "      <td>timestep</td>\n",
       "      <td>0.001</td>\n",
       "      <td></td>\n",
       "    </tr>\n",
       "    <tr>\n",
       "      <th>10</th>\n",
       "      <td>velocity</td>\n",
       "      <td>all create 1000.0 61040 dist gaussian</td>\n",
       "      <td></td>\n",
       "    </tr>\n",
       "    <tr>\n",
       "      <th>11</th>\n",
       "      <td>dump___1</td>\n",
       "      <td>all custom ${dumptime} dump.out id type xsu ysu zsu fx fy fz vx vy vz</td>\n",
       "      <td></td>\n",
       "    </tr>\n",
       "    <tr>\n",
       "      <th>12</th>\n",
       "      <td>dump_modify___1</td>\n",
       "      <td>sort id format line \"%d %d %20.15g %20.15g %20.15g %20.15g %20.15g %20.15g %20.15g %20.15g %20.15g\"</td>\n",
       "      <td></td>\n",
       "    </tr>\n",
       "    <tr>\n",
       "      <th>13</th>\n",
       "      <td>thermo_style</td>\n",
       "      <td>custom step temp pe etotal pxx pxy pxz pyy pyz pzz vol</td>\n",
       "      <td></td>\n",
       "    </tr>\n",
       "    <tr>\n",
       "      <th>14</th>\n",
       "      <td>thermo_modify</td>\n",
       "      <td>format float %20.15g</td>\n",
       "      <td></td>\n",
       "    </tr>\n",
       "    <tr>\n",
       "      <th>15</th>\n",
       "      <td>thermo</td>\n",
       "      <td>${thermotime}</td>\n",
       "      <td></td>\n",
       "    </tr>\n",
       "    <tr>\n",
       "      <th>16</th>\n",
       "      <td>run</td>\n",
       "      <td>10000</td>\n",
       "      <td></td>\n",
       "    </tr>\n",
       "  </tbody>\n",
       "</table>\n",
       "</div>"
      ],
      "text/plain": [
       "                Parameter  \\\n",
       "0                   units   \n",
       "1               dimension   \n",
       "2                boundary   \n",
       "3              atom_style   \n",
       "4               read_data   \n",
       "5                 include   \n",
       "6          fix___ensemble   \n",
       "7     variable___dumptime   \n",
       "8   variable___thermotime   \n",
       "9                timestep   \n",
       "10               velocity   \n",
       "11               dump___1   \n",
       "12        dump_modify___1   \n",
       "13           thermo_style   \n",
       "14          thermo_modify   \n",
       "15                 thermo   \n",
       "16                    run   \n",
       "\n",
       "                                                                                                  Value  \\\n",
       "0                                                                                                 metal   \n",
       "1                                                                                                     3   \n",
       "2                                                                                                 p p p   \n",
       "3                                                                                                atomic   \n",
       "4                                                                                         structure.inp   \n",
       "5                                                                                         potential.inp   \n",
       "6                                                          all npt temp 500.0 500.0 0.1 iso 0.0 0.0 1.0   \n",
       "7                                                                                            equal 100    \n",
       "8                                                                                            equal 100    \n",
       "9                                                                                                 0.001   \n",
       "10                                                                all create 1000.0 61040 dist gaussian   \n",
       "11                                all custom ${dumptime} dump.out id type xsu ysu zsu fx fy fz vx vy vz   \n",
       "12  sort id format line \"%d %d %20.15g %20.15g %20.15g %20.15g %20.15g %20.15g %20.15g %20.15g %20.15g\"   \n",
       "13                                               custom step temp pe etotal pxx pxy pxz pyy pyz pzz vol   \n",
       "14                                                                                 format float %20.15g   \n",
       "15                                                                                        ${thermotime}   \n",
       "16                                                                                                10000   \n",
       "\n",
       "   Comment  \n",
       "0           \n",
       "1           \n",
       "2           \n",
       "3           \n",
       "4           \n",
       "5           \n",
       "6           \n",
       "7           \n",
       "8           \n",
       "9           \n",
       "10          \n",
       "11          \n",
       "12          \n",
       "13          \n",
       "14          \n",
       "15          \n",
       "16          "
      ]
     },
     "execution_count": 16,
     "metadata": {},
     "output_type": "execute_result"
    }
   ],
   "source": [
    "lmp.input.control"
   ]
  },
  {
   "cell_type": "markdown",
   "id": "4db7e852-8b6b-47d5-bad0-421c946b5c4f",
   "metadata": {},
   "source": [
    "You see how pyiron converted the generic pyiron command `calc_md()` to the LAMMPS specific input commands. It changed the `fix___ensemble` to `npt`, created initial velocities for equilibration using the `velocity` command and defined the number of steps to run in the `run` command. Each of these entries can be modified using the python dictionary syntax. So to change the number of steps to run from 10000 to 100000 you can use:  "
   ]
  },
  {
   "cell_type": "code",
   "execution_count": 17,
   "id": "f37661c4-dfba-495f-a874-8031a27e8259",
   "metadata": {},
   "outputs": [],
   "source": [
    "lmp.input.control[\"run\"] = 100000"
   ]
  },
  {
   "cell_type": "markdown",
   "id": "4a1b662b-5ab9-41fd-980d-d3e43d23029c",
   "metadata": {},
   "source": [
    "To validate the input file is updated correspondingly we can execute the previous command again: "
   ]
  },
  {
   "cell_type": "code",
   "execution_count": 18,
   "id": "e5194851-b270-4f10-93f4-123026cc50b8",
   "metadata": {},
   "outputs": [
    {
     "data": {
      "text/html": [
       "<div>\n",
       "<style scoped>\n",
       "    .dataframe tbody tr th:only-of-type {\n",
       "        vertical-align: middle;\n",
       "    }\n",
       "\n",
       "    .dataframe tbody tr th {\n",
       "        vertical-align: top;\n",
       "    }\n",
       "\n",
       "    .dataframe thead th {\n",
       "        text-align: right;\n",
       "    }\n",
       "</style>\n",
       "<table border=\"1\" class=\"dataframe\">\n",
       "  <thead>\n",
       "    <tr style=\"text-align: right;\">\n",
       "      <th></th>\n",
       "      <th>Parameter</th>\n",
       "      <th>Value</th>\n",
       "      <th>Comment</th>\n",
       "    </tr>\n",
       "  </thead>\n",
       "  <tbody>\n",
       "    <tr>\n",
       "      <th>0</th>\n",
       "      <td>units</td>\n",
       "      <td>metal</td>\n",
       "      <td></td>\n",
       "    </tr>\n",
       "    <tr>\n",
       "      <th>1</th>\n",
       "      <td>dimension</td>\n",
       "      <td>3</td>\n",
       "      <td></td>\n",
       "    </tr>\n",
       "    <tr>\n",
       "      <th>2</th>\n",
       "      <td>boundary</td>\n",
       "      <td>p p p</td>\n",
       "      <td></td>\n",
       "    </tr>\n",
       "    <tr>\n",
       "      <th>3</th>\n",
       "      <td>atom_style</td>\n",
       "      <td>atomic</td>\n",
       "      <td></td>\n",
       "    </tr>\n",
       "    <tr>\n",
       "      <th>4</th>\n",
       "      <td>read_data</td>\n",
       "      <td>structure.inp</td>\n",
       "      <td></td>\n",
       "    </tr>\n",
       "    <tr>\n",
       "      <th>5</th>\n",
       "      <td>include</td>\n",
       "      <td>potential.inp</td>\n",
       "      <td></td>\n",
       "    </tr>\n",
       "    <tr>\n",
       "      <th>6</th>\n",
       "      <td>fix___ensemble</td>\n",
       "      <td>all npt temp 500.0 500.0 0.1 iso 0.0 0.0 1.0</td>\n",
       "      <td></td>\n",
       "    </tr>\n",
       "    <tr>\n",
       "      <th>7</th>\n",
       "      <td>variable___dumptime</td>\n",
       "      <td>equal 100</td>\n",
       "      <td></td>\n",
       "    </tr>\n",
       "    <tr>\n",
       "      <th>8</th>\n",
       "      <td>variable___thermotime</td>\n",
       "      <td>equal 100</td>\n",
       "      <td></td>\n",
       "    </tr>\n",
       "    <tr>\n",
       "      <th>9</th>\n",
       "      <td>timestep</td>\n",
       "      <td>0.001</td>\n",
       "      <td></td>\n",
       "    </tr>\n",
       "    <tr>\n",
       "      <th>10</th>\n",
       "      <td>velocity</td>\n",
       "      <td>all create 1000.0 61040 dist gaussian</td>\n",
       "      <td></td>\n",
       "    </tr>\n",
       "    <tr>\n",
       "      <th>11</th>\n",
       "      <td>dump___1</td>\n",
       "      <td>all custom ${dumptime} dump.out id type xsu ysu zsu fx fy fz vx vy vz</td>\n",
       "      <td></td>\n",
       "    </tr>\n",
       "    <tr>\n",
       "      <th>12</th>\n",
       "      <td>dump_modify___1</td>\n",
       "      <td>sort id format line \"%d %d %20.15g %20.15g %20.15g %20.15g %20.15g %20.15g %20.15g %20.15g %20.15g\"</td>\n",
       "      <td></td>\n",
       "    </tr>\n",
       "    <tr>\n",
       "      <th>13</th>\n",
       "      <td>thermo_style</td>\n",
       "      <td>custom step temp pe etotal pxx pxy pxz pyy pyz pzz vol</td>\n",
       "      <td></td>\n",
       "    </tr>\n",
       "    <tr>\n",
       "      <th>14</th>\n",
       "      <td>thermo_modify</td>\n",
       "      <td>format float %20.15g</td>\n",
       "      <td></td>\n",
       "    </tr>\n",
       "    <tr>\n",
       "      <th>15</th>\n",
       "      <td>thermo</td>\n",
       "      <td>${thermotime}</td>\n",
       "      <td></td>\n",
       "    </tr>\n",
       "    <tr>\n",
       "      <th>16</th>\n",
       "      <td>run</td>\n",
       "      <td>100000</td>\n",
       "      <td></td>\n",
       "    </tr>\n",
       "  </tbody>\n",
       "</table>\n",
       "</div>"
      ],
      "text/plain": [
       "                Parameter  \\\n",
       "0                   units   \n",
       "1               dimension   \n",
       "2                boundary   \n",
       "3              atom_style   \n",
       "4               read_data   \n",
       "5                 include   \n",
       "6          fix___ensemble   \n",
       "7     variable___dumptime   \n",
       "8   variable___thermotime   \n",
       "9                timestep   \n",
       "10               velocity   \n",
       "11               dump___1   \n",
       "12        dump_modify___1   \n",
       "13           thermo_style   \n",
       "14          thermo_modify   \n",
       "15                 thermo   \n",
       "16                    run   \n",
       "\n",
       "                                                                                                  Value  \\\n",
       "0                                                                                                 metal   \n",
       "1                                                                                                     3   \n",
       "2                                                                                                 p p p   \n",
       "3                                                                                                atomic   \n",
       "4                                                                                         structure.inp   \n",
       "5                                                                                         potential.inp   \n",
       "6                                                          all npt temp 500.0 500.0 0.1 iso 0.0 0.0 1.0   \n",
       "7                                                                                            equal 100    \n",
       "8                                                                                            equal 100    \n",
       "9                                                                                                 0.001   \n",
       "10                                                                all create 1000.0 61040 dist gaussian   \n",
       "11                                all custom ${dumptime} dump.out id type xsu ysu zsu fx fy fz vx vy vz   \n",
       "12  sort id format line \"%d %d %20.15g %20.15g %20.15g %20.15g %20.15g %20.15g %20.15g %20.15g %20.15g\"   \n",
       "13                                               custom step temp pe etotal pxx pxy pxz pyy pyz pzz vol   \n",
       "14                                                                                 format float %20.15g   \n",
       "15                                                                                        ${thermotime}   \n",
       "16                                                                                               100000   \n",
       "\n",
       "   Comment  \n",
       "0           \n",
       "1           \n",
       "2           \n",
       "3           \n",
       "4           \n",
       "5           \n",
       "6           \n",
       "7           \n",
       "8           \n",
       "9           \n",
       "10          \n",
       "11          \n",
       "12          \n",
       "13          \n",
       "14          \n",
       "15          \n",
       "16          "
      ]
     },
     "execution_count": 18,
     "metadata": {},
     "output_type": "execute_result"
    }
   ],
   "source": [
    "lmp.input.control"
   ]
  },
  {
   "cell_type": "markdown",
   "id": "33d4facc-99e6-42e6-a383-8aa7a57f12a0",
   "metadata": {},
   "source": [
    "Alternatively to updating one command at a time, you can also load existing LAMMPS input scripts directly, using the `load_string()` function. Still there are two constratins with this method:\n",
    "* First you want to use the `read_data` command to read the `structure.inp` file and the `include` command to load the `potential.inp` file. You could also create your own structure and define your own potential, but in those cases pyiron is not aware of these changes, so they are not recommended.\n",
    "* Second, pyiron expects each input script to have only one `run` or `minimize` command. This is required as the pyiron parser expects on set of `dump` and `thermo` output. To combine multiple calculation steps it is recommended to combine multiple LAMMPS job objects.  "
   ]
  },
  {
   "cell_type": "code",
   "execution_count": 19,
   "id": "951c11b1-006b-41f1-9f00-48f0ff9425fa",
   "metadata": {},
   "outputs": [],
   "source": [
    "lmp.input.control.load_string(input_str=\"\"\"\\\n",
    "units metal\n",
    "dimension 3\n",
    "boundary p p p\n",
    "atom_style atomic\n",
    "read_data structure.inp\n",
    "include potential.inp\n",
    "fix ensemble all npt temp 500.0 500.0 0.1 iso 0.0 0.0 1.0\n",
    "variable dumptime  equal 100\n",
    "variable thermotime  equal 100\n",
    "timestep 0.001\n",
    "velocity all create 1000.0 61040 dist gaussian\n",
    "dump 1 all custom ${dumptime} dump.out id type xsu ysu zsu fx fy fz vx vy vz\n",
    "dump_modify 1 sort id format line \"%d %d %20.15g %20.15g %20.15g %20.15g %20.15g %20.15g %20.15g %20.15g %20.15g\"\n",
    "thermo_style custom step temp pe etotal pxx pxy pxz pyy pyz pzz vol\n",
    "thermo_modify format float %20.15g\n",
    "thermo ${thermotime}\n",
    "run 10000\"\"\")"
   ]
  },
  {
   "cell_type": "markdown",
   "id": "37af1953-8919-4fda-843e-09c76b66c1f2",
   "metadata": {},
   "source": [
    "After loading the input string we can validate that the number of run steps was correctly reset to 10000:"
   ]
  },
  {
   "cell_type": "code",
   "execution_count": 20,
   "id": "033f2090-5cac-40ef-b3f2-f9cafbe3e38c",
   "metadata": {},
   "outputs": [
    {
     "data": {
      "text/html": [
       "<div>\n",
       "<style scoped>\n",
       "    .dataframe tbody tr th:only-of-type {\n",
       "        vertical-align: middle;\n",
       "    }\n",
       "\n",
       "    .dataframe tbody tr th {\n",
       "        vertical-align: top;\n",
       "    }\n",
       "\n",
       "    .dataframe thead th {\n",
       "        text-align: right;\n",
       "    }\n",
       "</style>\n",
       "<table border=\"1\" class=\"dataframe\">\n",
       "  <thead>\n",
       "    <tr style=\"text-align: right;\">\n",
       "      <th></th>\n",
       "      <th>Parameter</th>\n",
       "      <th>Value</th>\n",
       "      <th>Comment</th>\n",
       "    </tr>\n",
       "  </thead>\n",
       "  <tbody>\n",
       "    <tr>\n",
       "      <th>0</th>\n",
       "      <td>units</td>\n",
       "      <td>metal</td>\n",
       "      <td></td>\n",
       "    </tr>\n",
       "    <tr>\n",
       "      <th>1</th>\n",
       "      <td>dimension</td>\n",
       "      <td>3</td>\n",
       "      <td></td>\n",
       "    </tr>\n",
       "    <tr>\n",
       "      <th>2</th>\n",
       "      <td>boundary</td>\n",
       "      <td>p p p</td>\n",
       "      <td></td>\n",
       "    </tr>\n",
       "    <tr>\n",
       "      <th>3</th>\n",
       "      <td>atom_style</td>\n",
       "      <td>atomic</td>\n",
       "      <td></td>\n",
       "    </tr>\n",
       "    <tr>\n",
       "      <th>4</th>\n",
       "      <td>read_data</td>\n",
       "      <td>structure.inp</td>\n",
       "      <td></td>\n",
       "    </tr>\n",
       "    <tr>\n",
       "      <th>5</th>\n",
       "      <td>include</td>\n",
       "      <td>potential.inp</td>\n",
       "      <td></td>\n",
       "    </tr>\n",
       "    <tr>\n",
       "      <th>6</th>\n",
       "      <td>fix</td>\n",
       "      <td>ensemble all npt temp 500.0 500.0 0.1 iso 0.0 0.0 1.0</td>\n",
       "      <td></td>\n",
       "    </tr>\n",
       "    <tr>\n",
       "      <th>7</th>\n",
       "      <td>variable</td>\n",
       "      <td>dumptime  equal 100</td>\n",
       "      <td></td>\n",
       "    </tr>\n",
       "    <tr>\n",
       "      <th>8</th>\n",
       "      <td>variable</td>\n",
       "      <td>thermotime  equal 100</td>\n",
       "      <td></td>\n",
       "    </tr>\n",
       "    <tr>\n",
       "      <th>9</th>\n",
       "      <td>timestep</td>\n",
       "      <td>0.001</td>\n",
       "      <td></td>\n",
       "    </tr>\n",
       "    <tr>\n",
       "      <th>10</th>\n",
       "      <td>velocity</td>\n",
       "      <td>all create 1000.0 61040 dist gaussian</td>\n",
       "      <td></td>\n",
       "    </tr>\n",
       "    <tr>\n",
       "      <th>11</th>\n",
       "      <td>dump</td>\n",
       "      <td>1 all custom ${dumptime} dump.out id type xsu ysu zsu fx fy fz vx vy vz</td>\n",
       "      <td></td>\n",
       "    </tr>\n",
       "    <tr>\n",
       "      <th>12</th>\n",
       "      <td>dump_modify</td>\n",
       "      <td>1 sort id format line \"%d %d %20.15g %20.15g %20.15g %20.15g %20.15g %20.15g %20.15g %20.15g %20.15g\"</td>\n",
       "      <td></td>\n",
       "    </tr>\n",
       "    <tr>\n",
       "      <th>13</th>\n",
       "      <td>thermo_style</td>\n",
       "      <td>custom step temp pe etotal pxx pxy pxz pyy pyz pzz vol</td>\n",
       "      <td></td>\n",
       "    </tr>\n",
       "    <tr>\n",
       "      <th>14</th>\n",
       "      <td>thermo_modify</td>\n",
       "      <td>format float %20.15g</td>\n",
       "      <td></td>\n",
       "    </tr>\n",
       "    <tr>\n",
       "      <th>15</th>\n",
       "      <td>thermo</td>\n",
       "      <td>${thermotime}</td>\n",
       "      <td></td>\n",
       "    </tr>\n",
       "    <tr>\n",
       "      <th>16</th>\n",
       "      <td>run</td>\n",
       "      <td>10000</td>\n",
       "      <td></td>\n",
       "    </tr>\n",
       "  </tbody>\n",
       "</table>\n",
       "</div>"
      ],
      "text/plain": [
       "        Parameter  \\\n",
       "0           units   \n",
       "1       dimension   \n",
       "2        boundary   \n",
       "3      atom_style   \n",
       "4       read_data   \n",
       "5         include   \n",
       "6             fix   \n",
       "7        variable   \n",
       "8        variable   \n",
       "9        timestep   \n",
       "10       velocity   \n",
       "11           dump   \n",
       "12    dump_modify   \n",
       "13   thermo_style   \n",
       "14  thermo_modify   \n",
       "15         thermo   \n",
       "16            run   \n",
       "\n",
       "                                                                                                    Value  \\\n",
       "0                                                                                                   metal   \n",
       "1                                                                                                       3   \n",
       "2                                                                                                   p p p   \n",
       "3                                                                                                  atomic   \n",
       "4                                                                                           structure.inp   \n",
       "5                                                                                           potential.inp   \n",
       "6                                                   ensemble all npt temp 500.0 500.0 0.1 iso 0.0 0.0 1.0   \n",
       "7                                                                                     dumptime  equal 100   \n",
       "8                                                                                   thermotime  equal 100   \n",
       "9                                                                                                   0.001   \n",
       "10                                                                  all create 1000.0 61040 dist gaussian   \n",
       "11                                1 all custom ${dumptime} dump.out id type xsu ysu zsu fx fy fz vx vy vz   \n",
       "12  1 sort id format line \"%d %d %20.15g %20.15g %20.15g %20.15g %20.15g %20.15g %20.15g %20.15g %20.15g\"   \n",
       "13                                                 custom step temp pe etotal pxx pxy pxz pyy pyz pzz vol   \n",
       "14                                                                                   format float %20.15g   \n",
       "15                                                                                          ${thermotime}   \n",
       "16                                                                                                  10000   \n",
       "\n",
       "   Comment  \n",
       "0           \n",
       "1           \n",
       "2           \n",
       "3           \n",
       "4           \n",
       "5           \n",
       "6           \n",
       "7           \n",
       "8           \n",
       "9           \n",
       "10          \n",
       "11          \n",
       "12          \n",
       "13          \n",
       "14          \n",
       "15          \n",
       "16          "
      ]
     },
     "execution_count": 20,
     "metadata": {},
     "output_type": "execute_result"
    }
   ],
   "source": [
    "lmp.input.control"
   ]
  },
  {
   "cell_type": "markdown",
   "id": "949f2882-4071-4c35-8231-54eb6fc783a4",
   "metadata": {},
   "source": [
    "## Execute the LAMMPS calculation"
   ]
  },
  {
   "cell_type": "markdown",
   "id": "bbfc4778-e843-4c7b-9712-1c3991983fc1",
   "metadata": {},
   "source": [
    "After defining the atomistic structure, selecting an interatomic potential and defining the LAMMPS input we can now run the calculation. Still if we just call the `run()` function directly, this calculation is executed on our local computer. To submit the calculation to a specific high performance computing cluster the pyiron job object defines a server object, which contains all the settings for the submission. In this virtual environment we use the [flux-framework](https://flux-framework.org) as queuing system. But pyiron supports a wide range of different queuing systems. A full list of the supported queuing systems is available as part of the python simple queuing system adapter package [pysqa](https://pysqa.readthedocs.io/en/latest/queue.html). "
   ]
  },
  {
   "cell_type": "markdown",
   "id": "c8474e73-52ad-4734-8163-5a0cd51cdcf8",
   "metadata": {},
   "source": [
    "We start by listing the available queues, in this case only the `flux` queue is defined: "
   ]
  },
  {
   "cell_type": "code",
   "execution_count": 21,
   "id": "94d8fd99-dae5-4bab-bb48-11f7787bb1e1",
   "metadata": {},
   "outputs": [
    {
     "data": {
      "text/plain": [
       "['flux']"
      ]
     },
     "execution_count": 21,
     "metadata": {},
     "output_type": "execute_result"
    }
   ],
   "source": [
    "lmp.server.list_queues()"
   ]
  },
  {
   "cell_type": "markdown",
   "id": "1e431e48-b88e-43f3-8a3a-3f1f982242b2",
   "metadata": {},
   "source": [
    "In the next step we select the `flux` you as active queue by assigning it to the `lmp.server.queue` property and set the number of cores to two:"
   ]
  },
  {
   "cell_type": "code",
   "execution_count": 22,
   "id": "dba8d8df-9396-4b55-9cad-a6839b1d5ec4",
   "metadata": {},
   "outputs": [],
   "source": [
    "lmp.server.queue = \"flux\"\n",
    "lmp.server.cores = 2 "
   ]
  },
  {
   "cell_type": "markdown",
   "id": "b5066238-3dc2-4c4e-a794-ff9ee080ea0f",
   "metadata": {},
   "source": [
    "Finally, you can also switch between different versions of LAMMPS executables. As we are using the flux queuing system here we have to select an executable which supports flux. In contrast to the basic version this executable uses the `flux run` command rather than `mpiexec`. But the executable script could also contain additional commands like `module load`. By leveraging these kind of shell script templates pyiron is easily customizable."
   ]
  },
  {
   "cell_type": "code",
   "execution_count": 23,
   "id": "d875c914-14bb-40f1-89e6-b6849d3a1502",
   "metadata": {},
   "outputs": [
    {
     "data": {
      "text/plain": [
       "['2020.03.03', '2020.03.03_mpi', '2022.11.03_flux', '2022.11.03_flux_mpi']"
      ]
     },
     "execution_count": 23,
     "metadata": {},
     "output_type": "execute_result"
    }
   ],
   "source": [
    "lmp.executable.list_executables()"
   ]
  },
  {
   "cell_type": "code",
   "execution_count": 24,
   "id": "4f6f0ee7-9afb-47a0-ad2d-2d5de36e0492",
   "metadata": {},
   "outputs": [],
   "source": [
    "lmp.executable.version = '2022.11.03_flux'"
   ]
  },
  {
   "cell_type": "code",
   "execution_count": 25,
   "id": "b96882de-550d-421e-be27-e1b8a920adf2",
   "metadata": {},
   "outputs": [
    {
     "name": "stdout",
     "output_type": "stream",
     "text": [
      "#!/bin/bash\n",
      "\n",
      "############### This is important for other programs ##########################\n",
      "# The FLUX_PMI_LIBRARY_PATH variable is always created under a flux instance (flux start).\n",
      "PMIPATH=$(dirname $FLUX_PMI_LIBRARY_PATH)\n",
      "# This is to stack LD_LIBRARY_PATH exports to look at the conda environment and flux pmi paths\n",
      "# Suggested by Danny /https://flux-framework.readthedocs.io/en/latest/tutorials/lab/coral2.html \n",
      "# BOTH exports are needed for pretty much any MPI process under flux\n",
      "CONDA_LD=\"${CONDA_PREFIX}/lib/\"\n",
      "export TMP_LD_LIBRARY_PATH=$CONDA_LD:$PMIPATH:$LD_LIBRARY_PATH\n",
      "################################################################################\n",
      "\n",
      "flux run -n1 --env=LD_LIBRARY_PATH=${TMP_LD_LIBRARY_PATH} lmp_mpi -in control.inp;\n"
     ]
    }
   ],
   "source": [
    "!cat $lmp.executable"
   ]
  },
  {
   "cell_type": "markdown",
   "id": "5728cf8d-d933-453b-9468-a4cbdef353bc",
   "metadata": {},
   "source": [
    "Now we start the calculation by calling the `run()` function of the job object: "
   ]
  },
  {
   "cell_type": "code",
   "execution_count": 26,
   "id": "8939c87c-9799-4092-beee-8742c8a25705",
   "metadata": {},
   "outputs": [
    {
     "name": "stdout",
     "output_type": "stream",
     "text": [
      "The job lmp was saved and received the ID: 21751\n",
      "Queue system id:  138865016832\n"
     ]
    }
   ],
   "source": [
    "lmp.run()"
   ]
  },
  {
   "cell_type": "markdown",
   "id": "1120ffdf-004e-45de-89db-f4cc47a779b8",
   "metadata": {},
   "source": [
    "After submitting the calculation to the queuing system, we can use the built-in `queue_table()` function of the project object to check the progress of the calculation. "
   ]
  },
  {
   "cell_type": "code",
   "execution_count": 27,
   "id": "d42c3641-da0e-4baa-a096-9e5516b50e06",
   "metadata": {},
   "outputs": [
    {
     "data": {
      "text/html": [
       "<div>\n",
       "<style scoped>\n",
       "    .dataframe tbody tr th:only-of-type {\n",
       "        vertical-align: middle;\n",
       "    }\n",
       "\n",
       "    .dataframe tbody tr th {\n",
       "        vertical-align: top;\n",
       "    }\n",
       "\n",
       "    .dataframe thead th {\n",
       "        text-align: right;\n",
       "    }\n",
       "</style>\n",
       "<table border=\"1\" class=\"dataframe\">\n",
       "  <thead>\n",
       "    <tr style=\"text-align: right;\">\n",
       "      <th></th>\n",
       "      <th>jobid</th>\n",
       "      <th>user</th>\n",
       "      <th>jobname</th>\n",
       "      <th>status</th>\n",
       "    </tr>\n",
       "  </thead>\n",
       "  <tbody>\n",
       "    <tr>\n",
       "      <th>0</th>\n",
       "      <td>138865016832</td>\n",
       "      <td>janssen</td>\n",
       "      <td>pi_21751</td>\n",
       "      <td>running</td>\n",
       "    </tr>\n",
       "  </tbody>\n",
       "</table>\n",
       "</div>"
      ],
      "text/plain": [
       "          jobid     user   jobname   status\n",
       "0  138865016832  janssen  pi_21751  running"
      ]
     },
     "execution_count": 27,
     "metadata": {},
     "output_type": "execute_result"
    }
   ],
   "source": [
    "pr.queue_table()"
   ]
  },
  {
   "cell_type": "markdown",
   "id": "a385b763-94af-4841-ae7e-248b5f556c11",
   "metadata": {},
   "source": [
    "In addition to checking the `queue_table()` manually, we can also use the `wait_for_job()` function to wait until the execution of the LAMMPS calculation is completed: "
   ]
  },
  {
   "cell_type": "code",
   "execution_count": 28,
   "id": "1263562b-d471-4d9d-810d-f6d032cddef8",
   "metadata": {},
   "outputs": [],
   "source": [
    "pr.wait_for_job(job=lmp)"
   ]
  },
  {
   "cell_type": "markdown",
   "id": "711f2512-77a4-4ac9-8f99-79f6b4a37304",
   "metadata": {},
   "source": [
    "After the calculation is completed, it is also included in the `job_table()` of the specific project object: "
   ]
  },
  {
   "cell_type": "code",
   "execution_count": 29,
   "id": "6c9078ce-14f6-4add-8932-5065ca9c0c5d",
   "metadata": {},
   "outputs": [
    {
     "data": {
      "text/html": [
       "<div>\n",
       "<style scoped>\n",
       "    .dataframe tbody tr th:only-of-type {\n",
       "        vertical-align: middle;\n",
       "    }\n",
       "\n",
       "    .dataframe tbody tr th {\n",
       "        vertical-align: top;\n",
       "    }\n",
       "\n",
       "    .dataframe thead th {\n",
       "        text-align: right;\n",
       "    }\n",
       "</style>\n",
       "<table border=\"1\" class=\"dataframe\">\n",
       "  <thead>\n",
       "    <tr style=\"text-align: right;\">\n",
       "      <th></th>\n",
       "      <th>id</th>\n",
       "      <th>status</th>\n",
       "      <th>chemicalformula</th>\n",
       "      <th>job</th>\n",
       "      <th>subjob</th>\n",
       "      <th>projectpath</th>\n",
       "      <th>project</th>\n",
       "      <th>timestart</th>\n",
       "      <th>timestop</th>\n",
       "      <th>totalcputime</th>\n",
       "      <th>computer</th>\n",
       "      <th>hamilton</th>\n",
       "      <th>hamversion</th>\n",
       "      <th>parentid</th>\n",
       "      <th>masterid</th>\n",
       "    </tr>\n",
       "  </thead>\n",
       "  <tbody>\n",
       "    <tr>\n",
       "      <th>0</th>\n",
       "      <td>21751</td>\n",
       "      <td>finished</td>\n",
       "      <td>Al4</td>\n",
       "      <td>lmp</td>\n",
       "      <td>/lmp</td>\n",
       "      <td>/home/janssen/pyiron/projects/</td>\n",
       "      <td>2023-08-11-lammps-workshop/test/</td>\n",
       "      <td>2023-08-11 09:31:23.072318</td>\n",
       "      <td>2023-08-11 09:31:24.788046</td>\n",
       "      <td>1.0</td>\n",
       "      <td>pyiron@ljubi#2#flux</td>\n",
       "      <td>Lammps</td>\n",
       "      <td>0.1</td>\n",
       "      <td>None</td>\n",
       "      <td>None</td>\n",
       "    </tr>\n",
       "  </tbody>\n",
       "</table>\n",
       "</div>"
      ],
      "text/plain": [
       "      id    status chemicalformula  job subjob  \\\n",
       "0  21751  finished             Al4  lmp   /lmp   \n",
       "\n",
       "                      projectpath                           project  \\\n",
       "0  /home/janssen/pyiron/projects/  2023-08-11-lammps-workshop/test/   \n",
       "\n",
       "                   timestart                   timestop  totalcputime  \\\n",
       "0 2023-08-11 09:31:23.072318 2023-08-11 09:31:24.788046           1.0   \n",
       "\n",
       "              computer hamilton hamversion parentid masterid  \n",
       "0  pyiron@ljubi#2#flux   Lammps        0.1     None     None  "
      ]
     },
     "execution_count": 29,
     "metadata": {},
     "output_type": "execute_result"
    }
   ],
   "source": [
    "pr.job_table()"
   ]
  },
  {
   "cell_type": "markdown",
   "id": "5af04bb3-9582-4cae-84e3-7cee0034c215",
   "metadata": {},
   "source": [
    "# Plot the results of a LAMMPS calculation"
   ]
  },
  {
   "cell_type": "markdown",
   "id": "b6b22a13-62bb-4beb-9227-6560341ccabf",
   "metadata": {},
   "source": [
    "To analyse the output of the LAMMPS calculation pyiron automatically parses the output. So rather than interacting with the underlying output of the calculation you can use the `output` property to access the output of the LAMMPS calculation. Again, you can use the `<tab>`-based autocompletion to browse through the different output properties."
   ]
  },
  {
   "cell_type": "markdown",
   "id": "21830633-165a-4217-bdd7-a1615b9e0cf6",
   "metadata": {},
   "source": [
    "## Temperature equilibration"
   ]
  },
  {
   "cell_type": "markdown",
   "id": "39578f7b-31ef-4860-9646-83ee7168bc55",
   "metadata": {},
   "source": [
    "Here we just print the temperature to analyse how it changes over time: "
   ]
  },
  {
   "cell_type": "code",
   "execution_count": 30,
   "id": "b779c628-a53a-47dc-bb95-de219280658d",
   "metadata": {},
   "outputs": [
    {
     "data": {
      "text/plain": [
       "array([1000.        ,  103.00304968,  578.27246601,  823.29574395,\n",
       "        553.20366161,  427.30693999,  328.76338336,  337.28404635,\n",
       "        555.28090839,  570.91982962,  734.29756874,  340.04640237,\n",
       "        427.67693585,  391.00923285,  280.5868281 ,  537.76398349,\n",
       "        576.62724044,  616.14152134,  356.34638353,  482.77315068,\n",
       "        232.05516536,  328.77917715, 1188.0353561 ,  282.24679249,\n",
       "        521.64066404,  662.49040198,  186.65634774,  425.47644871,\n",
       "        587.59395228,  500.75312359,  947.92106637,   64.56283834,\n",
       "        255.81108678,  780.60316014,  321.40600249,  159.86655549,\n",
       "        500.77062218,  538.69987464,  818.89934055,  768.58557949,\n",
       "        450.56733067,  329.7405951 ,  495.24312161,  870.76916796,\n",
       "        259.36339386,  994.97443505,  473.88539209,  317.57379011,\n",
       "        538.28158401,  474.81269871,  661.72133993,  503.86116547,\n",
       "        674.42377822,  356.30834921,  252.70287436,  660.53615621,\n",
       "        343.36011998,  253.7186665 ,  280.73534442,  305.41311471,\n",
       "        743.24185005,  541.05031752,  508.41243344,  127.93027736,\n",
       "        235.08222518,  323.39732388,  272.63916018,  719.92835224,\n",
       "        436.37090104,  456.20625009,  436.12249553,   84.4783987 ,\n",
       "        355.15356978,  349.0058809 ,  480.06921035,  500.62714124,\n",
       "        667.76439098,  641.6510927 ,  317.68150432,  457.56567178,\n",
       "        250.10715248,  436.37300037,  642.31401344,  421.16752273,\n",
       "        583.66393495,  187.88020341,  217.07426432,  144.2325662 ,\n",
       "        257.87157961,  589.80105604,  104.66588348,  850.50510203,\n",
       "        859.54351878,  352.96857864,  353.72757968,  365.42368971,\n",
       "        397.091789  ,  732.13849097,  763.29554542,  466.68123746,\n",
       "        290.16424789])"
      ]
     },
     "execution_count": 30,
     "metadata": {},
     "output_type": "execute_result"
    }
   ],
   "source": [
    "lmp.output.temperature"
   ]
  },
  {
   "cell_type": "markdown",
   "id": "e24f819a-d867-441f-aac7-baf29a5b6d85",
   "metadata": {},
   "source": [
    "Obviously, looking at the numbers like this, it is hard to analyse if the structure is equilibrated or not. This is much easier when the temperature is plotted over the number of the time step. To do this we use the `matplotlib` package:"
   ]
  },
  {
   "cell_type": "code",
   "execution_count": 31,
   "id": "73ef1751-9e47-425a-b0a7-0fe1cf7a30c6",
   "metadata": {},
   "outputs": [],
   "source": [
    "import matplotlib.pyplot as plt "
   ]
  },
  {
   "cell_type": "markdown",
   "id": "79c65d34-02e2-478c-a55f-7e7d5e3417ee",
   "metadata": {},
   "source": [
    "Then from the output property we select the both the `steps` property and the `temperature` property and plot both: "
   ]
  },
  {
   "cell_type": "code",
   "execution_count": 32,
   "id": "4c52b09b-9948-49d2-b6f1-402dd4b0a4f0",
   "metadata": {},
   "outputs": [
    {
     "data": {
      "text/plain": [
       "Text(0, 0.5, 'Temperature (K)')"
      ]
     },
     "execution_count": 32,
     "metadata": {},
     "output_type": "execute_result"
    },
    {
     "data": {
      "image/png": "[encoded data removed]",
      "text/plain": [
       "<Figure size 640x480 with 1 Axes>"
      ]
     },
     "metadata": {},
     "output_type": "display_data"
    }
   ],
   "source": [
    "plt.plot(lmp.output.steps, lmp.output.temperature)\n",
    "plt.xlabel(\"Timesteps\")\n",
    "plt.ylabel(\"Temperature (K)\")"
   ]
  },
  {
   "cell_type": "markdown",
   "id": "20215ae3-5995-47be-9154-dd1a2d53ee80",
   "metadata": {},
   "source": [
    "The temperature is only poorly equilibrate as the four atoms in the simulation cell are not sufficient. You can increase the supercell before assigning it to the LAMMPS job object by replacing the line `lmp.structure = structure` with `lmp.structure = structure.repeat([4,4,4])`"
   ]
  },
  {
   "cell_type": "markdown",
   "id": "6647aa27-99d2-4f8b-a6a4-d0ef6a5a0e5f",
   "metadata": {},
   "source": [
    "## Visualize the vibration of the individual atoms"
   ]
  },
  {
   "cell_type": "markdown",
   "id": "d4c9c6e3-8918-497d-b011-08a275848976",
   "metadata": {},
   "source": [
    "Beyond combined properties like the change in temperature over time, we can also analyse the vibration of the atoms in the xy-plane. For this we divide the array of positions `lmp.output.positions` into two separate arrays one for the x-coordinates and one for the y-coordinates and then plot both combined in a two dimensional histogram."
   ]
  },
  {
   "cell_type": "code",
   "execution_count": 33,
   "id": "9c7003a5-9efd-46b0-a615-85ea33ce4cb7",
   "metadata": {},
   "outputs": [
    {
     "data": {
      "text/plain": [
       "Text(0, 0.5, 'y [$\\\\AA$]')"
      ]
     },
     "execution_count": 33,
     "metadata": {},
     "output_type": "execute_result"
    },
    {
     "data": {
      "image/png": "[encoded data removed]",
      "text/plain": [
       "<Figure size 640x480 with 1 Axes>"
      ]
     },
     "metadata": {},
     "output_type": "display_data"
    }
   ],
   "source": [
    "plt.hist2d(lmp.output.positions[:, :, 0].flatten(), lmp.output.positions[:, :, 1].flatten(), bins=50)\n",
    "plt.xlabel('x [$\\AA$]')\n",
    "plt.ylabel('y [$\\AA$]')"
   ]
  },
  {
   "cell_type": "markdown",
   "id": "af0d7949-09f2-4da5-a136-774465c34b2b",
   "metadata": {},
   "source": [
    "# Different levels of output"
   ]
  },
  {
   "cell_type": "markdown",
   "id": "f7cc0ae8-1da3-4c51-9204-d090275a75b7",
   "metadata": {},
   "source": [
    "The easiest way to access the output of a pyiron job object is using the `output` property as demonstrated above. Internally, pyiron converts the underlying LAMMPS output files `log.lammps` and `dump.out` to `numpy` arrays and then stores these converted `numpy` arrays in an file using the hierachical data format (HDF5). "
   ]
  },
  {
   "cell_type": "markdown",
   "id": "67ee5e63-391c-4927-98ce-de7dc58ce8a8",
   "metadata": {},
   "source": [
    "## HDF5 interface"
   ]
  },
  {
   "cell_type": "markdown",
   "id": "8e7b76f6-2b03-451a-bded-ace93fdd2f8d",
   "metadata": {},
   "source": [
    "Each pyiron job object has one associated HDF5 file. To get the path of the HDF5 file for a particiular pyiron job object you can use `lmp.project_hdf5.file_name`."
   ]
  },
  {
   "cell_type": "code",
   "execution_count": 34,
   "id": "7f3f1f13-5edd-41e5-8b0d-5a6d3e4ab9b6",
   "metadata": {},
   "outputs": [
    {
     "data": {
      "text/plain": [
       "'/home/janssen/pyiron/projects/2023-08-11-lammps-workshop/test/lmp.h5'"
      ]
     },
     "execution_count": 34,
     "metadata": {},
     "output_type": "execute_result"
    }
   ],
   "source": [
    "lmp.project_hdf5.file_name"
   ]
  },
  {
   "cell_type": "markdown",
   "id": "9e670b0a-edc2-4671-aa94-225501dc32a2",
   "metadata": {},
   "source": [
    "The same HDF5 file can be accessed using the dicitonary notiation. The hierachy of the HDF5 format extends the hierachy of the filesystem, so the output properties like temperature and steps are located in the output group under the subgroup generic: "
   ]
  },
  {
   "cell_type": "code",
   "execution_count": 35,
   "id": "935742c6-915b-416f-92fa-472e4efe0651",
   "metadata": {},
   "outputs": [
    {
     "data": {
      "text/plain": [
       "{'groups': [], 'nodes': ['cells', 'energy_pot', 'energy_tot', 'forces', 'indices', 'natoms', 'positions', 'pressures', 'steps', 'temperature', 'unwrapped_positions', 'velocities', 'volume']}"
      ]
     },
     "execution_count": 35,
     "metadata": {},
     "output_type": "execute_result"
    }
   ],
   "source": [
    "lmp[\"output/generic\"]"
   ]
  },
  {
   "cell_type": "markdown",
   "id": "9737ff64-1a0f-448b-9501-7f5bfc455036",
   "metadata": {},
   "source": [
    "You can redo the plot from above using the direct access to the HDF5 file: "
   ]
  },
  {
   "cell_type": "code",
   "execution_count": 36,
   "id": "1c14f837-d362-4013-ba49-7a31771f922b",
   "metadata": {},
   "outputs": [
    {
     "data": {
      "text/plain": [
       "Text(0, 0.5, 'Temperature (K)')"
      ]
     },
     "execution_count": 36,
     "metadata": {},
     "output_type": "execute_result"
    },
    {
     "data": {
      "image/png": "[encoded data removed]",
      "text/plain": [
       "<Figure size 640x480 with 1 Axes>"
      ]
     },
     "metadata": {},
     "output_type": "display_data"
    }
   ],
   "source": [
    "plt.plot(lmp[\"output/generic/steps\"], lmp[\"output/generic/temperature\"])\n",
    "plt.xlabel(\"Timesteps\")\n",
    "plt.ylabel(\"Temperature (K)\")"
   ]
  },
  {
   "cell_type": "markdown",
   "id": "1d041342-a03c-41ed-a3a4-49bc7b127b21",
   "metadata": {},
   "source": [
    "The advantage of the HDF5 interface is that the job object does not have to be reloaded from the database. Rather than calling `pr.load(job_name)` you can use `pr.inspect(job_name)` to access the job object without reloading it. This inspect mode acts like a pointer on the HDF5 file. The capabilities of the inspect mode are introduced in more detail in the following tutorial. "
   ]
  },
  {
   "cell_type": "markdown",
   "id": "9e7fbd5e-8825-4d94-a5e9-e33397b6fc9c",
   "metadata": {},
   "source": [
    "## Direct access to the output files"
   ]
  },
  {
   "cell_type": "markdown",
   "id": "1ce2ed98-1814-42bb-8e36-1e83720ee5d6",
   "metadata": {},
   "source": [
    "In case you modified the LAMMPS input files, or in case you are interested in a specific property which is currently not parsed by the LAMMPS output parser, you can directly access the output files from the python interface. The output files are located in the working directory of the job object."
   ]
  },
  {
   "cell_type": "code",
   "execution_count": 37,
   "id": "b12c5f54-5d89-48e2-af59-6351372eb782",
   "metadata": {},
   "outputs": [
    {
     "data": {
      "text/plain": [
       "'/home/janssen/pyiron/projects/2023-08-11-lammps-workshop/test/lmp_hdf5/lmp'"
      ]
     },
     "execution_count": 37,
     "metadata": {},
     "output_type": "execute_result"
    }
   ],
   "source": [
    "lmp.working_directory"
   ]
  },
  {
   "cell_type": "markdown",
   "id": "bce1134f-dfac-4b6d-81a6-5d1f6e038ad4",
   "metadata": {},
   "source": [
    "Still by default they are compressed, so access them we have to decompress the output files by calling the `decompress()` function of the job object:"
   ]
  },
  {
   "cell_type": "code",
   "execution_count": 38,
   "id": "59916c2c-d44d-47a7-893a-30432cc64e81",
   "metadata": {},
   "outputs": [],
   "source": [
    "lmp.decompress()"
   ]
  },
  {
   "cell_type": "markdown",
   "id": "1f26b3b2-5c74-41d7-be42-98f45cb902b7",
   "metadata": {},
   "source": [
    "Now the output files can be accessed in the same way like the output properties stored in the HDF5 file using the dictionary like notation:"
   ]
  },
  {
   "cell_type": "code",
   "execution_count": 39,
   "id": "33188f6f-0916-4187-9ef0-d42d54612f27",
   "metadata": {},
   "outputs": [
    {
     "data": {
      "text/plain": [
       "['LAMMPS (28 Mar 2023 - Update 1)\\n',\n",
       " 'OMP_NUM_THREADS environment is not set. Defaulting to 1 thread. (src/comm.cpp:98)\\n',\n",
       " '  using 1 OpenMP thread(s) per MPI task\\n',\n",
       " 'units metal\\n',\n",
       " 'dimension 3\\n',\n",
       " 'boundary p p p\\n',\n",
       " 'atom_style atomic\\n',\n",
       " 'read_data structure.inp\\n',\n",
       " 'Reading data file ...\\n',\n",
       " '  orthogonal box = (0 0 0) to (4.05 4.05 4.05)\\n',\n",
       " '  1 by 1 by 2 MPI processor grid\\n',\n",
       " '  reading atoms ...\\n',\n",
       " '  4 atoms\\n',\n",
       " '  read_data CPU = 0.001 seconds\\n',\n",
       " 'include potential.inp\\n',\n",
       " 'pair_style eam/alloy\\n',\n",
       " 'pair_coeff * * NiAl02.eam.alloy Ni Al\\n',\n",
       " 'fix ensemble all npt temp 500.0 500.0 0.1 iso 0.0 0.0 1.0\\n',\n",
       " 'variable dumptime  equal 100\\n',\n",
       " 'variable thermotime  equal 100\\n',\n",
       " 'timestep 0.001\\n',\n",
       " 'velocity all create 1000.0 61040 dist gaussian\\n',\n",
       " 'dump 1 all custom ${dumptime} dump.out id type xsu ysu zsu fx fy fz vx vy vz\\n',\n",
       " 'dump 1 all custom 100 dump.out id type xsu ysu zsu fx fy fz vx vy vz\\n',\n",
       " 'dump_modify 1 sort id format line \"%d %d %20.15g %20.15g %20.15g %20.15g %20.15g %20.15g %20.15g %20.15g %20.15g\"\\n',\n",
       " 'thermo_style custom step temp pe etotal pxx pxy pxz pyy pyz pzz vol\\n',\n",
       " 'thermo_modify format float %20.15g\\n',\n",
       " 'thermo ${thermotime}\\n',\n",
       " 'thermo 100\\n',\n",
       " 'run 10000\\n',\n",
       " 'Neighbor list info ...\\n',\n",
       " '  update: every = 1 steps, delay = 0 steps, check = yes\\n',\n",
       " '  max neighbors/atom: 2000, page size: 100000\\n',\n",
       " '  master list distance cutoff = 7.954144\\n',\n",
       " '  ghost atom cutoff = 7.954144\\n',\n",
       " '  binsize = 3.977072, bins = 2 2 2\\n',\n",
       " '  1 neighbor lists, perpetual/occasional/extra = 1 0 0\\n',\n",
       " '  (1) pair eam/alloy, perpetual\\n',\n",
       " '      attributes: half, newton on\\n',\n",
       " '      pair build: half/bin/atomonly/newton\\n',\n",
       " '      stencil: half/bin/3d\\n',\n",
       " '      bin: standard\\n',\n",
       " 'Per MPI rank memory allocation (min/avg/max) = 4.49 | 4.49 | 4.49 Mbytes\\n',\n",
       " '   Step          Temp          PotEng         TotEng          Pxx            Pxy            Pxz            Pyy            Pyz            Pzz           Volume    \\n',\n",
       " '         0                  1000    -13.4486826111902    -13.0609021761902     7761.54438456979    -7443.22978534658    -866.826476810961       12240.52852859      2194.1609925506      2119.0967280724            66.430125\\n',\n",
       " '       100      103.003049683497    -13.1098550978969    -13.0699125304844    -1804.72762979836     21058.7854387891     1208.46784815648    -7271.46175317816    -6072.03223020355    -2951.66517956877     69.3216034371248\\n',\n",
       " '       200      578.272466008621    -13.2331159875497    -13.0088732391324     3924.89980958622     15591.2457976429    -815.938552191521     2315.65920423836     394.496043868359    -11937.2129195593     68.4070532175566\\n',\n",
       " '       300      823.295743950498     -13.148171301274    -12.8289133195512     14024.8693237828    -7549.42144537874     10966.4880817279     11703.0858787683    -5140.22041240886     24908.8269151391     67.8171479951513\\n',\n",
       " '       400      553.203661608807    -13.0935314358175    -12.8790098792752    -22177.5857698733     21883.5750419172     5132.88369585636    -25432.3781646592     -1050.5661887925    -37005.5166910003     71.6587161532974\\n',\n",
       " '       500      427.306939985289    -13.2848528540675    -13.1191515830015     22828.5732714047     9305.67861645331     3707.68561094182     14805.6702055119    -1533.95526131573     18390.0177479898     66.5651770044152\\n',\n",
       " '       600      328.763383359464    -13.3094231396723    -13.1819351318611     14146.0124851349    -5843.94848633414     10797.9751650086     7848.23976233428     1292.75262122434     13002.8694345675     66.8231007650026\\n',\n",
       " '       700        337.2840463451    -13.2527837757993     -13.121991621589    -31872.2230725223      12393.899671947     -44.009132605102    -32415.9277107432    -1158.70082854766    -34431.0158436233      70.558450154571\\n',\n",
       " '       800      555.280908390354    -13.2470005925373    -13.0316735203345     48792.9831033225    -7455.83622272086      14024.982944914     33988.4104130779     1166.37531040446     36370.3309275713     65.4862253469868\\n',\n",
       " '       900      570.919829619344    -13.2616987589216    -13.0403072190417    -21505.9946982606     4416.78886808376     10279.0366482864    -26661.3455556999     3734.39625613136    -17739.8314375136      69.714567592015\\n',\n",
       " '      1000       734.29756874247    -13.3094896524895    -13.0247434218631    -23754.9265422138     3453.81529302066    -6284.14338490472     -30194.629089213       446.6860315673    -29195.6371864726     69.8521438598908\\n',\n",
       " '      1100      340.046402366477    -13.1275747067968    -12.9957113649669     57266.9789132631    -286.074314231222     21711.2826532612      44791.355873344     9047.00873469907     53327.3588869352     65.3931365788163\\n',\n",
       " '      1200      427.676935852705    -13.2622318094365    -13.0963870612121    -39129.0505773752     652.420814559809     546.717474373475     -38510.594815413     1555.61728370416    -41605.9455561298     71.1105143894581\\n',\n",
       " '      1300      391.009232850219    -13.3982172998528    -13.2465915694492     7976.60860125624     -2425.2207278827     1832.65779368158     3490.91268151681    -984.337926783949     8552.23613001564     66.5715815962311\\n',\n",
       " '      1400      280.586828103061     -13.349040386894    -13.2402343046369     27587.1396405314     2103.97348562023     6804.68046726544     25202.1493005999     2984.40457230284     26960.4524860521     65.5519083631968\\n',\n",
       " '      1500      537.763983485372    -13.2180054978992    -13.0094711464559    -43255.0875059862    -9268.56076855249     588.489248752013    -44365.1341660786    -597.453873274677      -50280.69184834     72.1239633872098\\n',\n",
       " '      1600      576.627240436146     -13.148605639175    -12.9250008770458     39862.5968403334     4634.53971002071     10255.3477339564     32354.8120360578     8667.14356820752     47249.9565698069     66.1505164244771\\n',\n",
       " '      1700      616.141521343732    -13.2655924893526    -13.0266648621844    -9534.08334342129    -4744.77547872493     5302.88443317127    -8108.05296719975     2439.07761863912    -13999.2542286663     68.8354277906333\\n',\n",
       " '      1800      356.346383531096    -13.2339301419354    -13.0957459863191    -35039.4154706604    -9704.40663671462    -1100.13074896546    -38807.4457323956      -501.1309889477    -36334.3631330368     71.0652560853548\\n',\n",
       " '      1900      482.773150678161    -13.2787355073462    -13.0915255249699     65436.8268655514      6990.3921133598    -1503.71450165463     64771.4352794886     7149.06627577445     66173.5133919997      63.557718176564\\n',\n",
       " '      2000      232.055165363578    -13.2538587714381    -13.1638723184694    -35997.7723862388    -7996.30183110748     2277.72293362783    -37600.8704102776    -512.464634066582    -43651.8957577894      71.008781388261\\n',\n",
       " '      2100      328.779177148666     -13.270557782112    -13.1430636497784    -13257.2944708862    -6579.23396497529    -6665.50982393079    -13436.2919167051     1526.24404705967    -13156.4935946935     68.8670966580852\\n',\n",
       " '      2200      1188.03535609678    -13.3578353800604    -12.8971385128778     56541.4702917237     10452.8555028529      3128.7758324966       47325.93469309    -1847.23502882098     43537.2174053402     64.4018694284168\\n',\n",
       " '      2300      282.246792489543    -12.8938506900353    -12.7844009060663    -45352.4236087305    -24921.6738463491     -1790.5651270758    -47432.5963233609     961.653510549513    -56663.2620077648     75.9872672643436\\n',\n",
       " '      2400      521.640664042688     -13.128162724442    -12.9258806808258     15195.4221391904     555.010274723163    -14432.5729445453     9250.98215687754    -1146.41534823017     20319.0998868349     67.9825216978232\\n',\n",
       " '      2500      662.490401981001    -13.3169022592842    -13.0600014430207     44071.4555465396    -1713.39603420224      9034.9217707119     39029.4496955275       7306.081443277     43539.7945938766     64.9023627351014\\n',\n",
       " '      2600      186.656347743889    -13.0998654536911    -13.0274837739675    -61850.9183843956    -8939.36025656255    -7376.67209373152    -66094.3129314767    -2985.73769710117    -67692.8105371818     75.0425343750491\\n',\n",
       " '      2700       425.47644870606     -13.237595916923    -13.0726044745615     70699.8996178114     10278.6422511751     4223.44829350296     68015.3971166625    -966.981854925248     70670.5443672288      63.531130697369\\n',\n",
       " '      2800      587.593952283663    -13.2600678647264    -13.0322104263064    -192.614741064298    -10879.7413211344    -2607.49446500676    -7106.18495224504    -1325.15991642312    -9190.86014875001     68.4790908511874\\n',\n",
       " '      2900      500.753123585785     -12.919824125724    -12.7256418616323    -57971.7063986483    -8119.39661873984    -13879.0716232005    -63837.9140949348    -9276.61391478399    -56666.7143486618     76.7009545463597\\n',\n",
       " '      3000      947.921066368267    -13.0900329216904    -12.7224476782285     79098.3232240913      24306.174514208     15981.5059530096     77986.7420295923     9696.74516113041     68337.2103580927     64.3473226416764\\n',\n",
       " '      3100      64.5628383409785     -13.052869108422    -13.0278329028853    -2580.21604560593     -14295.500555002     -23399.251970113    -7657.00677526257    -17385.8264793484    -7519.90137581625     69.9096796815646\\n',\n",
       " '      3200      255.811086777886    -13.0860505836718    -12.9868520491632    -31207.4440699026     11414.6309134474     7045.79274001437    -32362.9025924297     1499.85797723128    -39316.6036734296     72.1826016359629\\n',\n",
       " '      3300      780.603160139901    -13.2337510966185    -12.9310484636171      67268.620094089    -9889.89420816966      1553.3484795601     60333.6054853111     1499.51047835042     68549.7133473313     63.9772955544028\\n',\n",
       " '      3400      321.406002489662    -13.1644657038153    -13.0398307443583    -33964.7936667721    -833.733505684647      -11036.14660959    -35217.6847572222    -11742.2267890644    -31799.6903049993     71.3877755596398\\n',\n",
       " '      3500      159.866555488595    -13.1795404575864    -13.1175473351571     2671.48698564631     6454.35544731255     16180.2333618783    -6528.34132829729     6801.29303158155    -6233.13429932644     68.7643311156698\\n',\n",
       " '      3600       500.77062217773    -13.2630082103361    -13.0688191606328     43695.4227288896    -14928.1471532678      -9275.906755708     40225.7693284884    -5006.97375757547     46014.0675297827     65.1187722813834\\n',\n",
       " '      3700        538.6998746381    -13.2051604205655    -12.9962631488439    -34814.4363672609     9464.98181192193     8014.51176633089    -41263.6569679604    -261.997633631481    -42186.4548095189     71.6411236967403\\n',\n",
       " '      3800      818.899340546625    -13.1343783343952    -12.8168251918968     28119.8250650225    -8705.73114022009      15319.746514845     14835.0237498869     7947.54715883082     6543.64520464218     67.9618097612525\\n',\n",
       " '      3900      768.585579491418    -13.2017244483753    -12.9036819980254     2313.72488692912    -9946.47133768705     -6267.5183890782     -2407.2328372845    -1854.42438540203    -4510.34012179768      68.711098551541\\n',\n",
       " '      4000      450.567330666786    -13.2846343507059    -13.1099131552231    -21971.2459925659     6536.12614778991     5461.24239294393    -28416.1077642154     1339.37551372765    -27153.4221428787     69.7815245035547\\n',\n",
       " '      4100      329.740595102389    -13.2429795141422    -13.1151125627362     45516.3153923488    -16433.3106211398    -1436.34867566614     41695.3803670477    -2332.84911282304     28911.4591670824     65.4823444341606\\n',\n",
       " '      4200      495.243121613928    -13.2889871414306    -13.0969415483004    -22268.6969754565    -2709.17425563841     289.611303552465    -28165.0773408292     641.566351254496    -18077.4318294636     69.5247727859272\\n',\n",
       " '      4300       870.76916796055    -13.3109644222529    -12.9732971755165    -6744.91363901005    -2422.10820363405     2919.89492128539    -8055.53108435965    -169.732150546551    -21572.0002832946     68.7088607546189\\n',\n",
       " '      4400      259.363393855547    -12.8460252533993    -12.7454492037069     53799.9510085994    -44560.9868532861    -16392.0742378893     41037.6361010768    -3369.86361708073     32685.3570293429     67.8756470256239\\n',\n",
       " '      4500      994.974435051311    -13.2365034245081      -12.85067180527    -49708.7296309372     5174.18925703206    -598.487789766055    -46606.0303710719     1218.89629010599     -50038.794001353     72.4270213502565\\n',\n",
       " '      4600      473.885392088028     -13.322129018989     -13.138365535505     22580.9773167796    -9849.53293863503     1768.97365315769     21169.6796525697    -40.4921803825273     16019.6834662319     66.2385160648843\\n',\n",
       " '      4700      317.573790106582    -13.3052361344399    -13.1820872319677     16788.9474574063    -6970.05774904211    -6573.14757764752     17237.8802724229    -2035.35364004706     7210.15570564563     66.7083831108429\\n',\n",
       " '      4800      538.281584010172    -13.2952509585015    -13.0865158917016    -41497.8552530754     1836.17918430007     9674.43425781928    -46242.6891381319     2962.96093549331     -42318.244742292     71.1413810913699\\n',\n",
       " '      4900      474.812698707233    -13.0616429366459    -12.8775198617977     58840.0943043243    -33784.1801098089    -18289.5932723227     61377.7386959936    -10160.0486636706     41487.3067259927     65.6999820768887\\n',\n",
       " '      5000      661.721339928506    -13.1693674814762    -12.9127648924299    -14301.4424551185     735.161315198634     13208.3009815004    -24969.6777109165     3506.83090550426    -33077.1629471556     70.7429998782036\\n',\n",
       " '      5100      503.861165470406    -13.1925351818809    -12.9971476799552    -18575.1745563445    -306.132719017339     4061.59358188327    -18806.6364313725    -8509.58927603181    -22402.5303430329     70.1034926518284\\n',\n",
       " '      5200      674.423778223649    -13.2713241091884    -13.0097957630945     51867.7979865517    -19140.1373576098    -5619.06198681852      44160.117537282     1017.06221411596     36141.7253918221     65.0756832918414\\n',\n",
       " '      5300      356.308349206721    -13.1823297539639    -13.0441603473144    -29649.2630259281     8308.84637647371     16006.6754235218    -37207.5208045209    -4653.66405415622    -32327.1257108616     71.2190020683544\\n',\n",
       " '      5400      252.702874364948    -13.1551555052373    -13.0571622746903     20804.3336547561    -17473.1966698274    -5862.10471128104     16386.8437305297     -5957.5238471984     6855.72878049241     67.6723174174779\\n',\n",
       " '      5500      660.536156209133    -13.2871764921668    -13.0310334941788     25873.7168110065     5489.04302746217     4836.10209966463     16801.2309296907     409.867857356832     15494.0833781266     66.5915945524827\\n',\n",
       " '      5600      343.360119981403    -13.1834070303647    -13.0502586936766    -36935.3839658179    -809.264726038745     8232.02411783664    -39326.4871150175    -8347.15200619627    -36527.3031798103     71.5824626755608\\n',\n",
       " '      5700      253.718666500993    -13.2492654411692    -13.1508783063058     42961.3058959088    -10037.2153846367    -9453.30177454402     41458.9808272264     2080.23549100131     33152.6240341284     65.3856510103672\\n',\n",
       " '      5800       280.73534442084    -13.3114533375241    -13.2025896635448    -1558.05229316153     11075.5703124961      6698.3538533658    -2520.19826985629    -4647.62796556768    -2704.58905751084     67.7380351099894\\n',\n",
       " '      5900      305.413114714865    -13.2191593853728    -13.1007261548939    -22602.6608402269      -12050.08814059     147.746673044436    -25608.2105369232    -3129.56544399404    -28106.2387647615     70.2134222847991\\n',\n",
       " '      6000      743.241850050128    -13.1863618508121    -12.8981472028895     47566.2088315333      13562.522904402    -5314.30251163245     50466.8796154955     5344.99492286755     31237.8708197575     65.7452836237237\\n',\n",
       " '      6100      541.050317520198    -13.1405201247984    -12.9307113973136    -25606.6008595069     11137.3835686469     11774.5096662513    -32813.8250753304    -6946.07590756518    -28214.3570119891     71.3172054311693\\n',\n",
       " '      6200       508.41243344061    -13.2347252721225    -13.0375728775235    -1317.24060908326    -16950.0600544842    -8581.52216609224    -5499.30867565313     933.875884169475     -13508.337113654     68.7374020368028\\n',\n",
       " '      6300      127.930277362225    -13.2438312050981    -13.1942223464929      44558.785143871       15447.46992649     7332.08870814678     40764.7553757797    -359.990506737017     33109.5464845997     65.3443765284225\\n',\n",
       " '      6400      235.082225182181    -13.3553240012473    -13.2641637137054    -36362.8415371018    -510.419547390636    -1588.26736840629     -37785.759544826    -84.8569263386954    -36694.3326857014     69.9496323884792\\n',\n",
       " '      6500      323.397323877902    -13.3608609511665    -13.2354537962353     30077.9933239795     1296.16056047475     1393.08659543831     25844.8317018007     328.476564419735     21170.6050334405     65.5447700547158\\n',\n",
       " '      6600      272.639160178523    -13.2589695065792    -13.1532453744471     7950.69662284857       15731.50131049     4014.28558658208     3342.40184802115    -1411.21438282621    -4683.39016968677     67.7947193415198\\n',\n",
       " '      6700      719.928352238596    -13.3058624255494    -13.0266882959495     -33705.181694425    -6206.97571892202    -2663.52864286799    -40033.7538179838    -2670.38631566924    -36400.2448893959     70.5976776943373\\n',\n",
       " '      6800      436.370901043468     -13.122595477602     -12.953379379774     55124.3614340644     28584.8868262796     7988.46556561329     44150.5886563555     341.814976955378     31844.3727183052     65.9745788759733\\n',\n",
       " '      6900      456.206250086861    -13.2009939103902    -13.0240860522817    -15884.7301656019     8716.43872117968     2831.58659338035    -20907.1893267107    -4982.83496657983    -23797.9287221717     70.0407252224325\\n',\n",
       " '      7000      436.122495525474    -13.3682049535232    -13.1990851824951    -13547.9179720288    -1745.19952082156    -4386.32168943958    -19332.3020733237     2334.74329614796    -19310.4803361302     68.4663204093521\\n',\n",
       " '      7100      84.4783987048642    -13.2822021428745    -13.2494430726766     49192.2334214359     12814.9318676374     1647.97196948773     46620.8306421283    -987.464225690509     44089.1829205806     64.6058943441683\\n',\n",
       " '      7200      355.153569779245    -13.3413670493407    -13.2036454435599    -37647.8503605358    -3666.93196647921    -502.181030621994    -37965.7345676446    -732.677276804108     -43225.666617976     70.3388571153576\\n',\n",
       " '      7300      349.005880897651    -13.2760464711369    -13.1407088188249     20596.4987328335     12227.0643937321     -7873.8615076853     13382.6366912644     5470.64687884991     16762.3420822653     66.7016605556759\\n',\n",
       " '      7400      480.069210346446    -13.2706524995253    -13.0844910523071     15592.7414495249     6932.10074501596     4571.73623419832     18810.2874848659     -4244.2812329647    -328.941552987933     67.1783889307474\\n',\n",
       " '      7500      500.627141238462    -13.1857346017004    -12.9916011910981    -29772.8499342573    -3387.61202854415    -15389.1806953871    -37656.2723261164     8642.81669143352    -29643.6691705397     71.1914809772823\\n',\n",
       " '      7600      667.764390975476    -13.1392314553279    -12.8802854893179     41855.2231752118     27338.8439403833     -4164.7741246254     43114.7327097753      3015.6569073036     27112.5849334579     66.3836051709389\\n',\n",
       " '      7700       641.65109269517    -13.1462278090078    -12.8974080691642    -7782.37338446839    -10064.6079660354    -7091.86254209557    -10615.6332285399     4693.14908149134    -23993.3884676853     70.1082364205239\\n',\n",
       " '      7800      317.681504317185    -13.2221251922989    -13.0989345203633    -22334.6353041663     3918.69072342637    -13015.0218686732    -25604.7790200208     5892.63408936452    -25353.4740898865     70.1031312132794\\n',\n",
       " '      7900      457.565671780887    -13.3146402976803     -13.137205282436     57132.9171407081     976.046299851723     4634.82507572907     52637.4251984307    -230.172507760944     45733.4024833428     64.2019121737672\\n',\n",
       " '      8000      250.107152477607    -13.2422755950553    -13.1452889346709    -32046.2699038361    -7177.30580665831    -8777.35109397874    -34486.6942744928     2349.27319417175    -33767.1582000549     70.6455969099545\\n',\n",
       " '      8100      436.373000368195    -13.1332906074271    -12.9640736955221     22607.3731738281     18389.1685249215    -11857.2208376605     12146.2759660775     2944.73313707465     1386.83422061474      68.091640019664\\n',\n",
       " '      8200      642.314013439097    -13.1325310669077    -12.8834542593697     29546.5246900554    -32554.9960893891     3369.35714931399     25303.0815489409    -4656.63076086647     7992.22018542937     67.5270459852223\\n',\n",
       " '      8300       421.16752272638    -13.1294497369941    -12.9661292118234    -31563.0172953233     6014.86056451599    -19923.2894141582    -42174.2107775953     2665.31308355266    -33604.0360253998     71.9747795793526\\n',\n",
       " '      8400      583.663934949592    -13.2926151503309    -13.0662816957423     41925.7697949849     5601.28395791757     4374.16987925308     37331.8882568215    -1867.17553081273     24923.6360716376     65.5206731990016\\n',\n",
       " '      8500      187.880203413241    -13.2554976091953    -13.1826413421878     846.263065966885    -14566.4249660647    -7075.41209246093    -2322.57784599259    -1665.61917265461    -9600.72134293167     68.2059196237025\\n',\n",
       " '      8600        217.0742643162    -13.3574644949698     -13.273287342326    -30558.1641720785     5424.90210066869    -1045.06884669026    -29945.2039050893     812.951779857977     -31937.561219591     69.4481568437451\\n',\n",
       " '      8700       144.23256620105     -13.324165194895    -13.2682346276324     58638.5284064834    -7467.80189081146     849.328034248862     55415.1682636223    -492.032210100253     50034.7813880322     63.8171904467989\\n',\n",
       " '      8800      257.871579608333    -13.2896640884379    -13.1896665351233    -28977.5376181442    -4782.41868424878    -6449.38827832918    -30971.3481130292      -96.06800013272    -32916.9087955465     70.0425823721765\\n',\n",
       " '      8900      589.801056036801    -13.3441653862434      -13.11545207617    -7617.20844151545     5717.24657351462     5065.92511132576    -7479.25822483073    -430.673433217714    -18158.3504442071     68.2606155238687\\n',\n",
       " '      9000      104.665883484352    -13.0582921461524    -13.0177047643252      56778.681965023     -35572.869051045    -3382.96954615734     50482.5262960186    -4151.67354883869     33990.9506221805     66.0410389809397\\n',\n",
       " '      9100      850.505102034018    -13.2670394708289    -12.9372302323924    -46835.9194567272     1078.50457536691     2451.37802429012    -42858.5598419012     2293.68852696345    -51606.2936176334     71.8881320245032\\n',\n",
       " '      9200      859.543518776353    -13.2523586095128    -12.9190444499003     12084.0296837196      -10224.65807141    -10283.8757940475     17797.3534343131     -7410.3495255168     3319.10522274552     67.4724062898751\\n',\n",
       " '      9300      352.968578639816    -13.1885290767976    -13.0516547678313     17421.8827734414    -21655.8239554359     2607.34503418276     15789.1862995535     1362.82874761774    -2767.18050561913     67.7782682880315\\n',\n",
       " '      9400      353.727579684098    -13.3152739154457    -13.1781052807243    -27959.9990394788     3438.25001883198    -7076.55876155925    -31324.7797321947    -961.682513949991    -29416.8279170562     69.7600432976106\\n',\n",
       " '      9500      365.423689705271    -13.3063558140879    -13.1646516567347     41269.4808746047    -13015.5269396447     1779.43189469022     42604.0933240828    -1273.99558751298     33658.1087722775     65.0463932444454\\n',\n",
       " '      9600       397.09178900417    -13.2115344898387    -13.0575500631637    -5722.85118443394    -1001.40916788119    -5997.24733981382     -14298.875164085      1626.7761987871    -26225.4949259312     69.5444810971898\\n',\n",
       " '      9700       732.13849097277    -13.1146692128712    -12.8307602303615    -8731.39075174649     5572.48963508164    -16078.5042397015     -15517.524884205    -3812.99278853699    -11872.0156411194     70.2017367352217\\n',\n",
       " '      9800      763.295545421047    -13.1977166019364    -12.9017255232994     28672.9213796056    -22932.7358705431     8751.91148250301      22199.378455239     1341.78739520818     3000.59672683899     67.3353423614927\\n',\n",
       " '      9900      466.681237463627    -13.2603094266241    -13.0793395733541    -9841.41769612566     7364.24445822817    -11731.9789582469    -20996.9059567106    -763.913612320512    -21694.1794997065     69.3313427200306\\n',\n",
       " '     10000      290.164247885368    -13.2576687939921    -13.1451487757257     10761.6592840216    -7767.37415676193    -6254.82188814634     10370.1815650406     4030.87376343954     5940.28494553273     67.3544700410291\\n',\n",
       " 'Loop time of 0.395061 on 2 procs for 10000 steps with 4 atoms\\n',\n",
       " '\\n',\n",
       " 'Performance: 2187.002 ns/day, 0.011 hours/ns, 25312.525 timesteps/s, 101.250 katom-step/s\\n',\n",
       " '95.8% CPU use with 2 MPI tasks x 1 OpenMP threads\\n',\n",
       " '\\n',\n",
       " 'MPI task timing breakdown:\\n',\n",
       " 'Section |  min time  |  avg time  |  max time  |%varavg| %total\\n',\n",
       " '---------------------------------------------------------------\\n',\n",
       " 'Pair    | 0.16539    | 0.17055    | 0.17572    |   1.3 | 43.17\\n',\n",
       " 'Neigh   | 0          | 0          | 0          |   0.0 |  0.00\\n',\n",
       " 'Comm    | 0.1347     | 0.13979    | 0.14487    |   1.4 | 35.38\\n',\n",
       " 'Output  | 0.0049934  | 0.0052251  | 0.0054567  |   0.3 |  1.32\\n',\n",
       " 'Modify  | 0.046138   | 0.046456   | 0.046774   |   0.1 | 11.76\\n',\n",
       " 'Other   |            | 0.03304    |            |       |  8.36\\n',\n",
       " '\\n',\n",
       " 'Nlocal:              2 ave           2 max           2 min\\n',\n",
       " 'Histogram: 2 0 0 0 0 0 0 0 0 0\\n',\n",
       " 'Nghost:            322 ave         322 max         322 min\\n',\n",
       " 'Histogram: 2 0 0 0 0 0 0 0 0 0\\n',\n",
       " 'Neighs:            134 ave         156 max         112 min\\n',\n",
       " 'Histogram: 1 0 0 0 0 0 0 0 0 1\\n',\n",
       " '\\n',\n",
       " 'Total # of neighbors = 268\\n',\n",
       " 'Ave neighs/atom = 67\\n',\n",
       " 'Neighbor list builds = 0\\n',\n",
       " 'Dangerous builds = 0\\n',\n",
       " 'Total wall time: 0:00:00\\n']"
      ]
     },
     "execution_count": 39,
     "metadata": {},
     "output_type": "execute_result"
    }
   ],
   "source": [
    "lmp[\"log.lammps\"]"
   ]
  },
  {
   "cell_type": "markdown",
   "id": "f522de6e-9320-41fc-bd72-71cd3ceb49b8",
   "metadata": {},
   "source": [
    "# Publish your results"
   ]
  },
  {
   "cell_type": "markdown",
   "id": "07ab686e-47e5-4e66-bf5e-79021619052c",
   "metadata": {},
   "source": [
    "To support users in publishing their simulation protocols and the results derived from corresponding calculation pyiron provides a `list_publications()` function to list all publication involved in creating the simulation protocol. In this particular case these are four publication: \n",
    "\n",
    "* the pyiron paper, as pyiron was used to develop the simulation protocol.\n",
    "* the ASE paper, as ASE was used to create the atomistic structure.\n",
    "* the LAMMPS paper, as LAMMPS was used to execute the calculation.\n",
    "* the paper for the interatomic potential which defines the interaction between the atoms."
   ]
  },
  {
   "cell_type": "code",
   "execution_count": 40,
   "id": "5a327e38-61d8-40d4-948b-407e26426a57",
   "metadata": {},
   "outputs": [
    {
     "data": {
      "text/html": [
       "<div>\n",
       "<style scoped>\n",
       "    .dataframe tbody tr th:only-of-type {\n",
       "        vertical-align: middle;\n",
       "    }\n",
       "\n",
       "    .dataframe tbody tr th {\n",
       "        vertical-align: top;\n",
       "    }\n",
       "\n",
       "    .dataframe thead th {\n",
       "        text-align: right;\n",
       "    }\n",
       "</style>\n",
       "<table border=\"1\" class=\"dataframe\">\n",
       "  <thead>\n",
       "    <tr style=\"text-align: right;\">\n",
       "      <th></th>\n",
       "      <th>author</th>\n",
       "      <th>title</th>\n",
       "      <th>journal</th>\n",
       "      <th>volume</th>\n",
       "      <th>pages</th>\n",
       "      <th>issn</th>\n",
       "      <th>doi</th>\n",
       "      <th>url</th>\n",
       "      <th>year</th>\n",
       "      <th>number</th>\n",
       "      <th>publisher</th>\n",
       "    </tr>\n",
       "  </thead>\n",
       "  <tbody>\n",
       "    <tr>\n",
       "      <th>0</th>\n",
       "      <td>[Jan Janssen, Sudarsan Surendralal, Yury Lysogorskiy, Mira Todorova, Tilmann Hickel, Ralf Drautz, Jörg Neugebauer]</td>\n",
       "      <td>pyiron: An integrated development environment for computational materials science</td>\n",
       "      <td>Computational Materials Science</td>\n",
       "      <td>161</td>\n",
       "      <td>24 - 36</td>\n",
       "      <td>0927-0256</td>\n",
       "      <td>https://doi.org/10.1016/j.commatsci.2018.07.043</td>\n",
       "      <td>http://www.sciencedirect.com/science/article/pii/S0927025618304786</td>\n",
       "      <td>2019</td>\n",
       "      <td>NaN</td>\n",
       "      <td>NaN</td>\n",
       "    </tr>\n",
       "    <tr>\n",
       "      <th>1</th>\n",
       "      <td>[Ask Hjorth Larsen, Jens Jørgen Mortensen, Jakob Blomqvist, Ivano E Castelli, Rune Christensen, Marcin Dułak, Jesper Friis, Michael N Groves, Bjørk Hammer, Cory Hargus, Eric D Hermes, Paul C Jenni...</td>\n",
       "      <td>The atomic simulation environment—a Python library for working with atoms</td>\n",
       "      <td>Journal of Physics: Condensed Matter</td>\n",
       "      <td>29</td>\n",
       "      <td>273002</td>\n",
       "      <td>NaN</td>\n",
       "      <td>NaN</td>\n",
       "      <td>http://stacks.iop.org/0953-8984/29/i=27/a=273002</td>\n",
       "      <td>2017</td>\n",
       "      <td>27</td>\n",
       "      <td>NaN</td>\n",
       "    </tr>\n",
       "    <tr>\n",
       "      <th>2</th>\n",
       "      <td>[Steve Plimpton]</td>\n",
       "      <td>Fast Parallel Algorithms for Short-Range Molecular Dynamics</td>\n",
       "      <td>Journal of Computational Physics</td>\n",
       "      <td>117</td>\n",
       "      <td>1-19</td>\n",
       "      <td>0021-9991</td>\n",
       "      <td>10.1006/jcph.1995.1039</td>\n",
       "      <td>http://www.sciencedirect.com/science/article/pii/S002199918571039X</td>\n",
       "      <td>1995</td>\n",
       "      <td>1</td>\n",
       "      <td>NaN</td>\n",
       "    </tr>\n",
       "    <tr>\n",
       "      <th>3</th>\n",
       "      <td>[Y. Mishin, M. J. Mehl, D. A. Papaconstantopoulos]</td>\n",
       "      <td>Embedded-atom potential for B2-NiAl</td>\n",
       "      <td>Physical Review B</td>\n",
       "      <td>65</td>\n",
       "      <td>224114</td>\n",
       "      <td>NaN</td>\n",
       "      <td>10.1103/physrevb.65.224114</td>\n",
       "      <td>https://doi.org/10.1103%2Fphysrevb.65.224114</td>\n",
       "      <td>2002</td>\n",
       "      <td>22</td>\n",
       "      <td>American Physical Society (APS)</td>\n",
       "    </tr>\n",
       "  </tbody>\n",
       "</table>\n",
       "</div>"
      ],
      "text/plain": [
       "                                                                                                                                                                                                    author  \\\n",
       "0                                                                                       [Jan Janssen, Sudarsan Surendralal, Yury Lysogorskiy, Mira Todorova, Tilmann Hickel, Ralf Drautz, Jörg Neugebauer]   \n",
       "1  [Ask Hjorth Larsen, Jens Jørgen Mortensen, Jakob Blomqvist, Ivano E Castelli, Rune Christensen, Marcin Dułak, Jesper Friis, Michael N Groves, Bjørk Hammer, Cory Hargus, Eric D Hermes, Paul C Jenni...   \n",
       "2                                                                                                                                                                                         [Steve Plimpton]   \n",
       "3                                                                                                                                                       [Y. Mishin, M. J. Mehl, D. A. Papaconstantopoulos]   \n",
       "\n",
       "                                                                               title  \\\n",
       "0  pyiron: An integrated development environment for computational materials science   \n",
       "1          The atomic simulation environment—a Python library for working with atoms   \n",
       "2                        Fast Parallel Algorithms for Short-Range Molecular Dynamics   \n",
       "3                                                Embedded-atom potential for B2-NiAl   \n",
       "\n",
       "                                journal volume    pages       issn  \\\n",
       "0       Computational Materials Science    161  24 - 36  0927-0256   \n",
       "1  Journal of Physics: Condensed Matter     29   273002        NaN   \n",
       "2      Journal of Computational Physics    117     1-19  0021-9991   \n",
       "3                     Physical Review B     65   224114        NaN   \n",
       "\n",
       "                                               doi  \\\n",
       "0  https://doi.org/10.1016/j.commatsci.2018.07.043   \n",
       "1                                              NaN   \n",
       "2                           10.1006/jcph.1995.1039   \n",
       "3                       10.1103/physrevb.65.224114   \n",
       "\n",
       "                                                                  url  year  \\\n",
       "0  http://www.sciencedirect.com/science/article/pii/S0927025618304786  2019   \n",
       "1                    http://stacks.iop.org/0953-8984/29/i=27/a=273002  2017   \n",
       "2  http://www.sciencedirect.com/science/article/pii/S002199918571039X  1995   \n",
       "3                        https://doi.org/10.1103%2Fphysrevb.65.224114  2002   \n",
       "\n",
       "  number                        publisher  \n",
       "0    NaN                              NaN  \n",
       "1     27                              NaN  \n",
       "2      1                              NaN  \n",
       "3     22  American Physical Society (APS)  "
      ]
     },
     "execution_count": 40,
     "metadata": {},
     "output_type": "execute_result"
    }
   ],
   "source": [
    "pr.list_publications()"
   ]
  },
  {
   "cell_type": "markdown",
   "id": "e38b84c8-f11e-419c-8d3f-3bc669585977",
   "metadata": {},
   "source": [
    "# Summary"
   ]
  },
  {
   "cell_type": "markdown",
   "id": "edd5f633-ebd2-41f2-a44e-dc007886636c",
   "metadata": {},
   "source": [
    "In this first pyiron LAMMPS tutorial you learned about the three most fundamental objects in an atomistic simulation with pyiron, namely the project object, the atomistic structure object and the LAMMPS job object. You also learned how to create both structure objects and LAMMPS job objects from the project object and finally the tutorial demonstrated the basic settings to setup, run and analyse your LAMMPS simulation. "
   ]
  },
  {
   "cell_type": "code",
   "execution_count": null,
   "id": "98d1b9ad-1d58-4f13-830f-12854afeddab",
   "metadata": {},
   "outputs": [],
   "source": []
  }
 ],
 "metadata": {
  "kernelspec": {
   "display_name": "flux",
   "language": "python",
   "name": "flux"
  },
  "language_info": {
   "codemirror_mode": {
    "name": "ipython",
    "version": 3
   },
   "file_extension": ".py",
   "mimetype": "text/x-python",
   "name": "python",
   "nbconvert_exporter": "python",
   "pygments_lexer": "ipython3",
   "version": "3.10.12"
  }
 },
 "nbformat": 4,
 "nbformat_minor": 5
}
