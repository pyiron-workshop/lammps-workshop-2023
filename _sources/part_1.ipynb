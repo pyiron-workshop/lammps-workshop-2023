{
 "cells": [
  {
   "cell_type": "markdown",
   "id": "8ef7e657-bcfc-495a-802c-cf037cb16c98",
   "metadata": {},
   "source": [
    "# Introduction to pyiron for LAMMPS users\n",
    "\n",
    "Author: [jan-janssen](https://jan-janssen.com)\n",
    "\n",
    "The [pyiron framework](https://pyiron.org) enables rapid prototyping and up-scaling of simulation protocols. In pyiron simulation protocols are developed in jupyter notebooks using the Python programming language. This has two advantages, on the one hand documentation, code and results can be combined in the same document to maintain their provenance and on the other hand the user no longer has to switch between different interfaces, setting up the calculation, submitting it to an high performance computing (HPC) cluster and analysing the results of the finished calculation can all be done in the same document.\n",
    "\n",
    "While LAMMPS already has a Python interface to access the [LAMMPS library](https://docs.lammps.org/Python_module.html) from Python as well as the ability to call [Python within your LAMMPS simulation protocol](https://docs.lammps.org/Python_call.html), pyiron adds an abstraction layer on top of this functionality. In particular pyiron provides job management and data management for LAMMPS calculation. This enables users to run parameter studies over hundreds or thousands of parameters. Consequently, pyiron is very beneficial to up-scale simulation protocols to iterate over the periodic table and identify chemical trends. \n",
    "\n",
    "This tutorial covers the basic usage of the pyiron framework: \n",
    "* Create a new project in pyiron \n",
    "* Create an atomistic structure\n",
    "* Visualize an atomistic structure\n",
    "* Run a LAMMPS calculation with pyiron\n",
    "* Plot the results of a LAMMPS calculation"
   ]
  },
  {
   "cell_type": "markdown",
   "id": "48710c2b-e16c-4786-bbaa-67455a9e1107",
   "metadata": {},
   "source": [
    "# Create a new project in pyiron"
   ]
  },
  {
   "cell_type": "markdown",
   "id": "4f3feb27-3ac0-48e7-814f-0df0252c329c",
   "metadata": {},
   "source": [
    "To simplify the use of pyiron inside jupyter notebooks, the pyiron framework only requires a single import statement. As LAMMPS is an atomistic simulation code, we are going to import the `Project` class from the `pyiron_atomistics` module."
   ]
  },
  {
   "cell_type": "code",
   "execution_count": 1,
   "id": "d3127aea-30b4-48da-8c54-96cc4749e536",
   "metadata": {},
   "outputs": [
    {
     "data": {
      "application/vnd.jupyter.widget-view+json": {
       "model_id": "0498f88678504eb7b7edca51877ac9b1",
       "version_major": 2,
       "version_minor": 0
      },
      "text/plain": []
     },
     "metadata": {},
     "output_type": "display_data"
    }
   ],
   "source": [
    "from pyiron_atomistics import Project"
   ]
  },
  {
   "cell_type": "markdown",
   "id": "a3fba135-54fc-48df-aeaa-bbf6d3939599",
   "metadata": {},
   "source": [
    "The `Project` class in pyiron behaves just like a folder on the filesystem. In contrast to other workflow systems in pyiron the user does not have to interact with the underlying database directly but rather pyiron leverages the filesystem to structure individual calculation into projects. So we can create a first project named `test` to get started."
   ]
  },
  {
   "cell_type": "code",
   "execution_count": 2,
   "id": "1d121cbd-c0bc-4944-9611-3227a171df11",
   "metadata": {},
   "outputs": [],
   "source": [
    "pr = Project(path=\"test\")"
   ]
  },
  {
   "cell_type": "markdown",
   "id": "6552bb8c-d1cb-4583-9587-84c121de2e91",
   "metadata": {},
   "source": [
    "For validation we can use the `ls` command on the commandline to see that the project folder named test was actually created: "
   ]
  },
  {
   "cell_type": "code",
   "execution_count": 3,
   "id": "ecb5885e-ee82-4aa9-bfff-5a3dab809b2f",
   "metadata": {},
   "outputs": [
    {
     "name": "stdout",
     "output_type": "stream",
     "text": [
      "\u001b[34mevcurve\u001b[m\u001b[m         part_2_v1.ipynb pyiron.log      \u001b[34mtest\u001b[m\u001b[m\n",
      "part_1_v1.ipynb \u001b[34mpotentials\u001b[m\u001b[m      resize.ipynb\n"
     ]
    }
   ],
   "source": [
    "!ls"
   ]
  },
  {
   "cell_type": "markdown",
   "id": "3c6ce38e-cb38-4203-a290-a4cc6d244a85",
   "metadata": {},
   "source": [
    "In addition to creating new projects, the project class can also be used to list the calculation inside a given project `pr.job_table()` and delete the calculation inside a given project `pr.remove_jobs()` if you want to start fresh. The goal of the database in pyiron is store all the calculation that you executed, so if you execute the same jupyter notebook again the results are reloaded rather than being recalculated. Still for this example we are going to delete all existing calculation:"
   ]
  },
  {
   "cell_type": "code",
   "execution_count": 4,
   "id": "1f38808b-ea8e-443b-bfb6-cc64b5603184",
   "metadata": {},
   "outputs": [
    {
     "data": {
      "text/html": [
       "<div>\n",
       "<style scoped>\n",
       "    .dataframe tbody tr th:only-of-type {\n",
       "        vertical-align: middle;\n",
       "    }\n",
       "\n",
       "    .dataframe tbody tr th {\n",
       "        vertical-align: top;\n",
       "    }\n",
       "\n",
       "    .dataframe thead th {\n",
       "        text-align: right;\n",
       "    }\n",
       "</style>\n",
       "<table border=\"1\" class=\"dataframe\">\n",
       "  <thead>\n",
       "    <tr style=\"text-align: right;\">\n",
       "      <th></th>\n",
       "      <th>id</th>\n",
       "      <th>status</th>\n",
       "      <th>chemicalformula</th>\n",
       "      <th>job</th>\n",
       "      <th>subjob</th>\n",
       "      <th>projectpath</th>\n",
       "      <th>project</th>\n",
       "      <th>timestart</th>\n",
       "      <th>timestop</th>\n",
       "      <th>totalcputime</th>\n",
       "      <th>computer</th>\n",
       "      <th>hamilton</th>\n",
       "      <th>hamversion</th>\n",
       "      <th>parentid</th>\n",
       "      <th>masterid</th>\n",
       "    </tr>\n",
       "  </thead>\n",
       "  <tbody>\n",
       "    <tr>\n",
       "      <th>0</th>\n",
       "      <td>2762</td>\n",
       "      <td>finished</td>\n",
       "      <td>Al4</td>\n",
       "      <td>lmp</td>\n",
       "      <td>/lmp</td>\n",
       "      <td>/Users/janssen/pyiron/projects/</td>\n",
       "      <td>2023/2023-08-08-lammps-talk/test/</td>\n",
       "      <td>2023-08-10 18:13:41.052492</td>\n",
       "      <td>2023-08-10 18:13:41.849984</td>\n",
       "      <td>0.0</td>\n",
       "      <td>pyiron@pn2035881.lanl.gov#1</td>\n",
       "      <td>Lammps</td>\n",
       "      <td>0.1</td>\n",
       "      <td>None</td>\n",
       "      <td>None</td>\n",
       "    </tr>\n",
       "  </tbody>\n",
       "</table>\n",
       "</div>"
      ],
      "text/plain": [
       "     id    status chemicalformula  job subjob  \\\n",
       "0  2762  finished             Al4  lmp   /lmp   \n",
       "\n",
       "                       projectpath                            project  \\\n",
       "0  /Users/janssen/pyiron/projects/  2023/2023-08-08-lammps-talk/test/   \n",
       "\n",
       "                   timestart                   timestop  totalcputime  \\\n",
       "0 2023-08-10 18:13:41.052492 2023-08-10 18:13:41.849984           0.0   \n",
       "\n",
       "                      computer hamilton hamversion parentid masterid  \n",
       "0  pyiron@pn2035881.lanl.gov#1   Lammps        0.1     None     None  "
      ]
     },
     "execution_count": 4,
     "metadata": {},
     "output_type": "execute_result"
    }
   ],
   "source": [
    "pr.job_table()"
   ]
  },
  {
   "cell_type": "code",
   "execution_count": 5,
   "id": "1bb09674-e790-463a-8f31-6dd8a7e6ebd0",
   "metadata": {},
   "outputs": [
    {
     "data": {
      "application/vnd.jupyter.widget-view+json": {
       "model_id": "7b2a21db4c354e89a9a6e24fe9921dab",
       "version_major": 2,
       "version_minor": 0
      },
      "text/plain": [
       "  0%|          | 0/1 [00:00<?, ?it/s]"
      ]
     },
     "metadata": {},
     "output_type": "display_data"
    }
   ],
   "source": [
    "pr.remove_jobs(silently=True)"
   ]
  },
  {
   "cell_type": "markdown",
   "id": "ec8a8440-28ba-42b8-99d1-baa338cf1093",
   "metadata": {},
   "source": [
    "# Atomistic structures"
   ]
  },
  {
   "cell_type": "markdown",
   "id": "ba71b5eb-3a61-4dfb-9a28-683829098179",
   "metadata": {},
   "source": [
    "After the `Project` class the next object we want to introduce is the atomistic structure object. The pyiron atomistic structure is base on the `ase.atoms.Atom` class from the [atomic simulation environment (ASE)](https://wiki.fysik.dtu.dk/ase/). "
   ]
  },
  {
   "cell_type": "markdown",
   "id": "4f668f36-450e-4328-a3c7-3d4e1938c118",
   "metadata": {},
   "source": [
    "## Create an atomistic structure"
   ]
  },
  {
   "cell_type": "markdown",
   "id": "d839cac6-69d9-4a76-b366-4316cffc96ce",
   "metadata": {},
   "source": [
    "For demonstration purposes we create a bulk aluminium structure. Rather than having to import a separate module to create the structure object, in pyiron we can use the `Project` instance defined above and then use autocompletion (by clicking `<tab>` on your keyboard) to select the `pr.create.structure.ase.bulk()` function. The function takes an element as input and in addition we use the optional parameter `cubic=True` to generate a cubic aluminium cell.  "
   ]
  },
  {
   "cell_type": "code",
   "execution_count": 6,
   "id": "4679e1cd-ce15-44a1-9bd5-b2181281a848",
   "metadata": {},
   "outputs": [],
   "source": [
    "structure = pr.create.structure.ase.bulk(name=\"Al\", cubic=True)"
   ]
  },
  {
   "cell_type": "markdown",
   "id": "050d6b6d-6b11-4c7e-b1b6-7ff8fda6e4fc",
   "metadata": {},
   "source": [
    "## Visualize an atomistic structure"
   ]
  },
  {
   "cell_type": "markdown",
   "id": "999a7ec8-030d-4f96-b01b-7385f3cd725e",
   "metadata": {},
   "source": [
    "Another focus of pyiron is to represent each pyiron object inside the jupyter environment. So in addtion to the string based representation from ASE you can use the `plot3d()` function of the structure object to visualize it using the [Nglview](http://nglviewer.org/nglview/latest/) package. The Nglview package provides a fully interactive visualization integrated in the jupyter notebook environment.  "
   ]
  },
  {
   "cell_type": "code",
   "execution_count": 7,
   "id": "113c6c21-c754-4aec-9278-f38ccd567f2a",
   "metadata": {},
   "outputs": [
    {
     "data": {
      "text/plain": [
       "Al: [0. 0. 0.]\n",
       "Al: [0.    2.025 2.025]\n",
       "Al: [2.025 0.    2.025]\n",
       "Al: [2.025 2.025 0.   ]\n",
       "tags: \n",
       "    indices: [0 0 0 0]\n",
       "pbc: [ True  True  True]\n",
       "cell: \n",
       "Cell([4.05, 4.05, 4.05])"
      ]
     },
     "execution_count": 7,
     "metadata": {},
     "output_type": "execute_result"
    }
   ],
   "source": [
    "structure"
   ]
  },
  {
   "cell_type": "code",
   "execution_count": 8,
   "id": "5e5234ac-ea8d-4514-99af-87c734f2371d",
   "metadata": {},
   "outputs": [
    {
     "data": {
      "application/vnd.jupyter.widget-view+json": {
       "model_id": "e752773ad686409aa17e868dda63a33f",
       "version_major": 2,
       "version_minor": 0
      },
      "text/plain": [
       "NGLWidget()"
      ]
     },
     "metadata": {},
     "output_type": "display_data"
    }
   ],
   "source": [
    "structure.plot3d()"
   ]
  },
  {
   "cell_type": "markdown",
   "id": "5227f10f-7101-4ae8-8148-8686770fe3a6",
   "metadata": {},
   "source": [
    "# Run a LAMMPS calculation with pyiron"
   ]
  },
  {
   "cell_type": "markdown",
   "id": "1cdace9c-1e3a-4e1e-a0b0-116533385b11",
   "metadata": {},
   "source": [
    "After creating the structure object, the next step is setting up the LAMMPS calculation. In pyiron individual calculation are called `jobs`. So we can create a LAMMPS object, in analogy to creating an atomistic structure object, using `pr.create.job.Lammps()`. The create job function takes a `job_name` as input argument. This `job_name` is used in the pyiron database to differentiate individual calculation and to allow pyiron to reload existing calculation. "
   ]
  },
  {
   "cell_type": "code",
   "execution_count": 9,
   "id": "86cd56fa-9fee-40b6-80bb-5477c3b0f5b4",
   "metadata": {},
   "outputs": [],
   "source": [
    "lmp = pr.create.job.Lammps(job_name=\"lmp\")"
   ]
  },
  {
   "cell_type": "markdown",
   "id": "75b682d9-8f61-4906-8f8e-5c2d07c52f9b",
   "metadata": {},
   "source": [
    "## Assign the atomistic structure to the LAMMPS calculation"
   ]
  },
  {
   "cell_type": "markdown",
   "id": "1b4a9da6-5c0a-4974-88ec-abebd0611ad6",
   "metadata": {},
   "source": [
    "In the next step we can assign the atomistic structure `structure` created above to the LAMMPS calculation. By setting the `structure` property of the LAMMPS job object:"
   ]
  },
  {
   "cell_type": "code",
   "execution_count": 10,
   "id": "2bcf30f4-89b4-466a-93bc-3cd5c3b47779",
   "metadata": {},
   "outputs": [],
   "source": [
    "lmp.structure = structure"
   ]
  },
  {
   "cell_type": "markdown",
   "id": "e96dc6d6-b489-40d0-bc8a-14729855442f",
   "metadata": {},
   "source": [
    "## Select an interatomic potential for the LAMMPS calculation"
   ]
  },
  {
   "cell_type": "markdown",
   "id": "92102a44-c556-456a-ab2c-7d4c48fd5a33",
   "metadata": {},
   "source": [
    "After the atomistic structure is assigned to the LAMMPS job object, pyiron is internally aware of the elements of the structure. In this particular case pyiron knows an aluminium structure was assinged. So when we want to select an interatomic potential, pyiron automatically queries both the [NIST database](https://www.ctcms.nist.gov/potentials/) as well as the [OpenKIM database](https://openkim.org) to list available interatomic potentials for aluminium. All this is done with the simple `lmp.list_potentials()` call. Alternatively, you can also use the `lmp.view_potentials()` function to get more details about the individual potentials: "
   ]
  },
  {
   "cell_type": "code",
   "execution_count": 11,
   "id": "d8dcfec1-21b3-455a-889f-68bda4abaab4",
   "metadata": {},
   "outputs": [
    {
     "data": {
      "text/plain": [
       "['1995--Angelo-J-E--Ni-Al-H--LAMMPS--ipr1',\n",
       " '1996--Farkas-D--Nb-Ti-Al--LAMMPS--ipr1',\n",
       " '1997--Liu-X-Y--Al-Mg--LAMMPS--ipr1',\n",
       " '1998--Liu-X-Y--Al-Mg--LAMMPS--ipr1',\n",
       " '1999--Liu-X-Y--Al-Cu--LAMMPS--ipr1',\n",
       " '1999--Mishin-Y--Al--LAMMPS--ipr1',\n",
       " '2000--Landa-A--Al-Pb--LAMMPS--ipr1',\n",
       " '2000--Sturgeon-J-B--Al--LAMMPS--ipr1',\n",
       " '2002--Mishin-Y--Ni-Al--LAMMPS--ipr1',\n",
       " '2003--Lee-B-J--Al--LAMMPS--ipr1',\n",
       " '2003--Zope-R-R--Al--LAMMPS--ipr1',\n",
       " '2003--Zope-R-R--Ti-Al--LAMMPS--ipr1',\n",
       " '2004--Liu-X-Y--Al--LAMMPS--ipr1',\n",
       " '2004--Mishin-Y--Ni-Al--LAMMPS--ipr1',\n",
       " '2004--Mishin-Y--Ni-Al--LAMMPS--ipr2',\n",
       " '2004--Zhou-X-W--Al--LAMMPS--ipr2',\n",
       " '2005--Mendelev-M-I--Al-Fe--LAMMPS--ipr1',\n",
       " '2007--Silva-A-C--Al-Ni--LAMMPS--ipr1',\n",
       " '2008--Mendelev-M-I--Al--LAMMPS--ipr1',\n",
       " '2009--Kim-Y-M--Mg-Al--LAMMPS--ipr1',\n",
       " '2009--Mendelev-M-I--Al-Mg--LAMMPS--ipr1',\n",
       " '2009--Purja-Pun-G-P--Ni-Al--LAMMPS--ipr1',\n",
       " '2009--Zhakhovskii-V-V--Al--LAMMPS--ipr2',\n",
       " '2010--Lee-E--Fe-Al--LAMMPS--ipr1',\n",
       " '2010--Mendelev-M-I--fictional-Al-1--LAMMPS--ipr1',\n",
       " '2010--Mendelev-M-I--fictional-Al-2--LAMMPS--ipr1',\n",
       " '2010--Mendelev-M-I--fictional-Al-3--LAMMPS--ipr1',\n",
       " '2010--Winey-J-M--Al--LAMMPS--ipr1',\n",
       " '2011--Apostol-F--Al-Cu--LAMMPS--ipr1',\n",
       " '2011--Ko-W-S--Al-H--LAMMPS--ipr1',\n",
       " '2012--Dong-W-P--Co-Al--LAMMPS--ipr1',\n",
       " '2012--Jelinek-B--Al-Si-Mg-Cu-Fe--LAMMPS--ipr2',\n",
       " '2012--Schopf-D--Al-Mn-Pd--LAMMPS--ipr1',\n",
       " '2013--Shim-J-H--V-Al--LAMMPS--ipr1',\n",
       " '2013--Shim-J-H--V-Al-H--LAMMPS--ipr1',\n",
       " '2015--Choudhary-K--Al--LAMMPS--ipr1',\n",
       " '2015--Choudhary-K--Al-O--LAMMPS--ipr1',\n",
       " '2015--Kim-Y-K--Ni-Al-Co--LAMMPS--ipr1',\n",
       " '2015--Kumar-A--Al-Ni--LAMMPS--ipr1',\n",
       " '2015--Kumar-A--Al-Ni-O--LAMMPS--ipr1',\n",
       " '2015--Mendelev-M-I--Al-Sm--LAMMPS--ipr1',\n",
       " '2015--Pascuet-M-I--Al--LAMMPS--ipr1',\n",
       " '2015--Pascuet-M-I--Al-U--LAMMPS--ipr2',\n",
       " '2015--Purja-Pun-G-P--Al-Co--LAMMPS--ipr2',\n",
       " '2015--Purja-Pun-G-P--Ni-Al-Co--LAMMPS--ipr2',\n",
       " '2016--Kim-Y-K--Al-Ti--LAMMPS--ipr1',\n",
       " '2016--Zhou-X-W--Al-Cu--LAMMPS--ipr2',\n",
       " '2017--Botu-V--Al--LAMMPS--ipr1',\n",
       " '2017--Kim-J-S--Pt-Al--LAMMPS--ipr1',\n",
       " '2017--Kim-Y-K--Ni-Al-Ti--LAMMPS--ipr1',\n",
       " '2018--Dickel-D-E--Mg-Al-Zn--LAMMPS--ipr1',\n",
       " '2018--Jeong-G-U--Pd-Al--LAMMPS--ipr1',\n",
       " '2018--Zhou-X-W--Al-Cu-H--LAMMPS--ipr1',\n",
       " '2019--Plummer-G--Ti-Al-C--LAMMPS--ipr1',\n",
       " '2020--Farkas-D--Fe-Ni-Cr-Co-Al--LAMMPS--ipr1',\n",
       " '2020--Purja-Pun-G-P--Al--LAMMPS--ipr1',\n",
       " '2020--Starikov-S--Si-Au-Al--LAMMPS--ipr1',\n",
       " '2020--Starikov-S--Si-Au-Al--LAMMPS--ipr2',\n",
       " '2021--Plummer-G--Ti-Al-C--LAMMPS--ipr1',\n",
       " '2021--Song-H--Al-Sm--LAMMPS--ipr1',\n",
       " '2022--Fereidonnejad-R--Al-Hf--LAMMPS--ipr1',\n",
       " '2022--Fereidonnejad-R--Al-Nb--LAMMPS--ipr1',\n",
       " '2022--Fereidonnejad-R--Al-Ta--LAMMPS--ipr1',\n",
       " '2022--Fereidonnejad-R--Al-Ti--LAMMPS--ipr1',\n",
       " '2022--Fereidonnejad-R--Al-Zr--LAMMPS--ipr1',\n",
       " '2022--Mahata-A--Al-Cu--LAMMPS--ipr1',\n",
       " '2022--Mahata-A--Al-Fe--LAMMPS--ipr1',\n",
       " '2022--Mahata-A--Al-Ni--LAMMPS--ipr1',\n",
       " '2022--Mendelev-M-I--Ni-Al--LAMMPS--ipr1',\n",
       " 'EAM_CubicNaturalSpline_ErcolessiAdams_1994_Al__MO_800509458712_002',\n",
       " 'EAM_Dynamo_AngeloMoodyBaskes_1995_NiAlH__MO_418978237058_005',\n",
       " 'EAM_Dynamo_CaiYe_1996_AlCu__MO_942551040047_005',\n",
       " 'EAM_Dynamo_ErcolessiAdams_1994_Al__MO_123629422045_005',\n",
       " 'EAM_Dynamo_FarkasJones_1996_NbTiAl__MO_042691367780_000',\n",
       " 'EAM_Dynamo_JacobsenNorskovPuska_1987_Al__MO_411692133366_000',\n",
       " 'EAM_Dynamo_LandaWynblattSiegel_2000_AlPb__MO_699137396381_005',\n",
       " 'EAM_Dynamo_LiuAdams_1998_AlMg__MO_019873715786_000',\n",
       " 'EAM_Dynamo_LiuErcolessiAdams_2004_Al__MO_051157671505_000',\n",
       " 'EAM_Dynamo_LiuLiuBorucki_1999_AlCu__MO_020851069572_000',\n",
       " 'EAM_Dynamo_LiuOhotnickyAdams_1997_AlMg__MO_559870613549_000',\n",
       " 'EAM_Dynamo_MendelevAstaRahman_2009_AlMg__MO_658278549784_005',\n",
       " 'EAM_Dynamo_MendelevFangYe_2015_AlSm__MO_338600200739_000',\n",
       " 'EAM_Dynamo_MendelevKramerBecker_2008_Al__MO_106969701023_005',\n",
       " 'EAM_Dynamo_MendelevSrolovitzAckland_2005_AlFe__MO_577453891941_005',\n",
       " 'EAM_Dynamo_MishinFarkasMehl_1999_Al__MO_651801486679_005',\n",
       " 'EAM_Dynamo_MishinMehlPapaconstantopoulos_2002_NiAl__MO_109933561507_005',\n",
       " 'EAM_Dynamo_Mishin_2004_NiAl__MO_101214310689_005',\n",
       " 'EAM_Dynamo_PunMishin_2009_NiAl__MO_751354403791_005',\n",
       " 'EAM_Dynamo_PunYamakovMishin_2013_AlCo__MO_678952612413_000',\n",
       " 'EAM_Dynamo_PunYamakovMishin_2013_NiAlCo__MO_826591359508_000',\n",
       " 'EAM_Dynamo_SchopfBrommerFrigan_2012_AlMnPd__MO_137572817842_000',\n",
       " 'EAM_Dynamo_SturgeonLaird_2000_Al__MO_120808805541_005',\n",
       " 'EAM_Dynamo_VailheFarkas_1997_CoAl__MO_284963179498_005',\n",
       " 'EAM_Dynamo_WineyKubotaGupta_2010_Al__MO_149316865608_005',\n",
       " 'EAM_Dynamo_Zhakhovsky_2009_Al__MO_519613893196_000',\n",
       " 'EAM_Dynamo_ZhouJohnsonWadley_2004NISTretabulation_Al__MO_060567868558_000',\n",
       " 'EAM_Dynamo_ZhouJohnsonWadley_2004_Al__MO_131650261510_005',\n",
       " 'EAM_Dynamo_ZhouWadleyJohnson_2001_Al__MO_049243498555_000',\n",
       " 'EAM_Dynamo_ZopeMishin_2003_Al__MO_664470114311_005',\n",
       " 'EAM_Dynamo_ZopeMishin_2003_TiAl__MO_117656786760_005',\n",
       " 'EAM_ErcolessiAdams_1994_Al__MO_324507536345_003',\n",
       " 'EAM_IMD_BrommerGaehler_2006A_AlNiCo__MO_122703700223_003',\n",
       " 'EAM_IMD_BrommerGaehler_2006B_AlNiCo__MO_128037485276_003',\n",
       " 'EAM_IMD_SchopfBrommerFrigan_2012_AlMnPd__MO_878712978062_003',\n",
       " 'EAM_QuinticClampedSpline_ErcolessiAdams_1994_Al__MO_450093727396_002',\n",
       " 'EAM_QuinticHermiteSpline_ErcolessiAdams_1994_Al__MO_781138671863_002',\n",
       " 'EMT_Asap_Standard_JacobsenStoltzeNorskov_1996_AlAgAuCuNiPdPt__MO_115316750986_001',\n",
       " 'EMT_Asap_Standard_JacobsenStoltzeNorskov_1996_Al__MO_623376124862_001',\n",
       " 'MEAM_LAMMPS_AlmyrasSangiovanniSarakinos_2019_NAlTi__MO_958395190627_000',\n",
       " 'MEAM_LAMMPS_CostaAgrenClavaguera_2007_AlNi__MO_131642768288_000',\n",
       " 'MEAM_LAMMPS_DongKimKo_2012_CoAl__MO_099716416216_000',\n",
       " 'MEAM_LAMMPS_JelinekGrohHorstemeyer_2012_AlSiMgCuFe__MO_262519520678_000',\n",
       " 'MEAM_LAMMPS_JeongParkDo_2018_PdAl__MO_616482358807_000',\n",
       " 'MEAM_LAMMPS_KimJungLee_2015_NiAlCo__MO_876687166519_000',\n",
       " 'MEAM_LAMMPS_KimKimJung_2016_AlTi__MO_618133763375_000',\n",
       " 'MEAM_LAMMPS_KimKimJung_2017_NiAlTi__MO_478967255435_000',\n",
       " 'MEAM_LAMMPS_KimKimLee_2009_AlMg__MO_058537087384_000',\n",
       " 'MEAM_LAMMPS_KimSeolJi_2017_PtAl__MO_793141037706_000',\n",
       " 'MEAM_LAMMPS_KoShimLee_2011_AlH__MO_127847080751_000',\n",
       " 'MEAM_LAMMPS_LeeLee_2010_FeAl__MO_332211522050_000',\n",
       " 'MEAM_LAMMPS_PascuetFernandez_2015_AlU__MO_596300673917_000',\n",
       " 'MEAM_LAMMPS_PascuetFernandez_2015_Al__MO_315820974149_000',\n",
       " 'MEAM_LAMMPS_ShimKoKim_2013_AlVH__MO_344724145339_000',\n",
       " 'Morse_Shifted_GirifalcoWeizer_1959HighCutoff_Al__MO_140175748626_004',\n",
       " 'Morse_Shifted_GirifalcoWeizer_1959LowCutoff_Al__MO_411898953661_004',\n",
       " 'Morse_Shifted_GirifalcoWeizer_1959MedCutoff_Al__MO_279544746097_004',\n",
       " 'Sim_LAMMPS_ADP_ApostolMishin_2011_AlCu__SM_667696763561_000',\n",
       " 'Sim_LAMMPS_ADP_StarikovGordeevLysogorskiy_2020_SiAuAl__SM_113843830602_000',\n",
       " 'Sim_LAMMPS_AGNI_BotuBatraChapman_2017_Al__SM_666183636896_000',\n",
       " 'Sim_LAMMPS_BOP_ZhouWardFoster_2016_AlCu__SM_566399258279_000',\n",
       " 'Sim_LAMMPS_MEAM_AlmyrasSangiovanniSarakinos_2019_NAlTi__SM_871795249052_000',\n",
       " 'Sim_LAMMPS_MEAM_JelinekGrohHorstemeyer_2012_AlSiMgCuFe__SM_656517352485_000',\n",
       " 'Sim_LAMMPS_MEAM_PascuetFernandez_2015_AlU__SM_721930391003_000',\n",
       " 'Sim_LAMMPS_MEAM_PascuetFernandez_2015_Al__SM_811588957187_000',\n",
       " 'Sim_LAMMPS_SMTBQ_SallesPolitanoAmzallag_2016_AlO__SM_853967355976_000',\n",
       " 'Sim_LAMMPS_SMTBQ_SallesPolitanoAmzallag_2016_Al__SM_404097633924_000']"
      ]
     },
     "execution_count": 11,
     "metadata": {},
     "output_type": "execute_result"
    }
   ],
   "source": [
    "lmp.list_potentials()"
   ]
  },
  {
   "cell_type": "code",
   "execution_count": 12,
   "id": "12d48e2d-8a8e-4537-b053-62301f01b9bf",
   "metadata": {},
   "outputs": [
    {
     "data": {
      "text/html": [
       "<div>\n",
       "<style scoped>\n",
       "    .dataframe tbody tr th:only-of-type {\n",
       "        vertical-align: middle;\n",
       "    }\n",
       "\n",
       "    .dataframe tbody tr th {\n",
       "        vertical-align: top;\n",
       "    }\n",
       "\n",
       "    .dataframe thead th {\n",
       "        text-align: right;\n",
       "    }\n",
       "</style>\n",
       "<table border=\"1\" class=\"dataframe\">\n",
       "  <thead>\n",
       "    <tr style=\"text-align: right;\">\n",
       "      <th></th>\n",
       "      <th>Config</th>\n",
       "      <th>Filename</th>\n",
       "      <th>Model</th>\n",
       "      <th>Name</th>\n",
       "      <th>Species</th>\n",
       "      <th>Citations</th>\n",
       "    </tr>\n",
       "  </thead>\n",
       "  <tbody>\n",
       "    <tr>\n",
       "      <th>38</th>\n",
       "      <td>[pair_style eam/alloy\\n, pair_coeff * * NiAlH_jea.eam.alloy Ni Al H\\n]</td>\n",
       "      <td>[potential_LAMMPS/1995--Angelo-J-E--Ni-Al-H--LAMMPS--ipr1/NiAlH_jea.eam.alloy]</td>\n",
       "      <td>NISTiprpy</td>\n",
       "      <td>1995--Angelo-J-E--Ni-Al-H--LAMMPS--ipr1</td>\n",
       "      <td>[Ni, Al, H]</td>\n",
       "      <td>[{'Angelo_1995': {'title': 'Trapping of hydrogen to lattice defects in nickel', 'journal': 'Modelling and Simulation in Materials Science and Engineering', 'volume': '3', 'pages': '289--307', 'num...</td>\n",
       "    </tr>\n",
       "    <tr>\n",
       "      <th>39</th>\n",
       "      <td>[pair_style eam/alloy\\n, pair_coeff * * Farkas_Nb-Ti-Al_1996.eam.alloy Nb Ti Al\\n]</td>\n",
       "      <td>[potential_LAMMPS/1996--Farkas-D--Nb-Ti-Al--LAMMPS--ipr1/Farkas_Nb-Ti-Al_1996.eam.alloy]</td>\n",
       "      <td>NISTiprpy</td>\n",
       "      <td>1996--Farkas-D--Nb-Ti-Al--LAMMPS--ipr1</td>\n",
       "      <td>[Nb, Ti, Al]</td>\n",
       "      <td>[{'Farkas_1996': {'title': 'Interatomic potentials for ternary Nb - Ti - Al alloys', 'journal': 'Modelling and Simulation in Materials Science and Engineering', 'volume': '4', 'pages': '23--32', '...</td>\n",
       "    </tr>\n",
       "    <tr>\n",
       "      <th>42</th>\n",
       "      <td>[pair_style eam/alloy\\n, pair_coeff * * mg-al-set.eam.alloy Al Mg\\n]</td>\n",
       "      <td>[potential_LAMMPS/1997--Liu-X-Y--Al-Mg--LAMMPS--ipr1/mg-al-set.eam.alloy]</td>\n",
       "      <td>NISTiprpy</td>\n",
       "      <td>1997--Liu-X-Y--Al-Mg--LAMMPS--ipr1</td>\n",
       "      <td>[Al, Mg]</td>\n",
       "      <td>[{'Liu_1997': {'title': 'Anisotropic surface segregation in Al-Mg alloys', 'journal': 'Surface Science', 'volume': '373', 'pages': '357--370', 'number': '2-3', 'doi': '10.1016/s0039-6028(96)01154-...</td>\n",
       "    </tr>\n",
       "    <tr>\n",
       "      <th>45</th>\n",
       "      <td>[pair_style eam/alloy\\n, pair_coeff * * almg.liu.eam.alloy Al Mg\\n]</td>\n",
       "      <td>[potential_LAMMPS/1998--Liu-X-Y--Al-Mg--LAMMPS--ipr1/almg.liu.eam.alloy]</td>\n",
       "      <td>NISTiprpy</td>\n",
       "      <td>1998--Liu-X-Y--Al-Mg--LAMMPS--ipr1</td>\n",
       "      <td>[Al, Mg]</td>\n",
       "      <td>[{'Liu_1998': {'title': 'Grain-boundary segregation in Al-10%Mg alloys at hot working temperatures', 'journal': 'Acta Materialia', 'volume': '46', 'pages': '3467--3476', 'number': '10', 'doi': '10...</td>\n",
       "    </tr>\n",
       "    <tr>\n",
       "      <th>47</th>\n",
       "      <td>[pair_style eam/alloy\\n, pair_coeff * * al-cu-set.eam.alloy Al Cu\\n]</td>\n",
       "      <td>[potential_LAMMPS/1999--Liu-X-Y--Al-Cu--LAMMPS--ipr1/al-cu-set.eam.alloy]</td>\n",
       "      <td>NISTiprpy</td>\n",
       "      <td>1999--Liu-X-Y--Al-Cu--LAMMPS--ipr1</td>\n",
       "      <td>[Al, Cu]</td>\n",
       "      <td>[{'Liu_1999': {'title': \"A new investigation of copper's role in enhancing Al-Cu interconnect electromigration resistance from an atomistic view\", 'journal': 'Acta Materialia', 'volume': '47', 'pa...</td>\n",
       "    </tr>\n",
       "    <tr>\n",
       "      <th>...</th>\n",
       "      <td>...</td>\n",
       "      <td>...</td>\n",
       "      <td>...</td>\n",
       "      <td>...</td>\n",
       "      <td>...</td>\n",
       "      <td>...</td>\n",
       "    </tr>\n",
       "    <tr>\n",
       "      <th>925</th>\n",
       "      <td>[pair_style kim Sim_LAMMPS_MEAM_JelinekGrohHorstemeyer_2012_AlSiMgCuFe__SM_656517352485_000\\n, pair_coeff * * Al Si Mg Cu Fe\\n]</td>\n",
       "      <td>[]</td>\n",
       "      <td>OPENKIM</td>\n",
       "      <td>Sim_LAMMPS_MEAM_JelinekGrohHorstemeyer_2012_AlSiMgCuFe__SM_656517352485_000</td>\n",
       "      <td>[Al, Si, Mg, Cu, Fe]</td>\n",
       "      <td>[{'B._2012': {'title': 'Modified embedded atom method potential for Al, Si, Mg, Cu, and Fe alloys', 'volume': '85', 'year': '2012', 'journal': 'Physical Review B', 'doi': '10.1103/PhysRevB.85.2451...</td>\n",
       "    </tr>\n",
       "    <tr>\n",
       "      <th>935</th>\n",
       "      <td>[pair_style kim Sim_LAMMPS_MEAM_PascuetFernandez_2015_AlU__SM_721930391003_000\\n, pair_coeff * * Al U\\n]</td>\n",
       "      <td>[]</td>\n",
       "      <td>OPENKIM</td>\n",
       "      <td>Sim_LAMMPS_MEAM_PascuetFernandez_2015_AlU__SM_721930391003_000</td>\n",
       "      <td>[Al, U]</td>\n",
       "      <td>[{'M.I._2015': {'title': '{A}tomic interaction of the {MEAM} type for the study of intermetallics in the {A}l–{U} alloy', 'volume': '467', 'year': '2015', 'journal': 'Journal of Nuclear Materials'...</td>\n",
       "    </tr>\n",
       "    <tr>\n",
       "      <th>936</th>\n",
       "      <td>[pair_style kim Sim_LAMMPS_MEAM_PascuetFernandez_2015_Al__SM_811588957187_000\\n, pair_coeff * * Al\\n]</td>\n",
       "      <td>[]</td>\n",
       "      <td>OPENKIM</td>\n",
       "      <td>Sim_LAMMPS_MEAM_PascuetFernandez_2015_Al__SM_811588957187_000</td>\n",
       "      <td>[Al]</td>\n",
       "      <td>[{'M.I._2015': {'title': '{A}tomic interaction of the {MEAM} type for the study of intermetallics in the {A}l–{U} alloy', 'volume': '467', 'year': '2015', 'journal': 'Journal of Nuclear Materials'...</td>\n",
       "    </tr>\n",
       "    <tr>\n",
       "      <th>956</th>\n",
       "      <td>[pair_style kim Sim_LAMMPS_SMTBQ_SallesPolitanoAmzallag_2016_AlO__SM_853967355976_000\\n, pair_coeff * * Al O\\n]</td>\n",
       "      <td>[]</td>\n",
       "      <td>OPENKIM</td>\n",
       "      <td>Sim_LAMMPS_SMTBQ_SallesPolitanoAmzallag_2016_AlO__SM_853967355976_000</td>\n",
       "      <td>[Al, O]</td>\n",
       "      <td>[{'N._2016': {'title': 'Molecular dynamics study of high-pressure alumina polymorphs with a tight-binding variable-charge model', 'volume': '111', 'year': '2016', 'journal': 'Computational Materia...</td>\n",
       "    </tr>\n",
       "    <tr>\n",
       "      <th>957</th>\n",
       "      <td>[pair_style kim Sim_LAMMPS_SMTBQ_SallesPolitanoAmzallag_2016_Al__SM_404097633924_000\\n, pair_coeff * * Al\\n]</td>\n",
       "      <td>[]</td>\n",
       "      <td>OPENKIM</td>\n",
       "      <td>Sim_LAMMPS_SMTBQ_SallesPolitanoAmzallag_2016_Al__SM_404097633924_000</td>\n",
       "      <td>[Al]</td>\n",
       "      <td>[{'N._2016': {'title': 'Molecular dynamics study of high-pressure alumina polymorphs with a tight-binding variable-charge model', 'volume': '111', 'year': '2016', 'journal': 'Computational Materia...</td>\n",
       "    </tr>\n",
       "  </tbody>\n",
       "</table>\n",
       "<p>136 rows × 6 columns</p>\n",
       "</div>"
      ],
      "text/plain": [
       "                                                                                                                              Config  \\\n",
       "38                                                            [pair_style eam/alloy\\n, pair_coeff * * NiAlH_jea.eam.alloy Ni Al H\\n]   \n",
       "39                                                [pair_style eam/alloy\\n, pair_coeff * * Farkas_Nb-Ti-Al_1996.eam.alloy Nb Ti Al\\n]   \n",
       "42                                                              [pair_style eam/alloy\\n, pair_coeff * * mg-al-set.eam.alloy Al Mg\\n]   \n",
       "45                                                               [pair_style eam/alloy\\n, pair_coeff * * almg.liu.eam.alloy Al Mg\\n]   \n",
       "47                                                              [pair_style eam/alloy\\n, pair_coeff * * al-cu-set.eam.alloy Al Cu\\n]   \n",
       "..                                                                                                                               ...   \n",
       "925  [pair_style kim Sim_LAMMPS_MEAM_JelinekGrohHorstemeyer_2012_AlSiMgCuFe__SM_656517352485_000\\n, pair_coeff * * Al Si Mg Cu Fe\\n]   \n",
       "935                         [pair_style kim Sim_LAMMPS_MEAM_PascuetFernandez_2015_AlU__SM_721930391003_000\\n, pair_coeff * * Al U\\n]   \n",
       "936                            [pair_style kim Sim_LAMMPS_MEAM_PascuetFernandez_2015_Al__SM_811588957187_000\\n, pair_coeff * * Al\\n]   \n",
       "956                  [pair_style kim Sim_LAMMPS_SMTBQ_SallesPolitanoAmzallag_2016_AlO__SM_853967355976_000\\n, pair_coeff * * Al O\\n]   \n",
       "957                     [pair_style kim Sim_LAMMPS_SMTBQ_SallesPolitanoAmzallag_2016_Al__SM_404097633924_000\\n, pair_coeff * * Al\\n]   \n",
       "\n",
       "                                                                                     Filename  \\\n",
       "38             [potential_LAMMPS/1995--Angelo-J-E--Ni-Al-H--LAMMPS--ipr1/NiAlH_jea.eam.alloy]   \n",
       "39   [potential_LAMMPS/1996--Farkas-D--Nb-Ti-Al--LAMMPS--ipr1/Farkas_Nb-Ti-Al_1996.eam.alloy]   \n",
       "42                  [potential_LAMMPS/1997--Liu-X-Y--Al-Mg--LAMMPS--ipr1/mg-al-set.eam.alloy]   \n",
       "45                   [potential_LAMMPS/1998--Liu-X-Y--Al-Mg--LAMMPS--ipr1/almg.liu.eam.alloy]   \n",
       "47                  [potential_LAMMPS/1999--Liu-X-Y--Al-Cu--LAMMPS--ipr1/al-cu-set.eam.alloy]   \n",
       "..                                                                                        ...   \n",
       "925                                                                                        []   \n",
       "935                                                                                        []   \n",
       "936                                                                                        []   \n",
       "956                                                                                        []   \n",
       "957                                                                                        []   \n",
       "\n",
       "         Model  \\\n",
       "38   NISTiprpy   \n",
       "39   NISTiprpy   \n",
       "42   NISTiprpy   \n",
       "45   NISTiprpy   \n",
       "47   NISTiprpy   \n",
       "..         ...   \n",
       "925    OPENKIM   \n",
       "935    OPENKIM   \n",
       "936    OPENKIM   \n",
       "956    OPENKIM   \n",
       "957    OPENKIM   \n",
       "\n",
       "                                                                            Name  \\\n",
       "38                                       1995--Angelo-J-E--Ni-Al-H--LAMMPS--ipr1   \n",
       "39                                        1996--Farkas-D--Nb-Ti-Al--LAMMPS--ipr1   \n",
       "42                                            1997--Liu-X-Y--Al-Mg--LAMMPS--ipr1   \n",
       "45                                            1998--Liu-X-Y--Al-Mg--LAMMPS--ipr1   \n",
       "47                                            1999--Liu-X-Y--Al-Cu--LAMMPS--ipr1   \n",
       "..                                                                           ...   \n",
       "925  Sim_LAMMPS_MEAM_JelinekGrohHorstemeyer_2012_AlSiMgCuFe__SM_656517352485_000   \n",
       "935               Sim_LAMMPS_MEAM_PascuetFernandez_2015_AlU__SM_721930391003_000   \n",
       "936                Sim_LAMMPS_MEAM_PascuetFernandez_2015_Al__SM_811588957187_000   \n",
       "956        Sim_LAMMPS_SMTBQ_SallesPolitanoAmzallag_2016_AlO__SM_853967355976_000   \n",
       "957         Sim_LAMMPS_SMTBQ_SallesPolitanoAmzallag_2016_Al__SM_404097633924_000   \n",
       "\n",
       "                  Species  \\\n",
       "38            [Ni, Al, H]   \n",
       "39           [Nb, Ti, Al]   \n",
       "42               [Al, Mg]   \n",
       "45               [Al, Mg]   \n",
       "47               [Al, Cu]   \n",
       "..                    ...   \n",
       "925  [Al, Si, Mg, Cu, Fe]   \n",
       "935               [Al, U]   \n",
       "936                  [Al]   \n",
       "956               [Al, O]   \n",
       "957                  [Al]   \n",
       "\n",
       "                                                                                                                                                                                                   Citations  \n",
       "38   [{'Angelo_1995': {'title': 'Trapping of hydrogen to lattice defects in nickel', 'journal': 'Modelling and Simulation in Materials Science and Engineering', 'volume': '3', 'pages': '289--307', 'num...  \n",
       "39   [{'Farkas_1996': {'title': 'Interatomic potentials for ternary Nb - Ti - Al alloys', 'journal': 'Modelling and Simulation in Materials Science and Engineering', 'volume': '4', 'pages': '23--32', '...  \n",
       "42   [{'Liu_1997': {'title': 'Anisotropic surface segregation in Al-Mg alloys', 'journal': 'Surface Science', 'volume': '373', 'pages': '357--370', 'number': '2-3', 'doi': '10.1016/s0039-6028(96)01154-...  \n",
       "45   [{'Liu_1998': {'title': 'Grain-boundary segregation in Al-10%Mg alloys at hot working temperatures', 'journal': 'Acta Materialia', 'volume': '46', 'pages': '3467--3476', 'number': '10', 'doi': '10...  \n",
       "47   [{'Liu_1999': {'title': \"A new investigation of copper's role in enhancing Al-Cu interconnect electromigration resistance from an atomistic view\", 'journal': 'Acta Materialia', 'volume': '47', 'pa...  \n",
       "..                                                                                                                                                                                                       ...  \n",
       "925  [{'B._2012': {'title': 'Modified embedded atom method potential for Al, Si, Mg, Cu, and Fe alloys', 'volume': '85', 'year': '2012', 'journal': 'Physical Review B', 'doi': '10.1103/PhysRevB.85.2451...  \n",
       "935  [{'M.I._2015': {'title': '{A}tomic interaction of the {MEAM} type for the study of intermetallics in the {A}l–{U} alloy', 'volume': '467', 'year': '2015', 'journal': 'Journal of Nuclear Materials'...  \n",
       "936  [{'M.I._2015': {'title': '{A}tomic interaction of the {MEAM} type for the study of intermetallics in the {A}l–{U} alloy', 'volume': '467', 'year': '2015', 'journal': 'Journal of Nuclear Materials'...  \n",
       "956  [{'N._2016': {'title': 'Molecular dynamics study of high-pressure alumina polymorphs with a tight-binding variable-charge model', 'volume': '111', 'year': '2016', 'journal': 'Computational Materia...  \n",
       "957  [{'N._2016': {'title': 'Molecular dynamics study of high-pressure alumina polymorphs with a tight-binding variable-charge model', 'volume': '111', 'year': '2016', 'journal': 'Computational Materia...  \n",
       "\n",
       "[136 rows x 6 columns]"
      ]
     },
     "execution_count": 12,
     "metadata": {},
     "output_type": "execute_result"
    }
   ],
   "source": [
    "lmp.view_potentials()"
   ]
  },
  {
   "cell_type": "markdown",
   "id": "8820e1c2-b7b2-4aec-bbfa-90446ccc3b65",
   "metadata": {},
   "source": [
    "To assign a specific interatomic potential for our LAMMPS calculation, we can simply set the name of the potential as a parameter to the `potential` property of the LAMMPS job object:"
   ]
  },
  {
   "cell_type": "code",
   "execution_count": 13,
   "id": "f8ca78bb-98b8-4920-8acd-15fab37c0337",
   "metadata": {},
   "outputs": [],
   "source": [
    "lmp.potential = '2002--Mishin-Y--Ni-Al--LAMMPS--ipr1'"
   ]
  },
  {
   "cell_type": "markdown",
   "id": "192cbfe8-2988-49a5-8e07-2b52a9b675c3",
   "metadata": {},
   "source": [
    "## Setting up the LAMMPS calculation"
   ]
  },
  {
   "cell_type": "markdown",
   "id": "d41b0f52-2739-4de0-bf18-e31667f1b01f",
   "metadata": {},
   "source": [
    "pyiron provides two options to setting up LAMMPS calculation. The first is using the traditional LAMMPS commands you know from the LAMMPS input files, the second is using the generic pyiron commands, which are not only implemented for LAMMPS but also for many other simulation codes. So the advantage of the generic pyiron commands is that the same commands can be applied for both a density functional theory (DFT) simulation code like the Vienna Ab initio Simulation Package (VASP) as well as interatomic potential based simulation codes like LAMMPS to simplify switching between them, for example for fitting machine learning interatomic potentials. q"
   ]
  },
  {
   "cell_type": "markdown",
   "id": "cb5c3b44-c674-4a60-80e2-a68342949a5a",
   "metadata": {},
   "source": [
    "### Generic pyiron commands"
   ]
  },
  {
   "cell_type": "markdown",
   "id": "fdd6878f-5cbc-4b1a-b1db-ca9e12221229",
   "metadata": {},
   "source": [
    "In this example we are going to calculate a molecular dynamics calculation at 500K, zero pressure and run it for 10000 steps, using the `calc_md()` function. Again, you can use the `<tab>` based autocompletion to get a list of available input commands. Alternatively you can call `calc_md?` to get a list of all input parameters: "
   ]
  },
  {
   "cell_type": "code",
   "execution_count": 14,
   "id": "dfd0475e-47fd-481f-8bfa-83dd7e444436",
   "metadata": {},
   "outputs": [
    {
     "data": {
      "text/plain": [
       "\u001b[0;31mSignature:\u001b[0m\n",
       "\u001b[0mlmp\u001b[0m\u001b[0;34m.\u001b[0m\u001b[0mcalc_md\u001b[0m\u001b[0;34m(\u001b[0m\u001b[0;34m\u001b[0m\n",
       "\u001b[0;34m\u001b[0m    \u001b[0mtemperature\u001b[0m\u001b[0;34m=\u001b[0m\u001b[0;32mNone\u001b[0m\u001b[0;34m,\u001b[0m\u001b[0;34m\u001b[0m\n",
       "\u001b[0;34m\u001b[0m    \u001b[0mpressure\u001b[0m\u001b[0;34m=\u001b[0m\u001b[0;32mNone\u001b[0m\u001b[0;34m,\u001b[0m\u001b[0;34m\u001b[0m\n",
       "\u001b[0;34m\u001b[0m    \u001b[0mn_ionic_steps\u001b[0m\u001b[0;34m=\u001b[0m\u001b[0;36m1000\u001b[0m\u001b[0;34m,\u001b[0m\u001b[0;34m\u001b[0m\n",
       "\u001b[0;34m\u001b[0m    \u001b[0mtime_step\u001b[0m\u001b[0;34m=\u001b[0m\u001b[0;36m1.0\u001b[0m\u001b[0;34m,\u001b[0m\u001b[0;34m\u001b[0m\n",
       "\u001b[0;34m\u001b[0m    \u001b[0mn_print\u001b[0m\u001b[0;34m=\u001b[0m\u001b[0;36m100\u001b[0m\u001b[0;34m,\u001b[0m\u001b[0;34m\u001b[0m\n",
       "\u001b[0;34m\u001b[0m    \u001b[0mtemperature_damping_timescale\u001b[0m\u001b[0;34m=\u001b[0m\u001b[0;36m100.0\u001b[0m\u001b[0;34m,\u001b[0m\u001b[0;34m\u001b[0m\n",
       "\u001b[0;34m\u001b[0m    \u001b[0mpressure_damping_timescale\u001b[0m\u001b[0;34m=\u001b[0m\u001b[0;36m1000.0\u001b[0m\u001b[0;34m,\u001b[0m\u001b[0;34m\u001b[0m\n",
       "\u001b[0;34m\u001b[0m    \u001b[0mseed\u001b[0m\u001b[0;34m=\u001b[0m\u001b[0;32mNone\u001b[0m\u001b[0;34m,\u001b[0m\u001b[0;34m\u001b[0m\n",
       "\u001b[0;34m\u001b[0m    \u001b[0mtloop\u001b[0m\u001b[0;34m=\u001b[0m\u001b[0;32mNone\u001b[0m\u001b[0;34m,\u001b[0m\u001b[0;34m\u001b[0m\n",
       "\u001b[0;34m\u001b[0m    \u001b[0minitial_temperature\u001b[0m\u001b[0;34m=\u001b[0m\u001b[0;32mNone\u001b[0m\u001b[0;34m,\u001b[0m\u001b[0;34m\u001b[0m\n",
       "\u001b[0;34m\u001b[0m    \u001b[0mlangevin\u001b[0m\u001b[0;34m=\u001b[0m\u001b[0;32mFalse\u001b[0m\u001b[0;34m,\u001b[0m\u001b[0;34m\u001b[0m\n",
       "\u001b[0;34m\u001b[0m    \u001b[0mdelta_temp\u001b[0m\u001b[0;34m=\u001b[0m\u001b[0;32mNone\u001b[0m\u001b[0;34m,\u001b[0m\u001b[0;34m\u001b[0m\n",
       "\u001b[0;34m\u001b[0m    \u001b[0mdelta_press\u001b[0m\u001b[0;34m=\u001b[0m\u001b[0;32mNone\u001b[0m\u001b[0;34m,\u001b[0m\u001b[0;34m\u001b[0m\n",
       "\u001b[0;34m\u001b[0m\u001b[0;34m)\u001b[0m\u001b[0;34m\u001b[0m\u001b[0;34m\u001b[0m\u001b[0m\n",
       "\u001b[0;31mDocstring:\u001b[0m\n",
       "Set an MD calculation within LAMMPS. Nosé Hoover is used by default.\n",
       "\n",
       "Args:\n",
       "    temperature (None/float/list): Target temperature value(-s). If set to None, an NVE\n",
       "        calculation is performed. It is required when the pressure is set or langevin is set\n",
       "        It can be a list of temperature values, containing the initial target temperature and\n",
       "        the final target temperature (in between the target value is varied linearly).\n",
       "    pressure (None/float/numpy.ndarray/list): Target pressure. If set to None, an NVE or an\n",
       "        NVT calculation is performed. If set to a scalar, the shear of the cell and the\n",
       "        ratio of the x, y, and z components is kept constant, while an isotropic, hydrostatic\n",
       "        pressure is applied. A list of up to length 6 can be given to specify xx, yy, zz, xy,\n",
       "        xz, and yz components of the pressure tensor, respectively. These values can mix\n",
       "        floats and `None` to allow only certain degrees of cell freedom to change. (Default\n",
       "        is None, run isochorically.)\n",
       "    n_ionic_steps (int): Number of ionic steps\n",
       "    time_step (float): Step size in fs between two steps.\n",
       "    n_print (int):  Print frequency\n",
       "    temperature_damping_timescale (float): The time associated with the thermostat adjusting\n",
       "        the temperature.  (In fs. After rescaling to appropriate time units, is equivalent to\n",
       "        Lammps' `Tdamp`.)\n",
       "    pressure_damping_timescale (float): The time associated with the barostat adjusting the\n",
       "        temperature.  (In fs. After rescaling to appropriate time units, is equivalent to\n",
       "        Lammps' `Pdamp`.)\n",
       "    seed (int):  Seed for the random number generation used for the intiial velocity creation\n",
       "        and langevin dynamics - otherwise ignored. If not specified, the seed is created via\n",
       "        job name\n",
       "    tloop:\n",
       "    initial_temperature (None/float):  Initial temperature according to which the initial\n",
       "        velocity field is created. If None, the initial temperature will be twice the target\n",
       "        temperature (which would go immediately down to the target temperature as described\n",
       "        in equipartition theorem). If 0, the velocity field is not initialized (in which case\n",
       "        the initial velocity given in structure will be used). If any other number is given,\n",
       "        this value is going to be used for the initial temperature.\n",
       "    langevin (bool): (True or False) Activate Langevin dynamics\n",
       "    delta_temp (float): Thermostat timescale, but in your Lammps time units, whatever those\n",
       "        are. (DEPRECATED.)\n",
       "    delta_press (float): Barostat timescale, but in your Lammps time units, whatever those\n",
       "        are. (DEPRECATED.)\n",
       "    job_name (str): Job name of the job to generate a unique random seed.\n",
       "    rotation_matrix (numpy.ndarray): The rotation matrix from the pyiron to Lammps coordinate\n",
       "        frame.\n",
       "\u001b[0;31mFile:\u001b[0m      ~/PycharmProjects/pyiron_atomistics/pyiron_atomistics/lammps/interactive.py\n",
       "\u001b[0;31mType:\u001b[0m      method\n"
      ]
     },
     "metadata": {},
     "output_type": "display_data"
    }
   ],
   "source": [
    "lmp.calc_md?"
   ]
  },
  {
   "cell_type": "code",
   "execution_count": 15,
   "id": "09f510a5-5f47-4de1-9cd1-f571cf8dbb12",
   "metadata": {},
   "outputs": [],
   "source": [
    "lmp.calc_md(temperature=500.0, pressure=0.0, n_ionic_steps=10000)"
   ]
  },
  {
   "cell_type": "markdown",
   "id": "4cbfdec1-a228-4bf6-915a-1b7bbc1c7e72",
   "metadata": {},
   "source": [
    "### LAMMPS input commands"
   ]
  },
  {
   "cell_type": "markdown",
   "id": "a62760d6-d2fb-4e10-ab1b-c93073e390a5",
   "metadata": {},
   "source": [
    "While this generic set of pyiron commands is helpful for users who are not yet familiar with the LAMMPS input file commands, pyiron also addresses the needs of expert users, by providing direct access to the underlying input files. So to see the current input of the LAMMPS calculation you can simply use `lmp.input.control`:"
   ]
  },
  {
   "cell_type": "code",
   "execution_count": 16,
   "id": "50ee5601-91b6-4fae-bb91-59514b790d32",
   "metadata": {},
   "outputs": [
    {
     "data": {
      "text/html": [
       "<div>\n",
       "<style scoped>\n",
       "    .dataframe tbody tr th:only-of-type {\n",
       "        vertical-align: middle;\n",
       "    }\n",
       "\n",
       "    .dataframe tbody tr th {\n",
       "        vertical-align: top;\n",
       "    }\n",
       "\n",
       "    .dataframe thead th {\n",
       "        text-align: right;\n",
       "    }\n",
       "</style>\n",
       "<table border=\"1\" class=\"dataframe\">\n",
       "  <thead>\n",
       "    <tr style=\"text-align: right;\">\n",
       "      <th></th>\n",
       "      <th>Parameter</th>\n",
       "      <th>Value</th>\n",
       "      <th>Comment</th>\n",
       "    </tr>\n",
       "  </thead>\n",
       "  <tbody>\n",
       "    <tr>\n",
       "      <th>0</th>\n",
       "      <td>units</td>\n",
       "      <td>metal</td>\n",
       "      <td></td>\n",
       "    </tr>\n",
       "    <tr>\n",
       "      <th>1</th>\n",
       "      <td>dimension</td>\n",
       "      <td>3</td>\n",
       "      <td></td>\n",
       "    </tr>\n",
       "    <tr>\n",
       "      <th>2</th>\n",
       "      <td>boundary</td>\n",
       "      <td>p p p</td>\n",
       "      <td></td>\n",
       "    </tr>\n",
       "    <tr>\n",
       "      <th>3</th>\n",
       "      <td>atom_style</td>\n",
       "      <td>atomic</td>\n",
       "      <td></td>\n",
       "    </tr>\n",
       "    <tr>\n",
       "      <th>4</th>\n",
       "      <td>read_data</td>\n",
       "      <td>structure.inp</td>\n",
       "      <td></td>\n",
       "    </tr>\n",
       "    <tr>\n",
       "      <th>5</th>\n",
       "      <td>include</td>\n",
       "      <td>potential.inp</td>\n",
       "      <td></td>\n",
       "    </tr>\n",
       "    <tr>\n",
       "      <th>6</th>\n",
       "      <td>fix___ensemble</td>\n",
       "      <td>all npt temp 500.0 500.0 0.1 iso 0.0 0.0 1.0</td>\n",
       "      <td></td>\n",
       "    </tr>\n",
       "    <tr>\n",
       "      <th>7</th>\n",
       "      <td>variable___dumptime</td>\n",
       "      <td>equal 100</td>\n",
       "      <td></td>\n",
       "    </tr>\n",
       "    <tr>\n",
       "      <th>8</th>\n",
       "      <td>variable___thermotime</td>\n",
       "      <td>equal 100</td>\n",
       "      <td></td>\n",
       "    </tr>\n",
       "    <tr>\n",
       "      <th>9</th>\n",
       "      <td>timestep</td>\n",
       "      <td>0.001</td>\n",
       "      <td></td>\n",
       "    </tr>\n",
       "    <tr>\n",
       "      <th>10</th>\n",
       "      <td>velocity</td>\n",
       "      <td>all create 1000.0 61040 dist gaussian</td>\n",
       "      <td></td>\n",
       "    </tr>\n",
       "    <tr>\n",
       "      <th>11</th>\n",
       "      <td>dump___1</td>\n",
       "      <td>all custom ${dumptime} dump.out id type xsu ysu zsu fx fy fz vx vy vz</td>\n",
       "      <td></td>\n",
       "    </tr>\n",
       "    <tr>\n",
       "      <th>12</th>\n",
       "      <td>dump_modify___1</td>\n",
       "      <td>sort id format line \"%d %d %20.15g %20.15g %20.15g %20.15g %20.15g %20.15g %20.15g %20.15g %20.15g\"</td>\n",
       "      <td></td>\n",
       "    </tr>\n",
       "    <tr>\n",
       "      <th>13</th>\n",
       "      <td>thermo_style</td>\n",
       "      <td>custom step temp pe etotal pxx pxy pxz pyy pyz pzz vol</td>\n",
       "      <td></td>\n",
       "    </tr>\n",
       "    <tr>\n",
       "      <th>14</th>\n",
       "      <td>thermo_modify</td>\n",
       "      <td>format float %20.15g</td>\n",
       "      <td></td>\n",
       "    </tr>\n",
       "    <tr>\n",
       "      <th>15</th>\n",
       "      <td>thermo</td>\n",
       "      <td>${thermotime}</td>\n",
       "      <td></td>\n",
       "    </tr>\n",
       "    <tr>\n",
       "      <th>16</th>\n",
       "      <td>run</td>\n",
       "      <td>10000</td>\n",
       "      <td></td>\n",
       "    </tr>\n",
       "  </tbody>\n",
       "</table>\n",
       "</div>"
      ],
      "text/plain": [
       "                Parameter  \\\n",
       "0                   units   \n",
       "1               dimension   \n",
       "2                boundary   \n",
       "3              atom_style   \n",
       "4               read_data   \n",
       "5                 include   \n",
       "6          fix___ensemble   \n",
       "7     variable___dumptime   \n",
       "8   variable___thermotime   \n",
       "9                timestep   \n",
       "10               velocity   \n",
       "11               dump___1   \n",
       "12        dump_modify___1   \n",
       "13           thermo_style   \n",
       "14          thermo_modify   \n",
       "15                 thermo   \n",
       "16                    run   \n",
       "\n",
       "                                                                                                  Value  \\\n",
       "0                                                                                                 metal   \n",
       "1                                                                                                     3   \n",
       "2                                                                                                 p p p   \n",
       "3                                                                                                atomic   \n",
       "4                                                                                         structure.inp   \n",
       "5                                                                                         potential.inp   \n",
       "6                                                          all npt temp 500.0 500.0 0.1 iso 0.0 0.0 1.0   \n",
       "7                                                                                            equal 100    \n",
       "8                                                                                            equal 100    \n",
       "9                                                                                                 0.001   \n",
       "10                                                                all create 1000.0 61040 dist gaussian   \n",
       "11                                all custom ${dumptime} dump.out id type xsu ysu zsu fx fy fz vx vy vz   \n",
       "12  sort id format line \"%d %d %20.15g %20.15g %20.15g %20.15g %20.15g %20.15g %20.15g %20.15g %20.15g\"   \n",
       "13                                               custom step temp pe etotal pxx pxy pxz pyy pyz pzz vol   \n",
       "14                                                                                 format float %20.15g   \n",
       "15                                                                                        ${thermotime}   \n",
       "16                                                                                                10000   \n",
       "\n",
       "   Comment  \n",
       "0           \n",
       "1           \n",
       "2           \n",
       "3           \n",
       "4           \n",
       "5           \n",
       "6           \n",
       "7           \n",
       "8           \n",
       "9           \n",
       "10          \n",
       "11          \n",
       "12          \n",
       "13          \n",
       "14          \n",
       "15          \n",
       "16          "
      ]
     },
     "execution_count": 16,
     "metadata": {},
     "output_type": "execute_result"
    }
   ],
   "source": [
    "lmp.input.control"
   ]
  },
  {
   "cell_type": "markdown",
   "id": "4db7e852-8b6b-47d5-bad0-421c946b5c4f",
   "metadata": {},
   "source": [
    "You see how pyiron converted the generic pyiron command `calc_md()` to the LAMMPS specific input commands. It changed the `fix___ensemble` to `npt`, created initial velocities for equilibration using the `velocity` command and defined the number of steps to run in the `run` command. Each of these entries can be modified using the python dictionary syntax. So to change the number of steps to run from 10000 to 100000 you can use:  "
   ]
  },
  {
   "cell_type": "code",
   "execution_count": 17,
   "id": "f37661c4-dfba-495f-a874-8031a27e8259",
   "metadata": {},
   "outputs": [],
   "source": [
    "lmp.input.control[\"run\"] = 100000"
   ]
  },
  {
   "cell_type": "markdown",
   "id": "4a1b662b-5ab9-41fd-980d-d3e43d23029c",
   "metadata": {},
   "source": [
    "To validate the input file is updated correspondingly we can execute the previous command again: "
   ]
  },
  {
   "cell_type": "code",
   "execution_count": 18,
   "id": "e5194851-b270-4f10-93f4-123026cc50b8",
   "metadata": {},
   "outputs": [
    {
     "data": {
      "text/html": [
       "<div>\n",
       "<style scoped>\n",
       "    .dataframe tbody tr th:only-of-type {\n",
       "        vertical-align: middle;\n",
       "    }\n",
       "\n",
       "    .dataframe tbody tr th {\n",
       "        vertical-align: top;\n",
       "    }\n",
       "\n",
       "    .dataframe thead th {\n",
       "        text-align: right;\n",
       "    }\n",
       "</style>\n",
       "<table border=\"1\" class=\"dataframe\">\n",
       "  <thead>\n",
       "    <tr style=\"text-align: right;\">\n",
       "      <th></th>\n",
       "      <th>Parameter</th>\n",
       "      <th>Value</th>\n",
       "      <th>Comment</th>\n",
       "    </tr>\n",
       "  </thead>\n",
       "  <tbody>\n",
       "    <tr>\n",
       "      <th>0</th>\n",
       "      <td>units</td>\n",
       "      <td>metal</td>\n",
       "      <td></td>\n",
       "    </tr>\n",
       "    <tr>\n",
       "      <th>1</th>\n",
       "      <td>dimension</td>\n",
       "      <td>3</td>\n",
       "      <td></td>\n",
       "    </tr>\n",
       "    <tr>\n",
       "      <th>2</th>\n",
       "      <td>boundary</td>\n",
       "      <td>p p p</td>\n",
       "      <td></td>\n",
       "    </tr>\n",
       "    <tr>\n",
       "      <th>3</th>\n",
       "      <td>atom_style</td>\n",
       "      <td>atomic</td>\n",
       "      <td></td>\n",
       "    </tr>\n",
       "    <tr>\n",
       "      <th>4</th>\n",
       "      <td>read_data</td>\n",
       "      <td>structure.inp</td>\n",
       "      <td></td>\n",
       "    </tr>\n",
       "    <tr>\n",
       "      <th>5</th>\n",
       "      <td>include</td>\n",
       "      <td>potential.inp</td>\n",
       "      <td></td>\n",
       "    </tr>\n",
       "    <tr>\n",
       "      <th>6</th>\n",
       "      <td>fix___ensemble</td>\n",
       "      <td>all npt temp 500.0 500.0 0.1 iso 0.0 0.0 1.0</td>\n",
       "      <td></td>\n",
       "    </tr>\n",
       "    <tr>\n",
       "      <th>7</th>\n",
       "      <td>variable___dumptime</td>\n",
       "      <td>equal 100</td>\n",
       "      <td></td>\n",
       "    </tr>\n",
       "    <tr>\n",
       "      <th>8</th>\n",
       "      <td>variable___thermotime</td>\n",
       "      <td>equal 100</td>\n",
       "      <td></td>\n",
       "    </tr>\n",
       "    <tr>\n",
       "      <th>9</th>\n",
       "      <td>timestep</td>\n",
       "      <td>0.001</td>\n",
       "      <td></td>\n",
       "    </tr>\n",
       "    <tr>\n",
       "      <th>10</th>\n",
       "      <td>velocity</td>\n",
       "      <td>all create 1000.0 61040 dist gaussian</td>\n",
       "      <td></td>\n",
       "    </tr>\n",
       "    <tr>\n",
       "      <th>11</th>\n",
       "      <td>dump___1</td>\n",
       "      <td>all custom ${dumptime} dump.out id type xsu ysu zsu fx fy fz vx vy vz</td>\n",
       "      <td></td>\n",
       "    </tr>\n",
       "    <tr>\n",
       "      <th>12</th>\n",
       "      <td>dump_modify___1</td>\n",
       "      <td>sort id format line \"%d %d %20.15g %20.15g %20.15g %20.15g %20.15g %20.15g %20.15g %20.15g %20.15g\"</td>\n",
       "      <td></td>\n",
       "    </tr>\n",
       "    <tr>\n",
       "      <th>13</th>\n",
       "      <td>thermo_style</td>\n",
       "      <td>custom step temp pe etotal pxx pxy pxz pyy pyz pzz vol</td>\n",
       "      <td></td>\n",
       "    </tr>\n",
       "    <tr>\n",
       "      <th>14</th>\n",
       "      <td>thermo_modify</td>\n",
       "      <td>format float %20.15g</td>\n",
       "      <td></td>\n",
       "    </tr>\n",
       "    <tr>\n",
       "      <th>15</th>\n",
       "      <td>thermo</td>\n",
       "      <td>${thermotime}</td>\n",
       "      <td></td>\n",
       "    </tr>\n",
       "    <tr>\n",
       "      <th>16</th>\n",
       "      <td>run</td>\n",
       "      <td>100000</td>\n",
       "      <td></td>\n",
       "    </tr>\n",
       "  </tbody>\n",
       "</table>\n",
       "</div>"
      ],
      "text/plain": [
       "                Parameter  \\\n",
       "0                   units   \n",
       "1               dimension   \n",
       "2                boundary   \n",
       "3              atom_style   \n",
       "4               read_data   \n",
       "5                 include   \n",
       "6          fix___ensemble   \n",
       "7     variable___dumptime   \n",
       "8   variable___thermotime   \n",
       "9                timestep   \n",
       "10               velocity   \n",
       "11               dump___1   \n",
       "12        dump_modify___1   \n",
       "13           thermo_style   \n",
       "14          thermo_modify   \n",
       "15                 thermo   \n",
       "16                    run   \n",
       "\n",
       "                                                                                                  Value  \\\n",
       "0                                                                                                 metal   \n",
       "1                                                                                                     3   \n",
       "2                                                                                                 p p p   \n",
       "3                                                                                                atomic   \n",
       "4                                                                                         structure.inp   \n",
       "5                                                                                         potential.inp   \n",
       "6                                                          all npt temp 500.0 500.0 0.1 iso 0.0 0.0 1.0   \n",
       "7                                                                                            equal 100    \n",
       "8                                                                                            equal 100    \n",
       "9                                                                                                 0.001   \n",
       "10                                                                all create 1000.0 61040 dist gaussian   \n",
       "11                                all custom ${dumptime} dump.out id type xsu ysu zsu fx fy fz vx vy vz   \n",
       "12  sort id format line \"%d %d %20.15g %20.15g %20.15g %20.15g %20.15g %20.15g %20.15g %20.15g %20.15g\"   \n",
       "13                                               custom step temp pe etotal pxx pxy pxz pyy pyz pzz vol   \n",
       "14                                                                                 format float %20.15g   \n",
       "15                                                                                        ${thermotime}   \n",
       "16                                                                                               100000   \n",
       "\n",
       "   Comment  \n",
       "0           \n",
       "1           \n",
       "2           \n",
       "3           \n",
       "4           \n",
       "5           \n",
       "6           \n",
       "7           \n",
       "8           \n",
       "9           \n",
       "10          \n",
       "11          \n",
       "12          \n",
       "13          \n",
       "14          \n",
       "15          \n",
       "16          "
      ]
     },
     "execution_count": 18,
     "metadata": {},
     "output_type": "execute_result"
    }
   ],
   "source": [
    "lmp.input.control"
   ]
  },
  {
   "cell_type": "markdown",
   "id": "33d4facc-99e6-42e6-a383-8aa7a57f12a0",
   "metadata": {},
   "source": [
    "Alternatively to updating one command at a time, you can also load existing LAMMPS input scripts directly, using the `load_string()` function. Still there are two constratins with this method:\n",
    "* First you want to use the `read_data` command to read the `structure.inp` file and the `include` command to load the `potential.inp` file. You could also create your own structure and define your own potential, but in those cases pyiron is not aware of these changes, so they are not recommended.\n",
    "* Second, pyiron expects each input script to have only one `run` or `minimize` command. This is required as the pyiron parser expects on set of `dump` and `thermo` output. To combine multiple calculation steps it is recommended to combine multiple LAMMPS job objects.  "
   ]
  },
  {
   "cell_type": "code",
   "execution_count": 19,
   "id": "951c11b1-006b-41f1-9f00-48f0ff9425fa",
   "metadata": {},
   "outputs": [],
   "source": [
    "lmp.input.control.load_string(input_str=\"\"\"\\\n",
    "units metal\n",
    "dimension 3\n",
    "boundary p p p\n",
    "atom_style atomic\n",
    "read_data structure.inp\n",
    "include potential.inp\n",
    "fix ensemble all npt temp 500.0 500.0 0.1 iso 0.0 0.0 1.0\n",
    "variable dumptime  equal 100\n",
    "variable thermotime  equal 100\n",
    "timestep 0.001\n",
    "velocity all create 1000.0 61040 dist gaussian\n",
    "dump 1 all custom ${dumptime} dump.out id type xsu ysu zsu fx fy fz vx vy vz\n",
    "dump_modify 1 sort id format line \"%d %d %20.15g %20.15g %20.15g %20.15g %20.15g %20.15g %20.15g %20.15g %20.15g\"\n",
    "thermo_style custom step temp pe etotal pxx pxy pxz pyy pyz pzz vol\n",
    "thermo_modify format float %20.15g\n",
    "thermo ${thermotime}\n",
    "run 10000\"\"\")"
   ]
  },
  {
   "cell_type": "markdown",
   "id": "37af1953-8919-4fda-843e-09c76b66c1f2",
   "metadata": {},
   "source": [
    "After loading the input string we can validate that the number of run steps was correctly reset to 10000:"
   ]
  },
  {
   "cell_type": "code",
   "execution_count": 20,
   "id": "033f2090-5cac-40ef-b3f2-f9cafbe3e38c",
   "metadata": {},
   "outputs": [
    {
     "data": {
      "text/html": [
       "<div>\n",
       "<style scoped>\n",
       "    .dataframe tbody tr th:only-of-type {\n",
       "        vertical-align: middle;\n",
       "    }\n",
       "\n",
       "    .dataframe tbody tr th {\n",
       "        vertical-align: top;\n",
       "    }\n",
       "\n",
       "    .dataframe thead th {\n",
       "        text-align: right;\n",
       "    }\n",
       "</style>\n",
       "<table border=\"1\" class=\"dataframe\">\n",
       "  <thead>\n",
       "    <tr style=\"text-align: right;\">\n",
       "      <th></th>\n",
       "      <th>Parameter</th>\n",
       "      <th>Value</th>\n",
       "      <th>Comment</th>\n",
       "    </tr>\n",
       "  </thead>\n",
       "  <tbody>\n",
       "    <tr>\n",
       "      <th>0</th>\n",
       "      <td>units</td>\n",
       "      <td>metal</td>\n",
       "      <td></td>\n",
       "    </tr>\n",
       "    <tr>\n",
       "      <th>1</th>\n",
       "      <td>dimension</td>\n",
       "      <td>3</td>\n",
       "      <td></td>\n",
       "    </tr>\n",
       "    <tr>\n",
       "      <th>2</th>\n",
       "      <td>boundary</td>\n",
       "      <td>p p p</td>\n",
       "      <td></td>\n",
       "    </tr>\n",
       "    <tr>\n",
       "      <th>3</th>\n",
       "      <td>atom_style</td>\n",
       "      <td>atomic</td>\n",
       "      <td></td>\n",
       "    </tr>\n",
       "    <tr>\n",
       "      <th>4</th>\n",
       "      <td>read_data</td>\n",
       "      <td>structure.inp</td>\n",
       "      <td></td>\n",
       "    </tr>\n",
       "    <tr>\n",
       "      <th>5</th>\n",
       "      <td>include</td>\n",
       "      <td>potential.inp</td>\n",
       "      <td></td>\n",
       "    </tr>\n",
       "    <tr>\n",
       "      <th>6</th>\n",
       "      <td>fix</td>\n",
       "      <td>ensemble all npt temp 500.0 500.0 0.1 iso 0.0 0.0 1.0</td>\n",
       "      <td></td>\n",
       "    </tr>\n",
       "    <tr>\n",
       "      <th>7</th>\n",
       "      <td>variable</td>\n",
       "      <td>dumptime  equal 100</td>\n",
       "      <td></td>\n",
       "    </tr>\n",
       "    <tr>\n",
       "      <th>8</th>\n",
       "      <td>variable</td>\n",
       "      <td>thermotime  equal 100</td>\n",
       "      <td></td>\n",
       "    </tr>\n",
       "    <tr>\n",
       "      <th>9</th>\n",
       "      <td>timestep</td>\n",
       "      <td>0.001</td>\n",
       "      <td></td>\n",
       "    </tr>\n",
       "    <tr>\n",
       "      <th>10</th>\n",
       "      <td>velocity</td>\n",
       "      <td>all create 1000.0 61040 dist gaussian</td>\n",
       "      <td></td>\n",
       "    </tr>\n",
       "    <tr>\n",
       "      <th>11</th>\n",
       "      <td>dump</td>\n",
       "      <td>1 all custom ${dumptime} dump.out id type xsu ysu zsu fx fy fz vx vy vz</td>\n",
       "      <td></td>\n",
       "    </tr>\n",
       "    <tr>\n",
       "      <th>12</th>\n",
       "      <td>dump_modify</td>\n",
       "      <td>1 sort id format line \"%d %d %20.15g %20.15g %20.15g %20.15g %20.15g %20.15g %20.15g %20.15g %20.15g\"</td>\n",
       "      <td></td>\n",
       "    </tr>\n",
       "    <tr>\n",
       "      <th>13</th>\n",
       "      <td>thermo_style</td>\n",
       "      <td>custom step temp pe etotal pxx pxy pxz pyy pyz pzz vol</td>\n",
       "      <td></td>\n",
       "    </tr>\n",
       "    <tr>\n",
       "      <th>14</th>\n",
       "      <td>thermo_modify</td>\n",
       "      <td>format float %20.15g</td>\n",
       "      <td></td>\n",
       "    </tr>\n",
       "    <tr>\n",
       "      <th>15</th>\n",
       "      <td>thermo</td>\n",
       "      <td>${thermotime}</td>\n",
       "      <td></td>\n",
       "    </tr>\n",
       "    <tr>\n",
       "      <th>16</th>\n",
       "      <td>run</td>\n",
       "      <td>10000</td>\n",
       "      <td></td>\n",
       "    </tr>\n",
       "  </tbody>\n",
       "</table>\n",
       "</div>"
      ],
      "text/plain": [
       "        Parameter  \\\n",
       "0           units   \n",
       "1       dimension   \n",
       "2        boundary   \n",
       "3      atom_style   \n",
       "4       read_data   \n",
       "5         include   \n",
       "6             fix   \n",
       "7        variable   \n",
       "8        variable   \n",
       "9        timestep   \n",
       "10       velocity   \n",
       "11           dump   \n",
       "12    dump_modify   \n",
       "13   thermo_style   \n",
       "14  thermo_modify   \n",
       "15         thermo   \n",
       "16            run   \n",
       "\n",
       "                                                                                                    Value  \\\n",
       "0                                                                                                   metal   \n",
       "1                                                                                                       3   \n",
       "2                                                                                                   p p p   \n",
       "3                                                                                                  atomic   \n",
       "4                                                                                           structure.inp   \n",
       "5                                                                                           potential.inp   \n",
       "6                                                   ensemble all npt temp 500.0 500.0 0.1 iso 0.0 0.0 1.0   \n",
       "7                                                                                     dumptime  equal 100   \n",
       "8                                                                                   thermotime  equal 100   \n",
       "9                                                                                                   0.001   \n",
       "10                                                                  all create 1000.0 61040 dist gaussian   \n",
       "11                                1 all custom ${dumptime} dump.out id type xsu ysu zsu fx fy fz vx vy vz   \n",
       "12  1 sort id format line \"%d %d %20.15g %20.15g %20.15g %20.15g %20.15g %20.15g %20.15g %20.15g %20.15g\"   \n",
       "13                                                 custom step temp pe etotal pxx pxy pxz pyy pyz pzz vol   \n",
       "14                                                                                   format float %20.15g   \n",
       "15                                                                                          ${thermotime}   \n",
       "16                                                                                                  10000   \n",
       "\n",
       "   Comment  \n",
       "0           \n",
       "1           \n",
       "2           \n",
       "3           \n",
       "4           \n",
       "5           \n",
       "6           \n",
       "7           \n",
       "8           \n",
       "9           \n",
       "10          \n",
       "11          \n",
       "12          \n",
       "13          \n",
       "14          \n",
       "15          \n",
       "16          "
      ]
     },
     "execution_count": 20,
     "metadata": {},
     "output_type": "execute_result"
    }
   ],
   "source": [
    "lmp.input.control"
   ]
  },
  {
   "cell_type": "markdown",
   "id": "949f2882-4071-4c35-8231-54eb6fc783a4",
   "metadata": {},
   "source": [
    "## Execute the LAMMPS calculation"
   ]
  },
  {
   "cell_type": "markdown",
   "id": "bbfc4778-e843-4c7b-9712-1c3991983fc1",
   "metadata": {},
   "source": [
    "After defining the atomistic structure, selecting an interatomic potential and defining the LAMMPS input we can now run the calculation. Still if we just call the `run()` function directly, this calculation is executed on our local computer. To submit the calculation to a specific high performance computing cluster the pyiron job object defines a server object, which contains all the settings for the submission. In this virtual environment we use the [flux-framework](https://flux-framework.org) as queuing system. But pyiron supports a wide range of different queuing systems. A full list of the supported queuing systems is available as part of the python simple queuing system adapter package [pysqa](https://pysqa.readthedocs.io/en/latest/queue.html). "
   ]
  },
  {
   "cell_type": "markdown",
   "id": "c8474e73-52ad-4734-8163-5a0cd51cdcf8",
   "metadata": {},
   "source": [
    "We start by listing the available queues, in this case only the `flux` queue is defined: "
   ]
  },
  {
   "cell_type": "code",
   "execution_count": 21,
   "id": "94d8fd99-dae5-4bab-bb48-11f7787bb1e1",
   "metadata": {},
   "outputs": [
    {
     "data": {
      "text/plain": [
       "['flux']"
      ]
     },
     "execution_count": 21,
     "metadata": {},
     "output_type": "execute_result"
    }
   ],
   "source": [
    "lmp.server.list_queues()"
   ]
  },
  {
   "cell_type": "markdown",
   "id": "1e431e48-b88e-43f3-8a3a-3f1f982242b2",
   "metadata": {},
   "source": [
    "In the next step we select the `flux` you as active queue by assigning it to the `lmp.server.queue` property and set the number of cores to two:"
   ]
  },
  {
   "cell_type": "code",
   "execution_count": 22,
   "id": "dba8d8df-9396-4b55-9cad-a6839b1d5ec4",
   "metadata": {},
   "outputs": [],
   "source": [
    "# lmp.server.queue = \"flux\"\n",
    "# lmp.server.cores = 2 "
   ]
  },
  {
   "cell_type": "markdown",
   "id": "b5066238-3dc2-4c4e-a794-ff9ee080ea0f",
   "metadata": {},
   "source": [
    "Finally, you can also switch between different versions of LAMMPS executables. As we are using the flux queuing system here we have to select an executable which supports flux. In contrast to the basic version this executable uses the `flux run` command rather than `mpiexec`. But the executable script could also contain additional commands like `module load`. By leveraging these kind of shell script templates pyiron is easily customizable."
   ]
  },
  {
   "cell_type": "code",
   "execution_count": 23,
   "id": "d875c914-14bb-40f1-89e6-b6849d3a1502",
   "metadata": {},
   "outputs": [
    {
     "data": {
      "text/plain": [
       "['2020.03.03', '2020.03.03_mpi', '2022.11.03_flux', '2022.11.03_flux_mpi']"
      ]
     },
     "execution_count": 23,
     "metadata": {},
     "output_type": "execute_result"
    }
   ],
   "source": [
    "lmp.executable.list_executables()"
   ]
  },
  {
   "cell_type": "code",
   "execution_count": 24,
   "id": "4f6f0ee7-9afb-47a0-ad2d-2d5de36e0492",
   "metadata": {},
   "outputs": [],
   "source": [
    "# lmp.executable.version = '2022.11.03_flux'"
   ]
  },
  {
   "cell_type": "code",
   "execution_count": 25,
   "id": "b96882de-550d-421e-be27-e1b8a920adf2",
   "metadata": {},
   "outputs": [
    {
     "name": "stdout",
     "output_type": "stream",
     "text": [
      "#!/bin/bash\n",
      "exec lmp_serial -in control.inp;\n"
     ]
    }
   ],
   "source": [
    "!cat $lmp.executable"
   ]
  },
  {
   "cell_type": "markdown",
   "id": "5728cf8d-d933-453b-9468-a4cbdef353bc",
   "metadata": {},
   "source": [
    "Now we start the calculation by calling the `run()` function of the job object: "
   ]
  },
  {
   "cell_type": "code",
   "execution_count": 26,
   "id": "8939c87c-9799-4092-beee-8742c8a25705",
   "metadata": {},
   "outputs": [
    {
     "name": "stdout",
     "output_type": "stream",
     "text": [
      "The job lmp was saved and received the ID: 2884\n"
     ]
    }
   ],
   "source": [
    "lmp.run()"
   ]
  },
  {
   "cell_type": "markdown",
   "id": "711f2512-77a4-4ac9-8f99-79f6b4a37304",
   "metadata": {},
   "source": [
    "After the calculation is started, it is also included in the `job_table()` of the specific project object: "
   ]
  },
  {
   "cell_type": "code",
   "execution_count": 27,
   "id": "6c9078ce-14f6-4add-8932-5065ca9c0c5d",
   "metadata": {},
   "outputs": [
    {
     "data": {
      "text/html": [
       "<div>\n",
       "<style scoped>\n",
       "    .dataframe tbody tr th:only-of-type {\n",
       "        vertical-align: middle;\n",
       "    }\n",
       "\n",
       "    .dataframe tbody tr th {\n",
       "        vertical-align: top;\n",
       "    }\n",
       "\n",
       "    .dataframe thead th {\n",
       "        text-align: right;\n",
       "    }\n",
       "</style>\n",
       "<table border=\"1\" class=\"dataframe\">\n",
       "  <thead>\n",
       "    <tr style=\"text-align: right;\">\n",
       "      <th></th>\n",
       "      <th>id</th>\n",
       "      <th>status</th>\n",
       "      <th>chemicalformula</th>\n",
       "      <th>job</th>\n",
       "      <th>subjob</th>\n",
       "      <th>projectpath</th>\n",
       "      <th>project</th>\n",
       "      <th>timestart</th>\n",
       "      <th>timestop</th>\n",
       "      <th>totalcputime</th>\n",
       "      <th>computer</th>\n",
       "      <th>hamilton</th>\n",
       "      <th>hamversion</th>\n",
       "      <th>parentid</th>\n",
       "      <th>masterid</th>\n",
       "    </tr>\n",
       "  </thead>\n",
       "  <tbody>\n",
       "    <tr>\n",
       "      <th>0</th>\n",
       "      <td>2884</td>\n",
       "      <td>finished</td>\n",
       "      <td>Al4</td>\n",
       "      <td>lmp</td>\n",
       "      <td>/lmp</td>\n",
       "      <td>/Users/janssen/pyiron/projects/</td>\n",
       "      <td>2023/2023-08-08-lammps-talk/test/</td>\n",
       "      <td>2023-08-10 18:37:47.928950</td>\n",
       "      <td>2023-08-10 18:37:48.632596</td>\n",
       "      <td>0.0</td>\n",
       "      <td>pyiron@pn2035881.lanl.gov#1</td>\n",
       "      <td>Lammps</td>\n",
       "      <td>0.1</td>\n",
       "      <td>None</td>\n",
       "      <td>None</td>\n",
       "    </tr>\n",
       "  </tbody>\n",
       "</table>\n",
       "</div>"
      ],
      "text/plain": [
       "     id    status chemicalformula  job subjob  \\\n",
       "0  2884  finished             Al4  lmp   /lmp   \n",
       "\n",
       "                       projectpath                            project  \\\n",
       "0  /Users/janssen/pyiron/projects/  2023/2023-08-08-lammps-talk/test/   \n",
       "\n",
       "                   timestart                   timestop  totalcputime  \\\n",
       "0 2023-08-10 18:37:47.928950 2023-08-10 18:37:48.632596           0.0   \n",
       "\n",
       "                      computer hamilton hamversion parentid masterid  \n",
       "0  pyiron@pn2035881.lanl.gov#1   Lammps        0.1     None     None  "
      ]
     },
     "execution_count": 27,
     "metadata": {},
     "output_type": "execute_result"
    }
   ],
   "source": [
    "pr.job_table()"
   ]
  },
  {
   "cell_type": "markdown",
   "id": "5af04bb3-9582-4cae-84e3-7cee0034c215",
   "metadata": {},
   "source": [
    "# Plot the results of a LAMMPS calculation"
   ]
  },
  {
   "cell_type": "markdown",
   "id": "b6b22a13-62bb-4beb-9227-6560341ccabf",
   "metadata": {},
   "source": [
    "To analyse the output of the LAMMPS calculation pyiron automatically parses the output. So rather than interacting with the underlying output of the calculation you can use the `output` property to access the output of the LAMMPS calculation. Again, you can use the `<tab>`-based autocompletion to browse through the different output properties."
   ]
  },
  {
   "cell_type": "markdown",
   "id": "21830633-165a-4217-bdd7-a1615b9e0cf6",
   "metadata": {},
   "source": [
    "## Temperature equilibration"
   ]
  },
  {
   "cell_type": "markdown",
   "id": "39578f7b-31ef-4860-9646-83ee7168bc55",
   "metadata": {},
   "source": [
    "Here we just print the temperature to analyse how it changes over time: "
   ]
  },
  {
   "cell_type": "code",
   "execution_count": 28,
   "id": "b779c628-a53a-47dc-bb95-de219280658d",
   "metadata": {},
   "outputs": [
    {
     "data": {
      "text/plain": [
       "array([1000.        ,  103.00304968,  578.27246601,  823.29574395,\n",
       "        553.20366161,  427.30693999,  328.76338336,  337.28404635,\n",
       "        555.28090839,  570.91982962,  734.29756874,  340.04640237,\n",
       "        427.67693585,  391.00923285,  280.5868281 ,  537.76398349,\n",
       "        576.62724044,  616.14152134,  356.34638353,  482.77315068,\n",
       "        232.05516536,  328.77917715, 1188.0353561 ,  282.24679249,\n",
       "        521.64066404,  662.49040198,  186.65634774,  425.47644871,\n",
       "        587.59395228,  500.75312358,  947.92106636,   64.56283835,\n",
       "        255.81108679,  780.60316014,  321.40600247,  159.86655546,\n",
       "        500.77062213,  538.69987478,  818.89934081,  768.58557921,\n",
       "        450.56733079,  329.74059511,  495.24312177,  870.76916839,\n",
       "        259.36339399,  994.97443289,  473.8853916 ,  317.57379037,\n",
       "        538.28158529,  474.81269952,  661.72133958,  503.86116539,\n",
       "        674.4237787 ,  356.30834974,  252.70287466,  660.53615628,\n",
       "        343.3601202 ,  253.71866754,  280.73534596,  305.41311806,\n",
       "        743.2418522 ,  541.05031839,  508.41243167,  127.93027593,\n",
       "        235.08222253,  323.3973228 ,  272.63915926,  719.92835278,\n",
       "        436.37090266,  456.2062489 ,  436.12249284,   84.47839932,\n",
       "        355.15357064,  349.00588026,  480.06921001,  500.62714234,\n",
       "        667.76439229,  641.651097  ,  317.68150713,  457.5656714 ,\n",
       "        250.10715469,  436.37300009,  642.31401382,  421.16752412,\n",
       "        583.66393795,  187.88020316,  217.07426552,  144.23256491,\n",
       "        257.87157437,  589.80104561,  104.66588194,  850.50511525,\n",
       "        859.54353908,  352.96858547,  353.7275847 ,  365.4236996 ,\n",
       "        397.09176722,  732.13847422,  763.29564456,  466.68128114,\n",
       "        290.16426436])"
      ]
     },
     "execution_count": 28,
     "metadata": {},
     "output_type": "execute_result"
    }
   ],
   "source": [
    "lmp.output.temperature"
   ]
  },
  {
   "cell_type": "markdown",
   "id": "e24f819a-d867-441f-aac7-baf29a5b6d85",
   "metadata": {},
   "source": [
    "Obviously, looking at the numbers like this, it is hard to analyse if the structure is equilibrated or not. This is much easier when the temperature is plotted over the number of the time step. To do this we use the `matplotlib` package:"
   ]
  },
  {
   "cell_type": "code",
   "execution_count": 29,
   "id": "73ef1751-9e47-425a-b0a7-0fe1cf7a30c6",
   "metadata": {},
   "outputs": [],
   "source": [
    "import matplotlib.pyplot as plt "
   ]
  },
  {
   "cell_type": "markdown",
   "id": "79c65d34-02e2-478c-a55f-7e7d5e3417ee",
   "metadata": {},
   "source": [
    "Then from the output property we select the both the `steps` property and the `temperature` property and plot both: "
   ]
  },
  {
   "cell_type": "code",
   "execution_count": 30,
   "id": "4c52b09b-9948-49d2-b6f1-402dd4b0a4f0",
   "metadata": {},
   "outputs": [
    {
     "data": {
      "text/plain": [
       "Text(0, 0.5, 'Temperature (K)')"
      ]
     },
     "execution_count": 30,
     "metadata": {},
     "output_type": "execute_result"
    },
    {
     "data": {
      "image/png": "[encoded data removed]",
      "text/plain": [
       "<Figure size 640x480 with 1 Axes>"
      ]
     },
     "metadata": {},
     "output_type": "display_data"
    }
   ],
   "source": [
    "plt.plot(lmp.output.steps, lmp.output.temperature)\n",
    "plt.xlabel(\"Timesteps\")\n",
    "plt.ylabel(\"Temperature (K)\")"
   ]
  },
  {
   "cell_type": "markdown",
   "id": "20215ae3-5995-47be-9154-dd1a2d53ee80",
   "metadata": {},
   "source": [
    "The temperature is only poorly equilibrate as the four atoms in the simulation cell are not sufficient. You can increase the supercell before assigning it to the LAMMPS job object by replacing the line `lmp.structure = structure` with `lmp.structure = structure.repeat([4,4,4])`"
   ]
  },
  {
   "cell_type": "markdown",
   "id": "6647aa27-99d2-4f8b-a6a4-d0ef6a5a0e5f",
   "metadata": {},
   "source": [
    "## Visualize the vibration of the individual atoms"
   ]
  },
  {
   "cell_type": "markdown",
   "id": "d4c9c6e3-8918-497d-b011-08a275848976",
   "metadata": {},
   "source": [
    "Beyond combined properties like the change in temperature over time, we can also analyse the vibration of the atoms in the xy-plane. For this we divide the array of positions `lmp.output.positions` into two separate arrays one for the x-coordinates and one for the y-coordinates and then plot both combined in a two dimensional histogram."
   ]
  },
  {
   "cell_type": "code",
   "execution_count": 31,
   "id": "9c7003a5-9efd-46b0-a615-85ea33ce4cb7",
   "metadata": {},
   "outputs": [
    {
     "data": {
      "text/plain": [
       "Text(0, 0.5, 'y [$\\\\AA$]')"
      ]
     },
     "execution_count": 31,
     "metadata": {},
     "output_type": "execute_result"
    },
    {
     "data": {
      "image/png": "[encoded data removed]",
      "text/plain": [
       "<Figure size 640x480 with 1 Axes>"
      ]
     },
     "metadata": {},
     "output_type": "display_data"
    }
   ],
   "source": [
    "plt.hist2d(lmp.output.positions[:, :, 0].flatten(), lmp.output.positions[:, :, 1].flatten(), bins=50)\n",
    "plt.xlabel('x [$\\AA$]')\n",
    "plt.ylabel('y [$\\AA$]')"
   ]
  },
  {
   "cell_type": "markdown",
   "id": "af0d7949-09f2-4da5-a136-774465c34b2b",
   "metadata": {},
   "source": [
    "# Different levels of output"
   ]
  },
  {
   "cell_type": "markdown",
   "id": "f7cc0ae8-1da3-4c51-9204-d090275a75b7",
   "metadata": {},
   "source": [
    "The easiest way to access the output of a pyiron job object is using the `output` property as demonstrated above. Internally, pyiron converts the underlying LAMMPS output files `log.lammps` and `dump.out` to `numpy` arrays and then stores these converted `numpy` arrays in an file using the hierachical data format (HDF5). "
   ]
  },
  {
   "cell_type": "markdown",
   "id": "67ee5e63-391c-4927-98ce-de7dc58ce8a8",
   "metadata": {},
   "source": [
    "## HDF5 interface"
   ]
  },
  {
   "cell_type": "markdown",
   "id": "8e7b76f6-2b03-451a-bded-ace93fdd2f8d",
   "metadata": {},
   "source": [
    "Each pyiron job object has one associated HDF5 file. To get the path of the HDF5 file for a particiular pyiron job object you can use `lmp.project_hdf5.file_name`."
   ]
  },
  {
   "cell_type": "code",
   "execution_count": 32,
   "id": "7f3f1f13-5edd-41e5-8b0d-5a6d3e4ab9b6",
   "metadata": {},
   "outputs": [
    {
     "data": {
      "text/plain": [
       "'/Users/janssen/pyiron/projects/2023/2023-08-08-lammps-talk/test/lmp.h5'"
      ]
     },
     "execution_count": 32,
     "metadata": {},
     "output_type": "execute_result"
    }
   ],
   "source": [
    "lmp.project_hdf5.file_name"
   ]
  },
  {
   "cell_type": "markdown",
   "id": "9e670b0a-edc2-4671-aa94-225501dc32a2",
   "metadata": {},
   "source": [
    "The same HDF5 file can be accessed using the dicitonary notiation. The hierachy of the HDF5 format extends the hierachy of the filesystem, so the output properties like temperature and steps are located in the output group under the subgroup generic: "
   ]
  },
  {
   "cell_type": "code",
   "execution_count": 33,
   "id": "935742c6-915b-416f-92fa-472e4efe0651",
   "metadata": {},
   "outputs": [
    {
     "data": {
      "text/plain": [
       "{'groups': [], 'nodes': ['cells', 'energy_pot', 'energy_tot', 'forces', 'indices', 'natoms', 'positions', 'pressures', 'steps', 'temperature', 'unwrapped_positions', 'velocities', 'volume']}"
      ]
     },
     "execution_count": 33,
     "metadata": {},
     "output_type": "execute_result"
    }
   ],
   "source": [
    "lmp[\"output/generic\"]"
   ]
  },
  {
   "cell_type": "markdown",
   "id": "9737ff64-1a0f-448b-9501-7f5bfc455036",
   "metadata": {},
   "source": [
    "You can redo the plot from above using the direct access to the HDF5 file: "
   ]
  },
  {
   "cell_type": "code",
   "execution_count": 34,
   "id": "1c14f837-d362-4013-ba49-7a31771f922b",
   "metadata": {},
   "outputs": [
    {
     "data": {
      "text/plain": [
       "Text(0, 0.5, 'Temperature (K)')"
      ]
     },
     "execution_count": 34,
     "metadata": {},
     "output_type": "execute_result"
    },
    {
     "data": {
      "image/png": "[encoded data removed]",
      "text/plain": [
       "<Figure size 640x480 with 1 Axes>"
      ]
     },
     "metadata": {},
     "output_type": "display_data"
    }
   ],
   "source": [
    "plt.plot(lmp[\"output/generic/steps\"], lmp[\"output/generic/temperature\"])\n",
    "plt.xlabel(\"Timesteps\")\n",
    "plt.ylabel(\"Temperature (K)\")"
   ]
  },
  {
   "cell_type": "markdown",
   "id": "1d041342-a03c-41ed-a3a4-49bc7b127b21",
   "metadata": {},
   "source": [
    "The advantage of the HDF5 interface is that the job object does not have to be reloaded from the database. Rather than calling `pr.load(job_name)` you can use `pr.inspect(job_name)` to access the job object without reloading it. This inspect mode acts like a pointer on the HDF5 file. The capabilities of the inspect mode are introduced in more detail in the following tutorial. "
   ]
  },
  {
   "cell_type": "markdown",
   "id": "9e7fbd5e-8825-4d94-a5e9-e33397b6fc9c",
   "metadata": {},
   "source": [
    "## Direct access to the output files"
   ]
  },
  {
   "cell_type": "markdown",
   "id": "1ce2ed98-1814-42bb-8e36-1e83720ee5d6",
   "metadata": {},
   "source": [
    "In case you modified the LAMMPS input files, or in case you are interested in a specific property which is currently not parsed by the LAMMPS output parser, you can directly access the output files from the python interface. The output files are located in the working directory of the job object."
   ]
  },
  {
   "cell_type": "code",
   "execution_count": 35,
   "id": "b12c5f54-5d89-48e2-af59-6351372eb782",
   "metadata": {},
   "outputs": [
    {
     "data": {
      "text/plain": [
       "'/Users/janssen/pyiron/projects/2023/2023-08-08-lammps-talk/test/lmp_hdf5/lmp'"
      ]
     },
     "execution_count": 35,
     "metadata": {},
     "output_type": "execute_result"
    }
   ],
   "source": [
    "lmp.working_directory"
   ]
  },
  {
   "cell_type": "markdown",
   "id": "bce1134f-dfac-4b6d-81a6-5d1f6e038ad4",
   "metadata": {},
   "source": [
    "Still by default they are compressed, so access them we have to decompress the output files by calling the `decompress()` function of the job object:"
   ]
  },
  {
   "cell_type": "code",
   "execution_count": 36,
   "id": "59916c2c-d44d-47a7-893a-30432cc64e81",
   "metadata": {},
   "outputs": [],
   "source": [
    "lmp.decompress()"
   ]
  },
  {
   "cell_type": "markdown",
   "id": "1f26b3b2-5c74-41d7-be42-98f45cb902b7",
   "metadata": {},
   "source": [
    "Now the output files can be accessed in the same way like the output properties stored in the HDF5 file using the dictionary like notation:"
   ]
  },
  {
   "cell_type": "code",
   "execution_count": 37,
   "id": "33188f6f-0916-4187-9ef0-d42d54612f27",
   "metadata": {},
   "outputs": [
    {
     "data": {
      "text/plain": [
       "['LAMMPS (23 Jun 2022 - Update 1)\\n',\n",
       " 'units metal\\n',\n",
       " 'dimension 3\\n',\n",
       " 'boundary p p p\\n',\n",
       " 'atom_style atomic\\n',\n",
       " 'read_data structure.inp\\n',\n",
       " 'Reading data file ...\\n',\n",
       " '  orthogonal box = (0 0 0) to (4.05 4.05 4.05)\\n',\n",
       " '  1 by 1 by 1 MPI processor grid\\n',\n",
       " '  reading atoms ...\\n',\n",
       " '  4 atoms\\n',\n",
       " '  read_data CPU = 0.000 seconds\\n',\n",
       " 'include potential.inp\\n',\n",
       " 'pair_style eam/alloy\\n',\n",
       " 'pair_coeff * * NiAl02.eam.alloy Ni Al\\n',\n",
       " 'fix ensemble all npt temp 500.0 500.0 0.1 iso 0.0 0.0 1.0\\n',\n",
       " 'variable dumptime  equal 100\\n',\n",
       " 'variable thermotime  equal 100\\n',\n",
       " 'timestep 0.001\\n',\n",
       " 'velocity all create 1000.0 61040 dist gaussian\\n',\n",
       " 'dump 1 all custom ${dumptime} dump.out id type xsu ysu zsu fx fy fz vx vy vz\\n',\n",
       " 'dump 1 all custom 100 dump.out id type xsu ysu zsu fx fy fz vx vy vz\\n',\n",
       " 'dump_modify 1 sort id format line \"%d %d %20.15g %20.15g %20.15g %20.15g %20.15g %20.15g %20.15g %20.15g %20.15g\"\\n',\n",
       " 'thermo_style custom step temp pe etotal pxx pxy pxz pyy pyz pzz vol\\n',\n",
       " 'thermo_modify format float %20.15g\\n',\n",
       " 'thermo ${thermotime}\\n',\n",
       " 'thermo 100\\n',\n",
       " 'run 10000\\n',\n",
       " 'Neighbor list info ...\\n',\n",
       " '  update every 1 steps, delay 10 steps, check yes\\n',\n",
       " '  max neighbors/atom: 2000, page size: 100000\\n',\n",
       " '  master list distance cutoff = 7.954144\\n',\n",
       " '  ghost atom cutoff = 7.954144\\n',\n",
       " '  binsize = 3.977072, bins = 2 2 2\\n',\n",
       " '  1 neighbor lists, perpetual/occasional/extra = 1 0 0\\n',\n",
       " '  (1) pair eam/alloy, perpetual\\n',\n",
       " '      attributes: half, newton on\\n',\n",
       " '      pair build: half/bin/atomonly/newton\\n',\n",
       " '      stencil: half/bin/3d\\n',\n",
       " '      bin: standard\\n',\n",
       " 'Per MPI rank memory allocation (min/avg/max) = 4.459 | 4.459 | 4.459 Mbytes\\n',\n",
       " '   Step          Temp          PotEng         TotEng          Pxx            Pxy            Pxz            Pyy            Pyz            Pzz           Volume    \\n',\n",
       " '         0                  1000    -13.4486826111902    -13.0609021761902     7761.54438456978    -7443.22978534658    -866.826476810956       12240.52852859     2194.16099255061     2119.09672807242            66.430125\\n',\n",
       " '       100      103.003049683496     -13.109855097897    -13.0699125304844    -1804.72762979833     21058.7854387891     1208.46784815649    -7271.46175317807    -6072.03223020359    -2951.66517956866     69.3216034371248\\n',\n",
       " '       200      578.272466008621    -13.2331159875497    -13.0088732391324     3924.89980958625     15591.2457976429    -815.938552191451     2315.65920423848     394.496043868415     -11937.212919559     68.4070532175566\\n',\n",
       " '       300      823.295743950509    -13.1481713012739    -12.8289133195512     14024.8693237829    -7549.42144537847     10966.4880817279     11703.0858787683    -5140.22041240876     24908.8269151392     67.8171479951513\\n',\n",
       " '       400      553.203661608797    -13.0935314358175    -12.8790098792752    -22177.5857698734     21883.5750419176     5132.88369585694    -25432.3781646595    -1050.56618879276    -37005.5166910008     71.6587161532975\\n',\n",
       " '       500      427.306939985287    -13.2848528540675    -13.1191515830015     22828.5732714046      9305.6786164535     3707.68561094172     14805.6702055113    -1533.95526131535     18390.0177479903     66.5651770044152\\n',\n",
       " '       600      328.763383359459    -13.3094231396723    -13.1819351318611     14146.0124851326    -5843.94848633404     10797.9751650087     7848.23976233173     1292.75262122413     13002.8694345652     66.8231007650027\\n',\n",
       " '       700      337.284046345081    -13.2527837757992     -13.121991621589    -31872.2230725223     12393.8996719473    -44.0091326050884    -32415.9277107435    -1158.70082854739     -34431.015843623      70.558450154571\\n',\n",
       " '       800      555.280908390331    -13.2470005925373    -13.0316735203345     48792.9831033291    -7455.83622272144     14024.9829449148     33988.4104130842     1166.37531040442     36370.3309275775     65.4862253469865\\n',\n",
       " '       900      570.919829619306    -13.2616987589216    -13.0403072190416    -21505.9946982678      4416.7888680839     10279.0366482861    -26661.3455557073     3734.39625613089    -17739.8314375217     69.7145675920158\\n',\n",
       " '      1000      734.297568742476    -13.3094896524895    -13.0247434218631    -23754.9265422057      3453.8152930206    -6284.14338490496    -30194.6290892062     446.686031567532    -29195.6371864651     69.8521438598901\\n',\n",
       " '      1100      340.046402366515    -13.1275747067968    -12.9957113649669     57266.9789132587    -286.074314231078     21711.2826532612     44791.3558733384     9047.00873469907     53327.3588869301     65.3931365788166\\n',\n",
       " '      1200      427.676935852653    -13.2622318094365    -13.0963870612121    -39129.0505773841      652.42081456036     546.717474372348     -38510.594815421     1555.61728370496    -41605.9455561399     71.1105143894591\\n',\n",
       " '      1300      391.009232850166    -13.3982172998528    -13.2465915694492     7976.60860127093    -2425.22072788274     1832.65779368217     3490.91268153078    -984.337926784403     8552.23613003002     66.5715815962302\\n',\n",
       " '      1400      280.586828103119     -13.349040386894    -13.2402343046369     27587.1396405253     2103.97348561976     6804.68046726373     25202.1493005938     2984.40457230161      26960.452486046      65.551908363197\\n',\n",
       " '      1500      537.763983485425    -13.2180054978992    -13.0094711464559    -43255.0875059953     -9268.5607685514     588.489248751879    -44365.1341660886    -597.453873274541    -50280.6918483503     72.1239633872112\\n',\n",
       " '      1600      576.627240436058     -13.148605639175    -12.9250008770458     39862.5968403574     4634.53971002359     10255.3477339538     32354.8120360818     8667.14356820745     47249.9565698309     66.1505164244757\\n',\n",
       " '      1700       616.14152134373    -13.2655924893527    -13.0266648621844    -9534.08334342861    -4744.77547872514     5302.88443316685    -8108.05296720675     2439.07761863778    -13999.2542286757     68.8354277906336\\n',\n",
       " '      1800      356.346383531123    -13.2339301419354    -13.0957459863191    -35039.4154706707    -9704.40663671139    -1100.13074896509    -38807.4457324069    -501.130988948348    -36334.3631330447     71.0652560853555\\n',\n",
       " '      1900      482.773150678169    -13.2787355073461    -13.0915255249698     65436.8268655702     6990.39211336347    -1503.71450165849     64771.4352795069     7149.06627577536     66173.5133920147     63.5577181765632\\n',\n",
       " '      2000      232.055165363702     -13.253858771438    -13.1638723184693    -35997.7723862375    -7996.30183111174     2277.72293362979    -37600.8704102791    -512.464634066666    -43651.8957577925      71.008781388262\\n',\n",
       " '      2100      328.779177149224    -13.2705577821118     -13.143063649778    -13257.2944708905    -6579.23396498505    -6665.50982393949    -13436.2919167108     1526.24404706124    -13156.4935947035     68.8670966580877\\n',\n",
       " '      2200      1188.03535609797    -13.3578353800605    -12.8971385128774     56541.4702917091     10452.8555028639     3128.77583249346     47325.9346930511    -1847.23502882464     43537.2174053102     64.4018694284187\\n',\n",
       " '      2300      282.246792489802    -12.8938506900356    -12.7844009060665    -45352.4236087469    -24921.6738463341    -1790.56512707375      -47432.59632338      961.65351055276    -56663.2620077846     75.9872672643426\\n',\n",
       " '      2400      521.640664041935    -13.1281627244426    -12.9258806808268     15195.4221391927     555.010274712793    -14432.5729445197      9250.9821568864    -1146.41534823563     20319.0998868338     67.9825216978179\\n',\n",
       " '      2500      662.490401978995    -13.3169022592843    -13.0600014430216     44071.4555465949    -1713.39603420052     9034.92177068928     39029.4496955917     7306.08144325905     43539.7945939376     64.9023627350958\\n',\n",
       " '      2600      186.656347743615    -13.0998654536913    -13.0274837739678    -61850.9183844132    -8939.36025655563    -7376.67209371772    -66094.3129314871     -2985.7376970937    -67692.8105371947     75.0425343750478\\n',\n",
       " '      2700       425.47644870568    -13.2375959169229    -13.0726044745616     70699.8996178106     10278.6422511764     4223.44829349409     68015.3971166627    -966.981854928887      70670.544367229     63.5311306973693\\n',\n",
       " '      2800      587.593952283876    -13.2600678647264    -13.0322104263063    -192.614741060264    -10879.7413211402    -2607.49446499609    -7106.18495223927    -1325.15991641161    -9190.86014874321     68.4790908511871\\n',\n",
       " '      2900      500.753123584334    -12.9198241257248    -12.7256418616336    -57971.7063987204    -8119.39661871526    -13879.0716231657    -63837.9140949962    -9276.61391475597    -56666.7143487364     76.7009545463573\\n',\n",
       " '      3000      947.921066362362    -13.0900329216918    -12.7224476782322     79098.3232242227     24306.1745141287     15981.5059529237     77986.7420297374     9696.74516107729     68337.2103582943     64.3473226416543\\n',\n",
       " '      3100      64.5628383450196    -13.0528691083889    -13.0278329028506    -2580.21604252313    -14295.5005562778    -23399.2519721248    -7657.00677260424    -17385.8264808714    -7519.90137336637     69.9096796816192\\n',\n",
       " '      3200      255.811086791676    -13.0860505836376    -12.9868520491237    -31207.4440708148      11414.630914299     7045.79274084475    -32362.9025935441     1499.85797719653    -39316.6036750229     72.1826016364193\\n',\n",
       " '      3300      780.603160140805    -13.2337510966158     -12.931048463614     67268.6200944025    -9889.89420801535     1553.34848187679     60333.6054852143     1499.51047978411     68549.7133482282     63.9772955543991\\n',\n",
       " '      3400      321.406002469223    -13.1644657038518    -13.0398307444026    -33964.7936663583    -833.733505312005    -11036.1466080313    -35217.6847566788    -11742.2267874647    -31799.6903051247     71.3877755592695\\n',\n",
       " '      3500       159.86655545559    -13.1795404576332    -13.1175473352167     2671.48698185626     6454.35544634718     16180.2333590027    -6528.34133026506     6801.29303046748    -6233.13430145056      68.764331115486\\n',\n",
       " '      3600      500.770622130034    -13.2630082103526    -13.0688191606678     43695.4227310748    -14928.1471515175    -9275.90675500987     40225.7693309052    -5006.97375730238     46014.0675320804     65.1187722811064\\n',\n",
       " '      3700      538.699874782114    -13.2051604205265     -12.996263148749    -34814.4363641544     9464.98181324351     8014.51176805461    -41263.6569658599    -261.997634074809    -42186.4548078504     71.6411236969805\\n',\n",
       " '      3800      818.899340805754    -13.1343783343142    -12.8168251917154     28119.8250543414    -8705.73114042441     15319.7465187911     14835.0237356639     7947.54716000778     6543.64518721734     67.9618097629846\\n',\n",
       " '      3900      768.585579211962    -13.2017244484026     -12.903681998161     2313.72488777301    -9946.47133404597    -6267.51838749851    -2407.23283686553    -1854.42438377269    -4510.34011432399     68.7110985510048\\n',\n",
       " '      4000      450.567330785117    -13.2846343507615    -13.1099131552328    -21971.2459670832     6536.12614527679     5461.24239491328    -28416.1077409368     1339.37551388032    -27153.4221158865     69.7815245011538\\n',\n",
       " '      4100      329.740595112407    -13.2429795140782    -13.1151125626684     45516.3153608514    -16433.3106288341    -1436.34867465509     41695.3803355273    -2332.84911272221     28911.4591295867     65.4823444367585\\n',\n",
       " '      4200      495.243121773346    -13.2889871413773    -13.0969415481853    -22268.6969630206    -2709.17425748941     289.611299888651    -28165.0773302692     641.566350185815    -18077.4318145654     69.5247727854614\\n',\n",
       " '      4300      870.769168393536    -13.3109644221877    -12.9732971752835    -6744.91362263164    -2422.10821129586     2919.89492462769    -8055.53106803759    -169.732149277416    -21572.0002678781     68.7088607541298\\n',\n",
       " '      4400      259.363393987233    -12.8460252530973    -12.7454492033539     53799.9509921353    -44560.9868714192    -16392.0742511037     41037.6360741453    -3369.86361957137     32685.3569933104     67.8756470297431\\n',\n",
       " '      4500      994.974432888805    -13.2365034246075     -12.850671806208    -49708.7296159428     5174.18924296574    -598.487783396103    -46606.0303668381     1218.89628756534    -50038.7939859865     72.4270213470618\\n',\n",
       " '      4600      473.885391604327    -13.3221290189766    -13.1383655356801     22580.9774775484    -9849.53294410309     1768.97365019317     21169.6798087144    -40.4921764524824     16019.6836378411     66.2385160540358\\n',\n",
       " '      4700      317.573790366722    -13.3052361344834    -13.1820872319104     16788.9472955175    -6970.05774063821    -6573.14757887167     17237.8801116259    -2035.35363902046     7210.15554768836     66.7083831213823\\n',\n",
       " '      4800       538.28158528963    -13.2952509583542    -13.0865158910581    -41497.8552180511     1836.17919087837      9674.4342822229    -46242.6891164407     2962.96094231191    -42318.2447130073     71.1413810909118\\n',\n",
       " '      4900      474.812699516412    -13.0616429361606    -12.8775198609986     58840.0943293665    -33784.1801462201    -18289.5933023985     61377.7387204438    -10160.0486724875     41487.3067419374     65.6999820788971\\n',\n",
       " '      5000      661.721339575882    -13.1693674814755     -12.912764892566     -14301.442535779     735.161293639923     13208.3009737821    -24969.6778016645      3506.8308993664    -33077.1630106421     70.7429998846525\\n',\n",
       " '      5100      503.861165392654    -13.1925351823389    -12.9971476804434    -18575.1744314282    -306.132714088228     4061.59358425907    -18806.6363086003    -8509.58927279836     -22402.530220433     70.1034926379059\\n',\n",
       " '      5200      674.423778699556    -13.2713241096077    -13.0097957633292     51867.7978636875    -19140.1373210603     -5619.0619782784     44160.1174206668     1017.06221862265     36141.7252736356     65.0756832970609\\n',\n",
       " '      5300      356.308349740214    -13.1823297540144     -13.044160347158     -29649.263092219     8308.84636258898     16006.6754143954    -37207.5208669765    -4653.66405434462    -32327.1257625853     71.2190020734078\\n',\n",
       " '      5400      252.702874663675    -13.1551555051697    -13.0571622745068     20804.3338303093    -17473.1966792646    -5862.10470598391     16386.8439031696    -5957.52384972943     6855.72894522129     67.6723174061119\\n',\n",
       " '      5500       660.53615627572    -13.2871764919881    -13.0310334939743     25873.7166625378     5489.04304584379     4836.10210743521     16801.2307767282     409.867858561287     15494.0832150974     66.5915945640766\\n',\n",
       " '      5600      343.360120196588    -13.1834070307655     -13.050258693994    -36935.3839970137    -809.264739145772     8232.02409152831    -39326.4871519105    -8347.15197969723    -36527.3032231323     71.5824626752602\\n',\n",
       " '      5700      253.718667535529     -13.249265440754    -13.1508783054894      42961.306115144    -10037.2153962895    -9453.30178812943     41458.9810418848     2080.23549234931     33152.6242253188     65.3856509999721\\n',\n",
       " '      5800      280.735345962158    -13.3114533364907    -13.2025896619137    -1558.05248799026     11075.5703841941     6698.35388843434    -2520.19846876606     -4647.6279881511       -2704.58926927     67.7380351321642\\n',\n",
       " '      5900      305.413118064607    -13.2191593839675    -13.1007261521897    -22602.6607408668    -12050.0882576289     147.746671179952    -25608.2104489982     -3129.5654652922     -28106.238701842     70.2134222915031\\n',\n",
       " '      6000      743.241852195095     -13.186361848903    -12.8981472001485     47566.2089025851      13562.522974857    -5314.30249525378     50466.8796812624     5344.99496900093     31237.8707451981     65.7452836360361\\n',\n",
       " '      6100      541.050318390118    -13.1405201247346    -12.9307113969124    -25606.6009900802     11137.3836046396     11774.5096144291    -32813.8251714906    -6946.07585283913     -28214.357178469     71.3172054434705\\n',\n",
       " '      6200      508.412431665661     -13.234725273219    -13.0375728793083    -1317.24043992253    -16950.0600035789    -8581.52212673166    -5499.30853704834     933.875841509092     -13508.336872967     68.7374020139082\\n',\n",
       " '      6300      127.930275934781    -13.2438312063301    -13.1942223482785     44558.7850119756     15447.4698316512     7332.08865971897     40764.7552722759    -359.990508837362     33109.5464137793     65.3443765264001\\n',\n",
       " '      6400      235.082222527314    -13.3553240012894    -13.2641637147769    -36362.8415940535    -510.419536402887    -1588.26735564532    -37785.7595953638    -84.8569288306254     -36694.332734364     69.9496323909846\\n',\n",
       " '      6500      323.397322795169    -13.3608609515344    -13.2354537970231     30077.9935550998     1296.16054921995      1393.0865906018     25844.8319476482     328.476552537575     21170.6053003792     65.5447700356462\\n',\n",
       " '      6600      272.639159262809     -13.258969506678     -13.153245374901     7950.69642562588     15731.5012855415     4014.28558016745     3342.40165657402    -1411.21437519274    -4683.39034888901     67.7947193537582\\n',\n",
       " '      6700      719.928352784374    -13.3058624251522    -13.0266882953406    -33705.1816369424    -6206.97576279379    -2663.52865561092    -40033.7537607898    -2670.38635424738     -36400.244870148      70.597677694454\\n',\n",
       " '      6800      436.370902661663    -13.1225954766663    -12.9533793782108     55124.3615648545     28584.8869242508     7988.46555826374     44150.5887313155     341.814989588574     31844.3727915557      65.974578876546\\n',\n",
       " '      6900      456.206248901499    -13.2009939096016    -13.0240860519529    -15884.7303201358     8716.43874022025     2831.58659088147    -20907.1894302627    -4982.83499313886    -23797.9288716246      70.040725239463\\n',\n",
       " '      7000      436.122492842276     -13.368204953838    -13.1990851838504    -13547.9177178718    -1745.19953662835    -4386.32169896191    -19332.3018061269      2334.7433028266     -19310.480066802     68.4663203867372\\n',\n",
       " '      7100      84.4783993220974    -13.2822021425913    -13.2494430721541     49192.2333595474     12814.9319046279     1647.97197609655      46620.830576199    -987.464232343033     44089.1828451969     64.6058943507191\\n',\n",
       " '      7200      355.153570640338     -13.341367048355    -13.2036454422402     -37647.850532697    -3666.93195112178    -502.181060385374    -37965.7347430281    -732.677273448015    -43225.6667986576     70.3388571384572\\n',\n",
       " '      7300        349.0058802645    -13.2760464715238    -13.1407088194573     20596.4990558273     12227.0643490869    -7873.86153384263     13382.6370553776     5470.64688703757     16762.3423802876     66.7016605308041\\n',\n",
       " '      7400      480.069210009373    -13.2706524998561    -13.0844910527685     15592.7412442527     6932.10073417644     4571.73622044051     18810.2872901787    -4244.28121960729    -328.941733777457     67.1783889414788\\n',\n",
       " '      7500      500.627142336746    -13.1857346011105    -12.9916011900824     -29772.849989443    -3387.61198030754    -15389.1807493155    -37656.2723881774     8642.81671877869    -29643.6692007617      71.191480987548\\n',\n",
       " '      7600      667.764392286551    -13.1392314533706    -12.8802854868522      41855.223476144     27338.8440345994    -4164.77414129942     43114.7330235142     3015.65694735951     27112.5850963961     66.3836051672704\\n',\n",
       " '      7700      641.651097000616    -13.1462278084525    -12.8974080669394    -7782.37364652996    -10064.6079930213    -7091.86251327428    -10615.6335255155     4693.14907683596    -23993.3886999797     70.1082364491354\\n',\n",
       " '      7800      317.681507127165    -13.2221251927708    -13.0989345197455    -22334.6353008235     3918.69076686558    -13015.0218724911    -25604.7790274388     5892.63407750396    -25353.4741259198     70.1031312117777\\n',\n",
       " '      7900      457.565671402135    -13.3146402967963    -13.1372052816989     57132.9172412944     976.046273908274     4634.82509423324     52637.4252473411    -230.172548492898     45733.4024783101     64.2019121764453\\n',\n",
       " '      8000      250.107154694794    -13.2422755955609    -13.1452889343168    -32046.2700362444    -7177.30580204771    -8777.35109451223    -34486.6944110422     2349.27314026454     -33767.158263298      70.645596915716\\n',\n",
       " '      8100      436.373000087565    -13.1332906088066    -12.9640736970104     22607.3732695653     18389.1685961575    -11857.2208469885     12146.2760890193     2944.73310000215     1386.83437926382     68.0916400001298\\n',\n",
       " '      8200      642.314013820221    -13.1325310664565    -12.8834542587707     29546.5245260393    -32554.9960806622     3369.35710452081     25303.0813621301    -4656.63083983955     7992.21994242164     67.5270460023219\\n',\n",
       " '      8300      421.167524118018    -13.1294497362508    -12.9661292105405    -31563.0171193675     6014.86058547875    -19923.2894218695    -42174.2106001191     2665.31311573893    -33604.0358548013     71.9747795717745\\n',\n",
       " '      8400      583.663937950805    -13.2926151501279    -13.0662816943755     41925.7694961974     5601.28403079548     4374.16996044108     37331.8880323326    -1867.17548571929     24923.6357781968     65.5206732193237\\n',\n",
       " '      8500       187.88020316283    -13.2554976078016    -13.1826413408913     846.263214095228    -14566.4251101684    -7075.41209049463    -2322.57779467826    -1665.61916075081    -9600.72132505102     68.2059196285657\\n',\n",
       " '      8600      217.074265519099    -13.3574644964965    -13.2732873433862    -30558.1637625686     5424.90206560765    -1045.06879700061    -29945.2034533309     812.951773905968    -31937.5607758436     69.4481567986434\\n',\n",
       " '      8700      144.232564911414    -13.3241651965945     -13.268234629832     58638.5273989514    -7467.80185309463     849.328031693908     55415.1672622568     -492.03220103338     50034.7804309726     63.8171905007757\\n',\n",
       " '      8800      257.871574370649    -13.2896640921602    -13.1896665408766    -28977.5373310664    -4782.41869010034    -6449.38805300469    -30971.3476833546    -96.0679838812352    -32916.9083943917     70.0425823082043\\n',\n",
       " '      8900      589.801045605614    -13.3441653907735    -13.1154520847451    -7617.20779743891     5717.24632868955     5065.92496028948     -7479.2575629165    -430.673360944237    -18158.3494279923      68.260615429961\\n',\n",
       " '      9000      104.665881943126     -13.058292154732    -13.0177047735025     56778.6801250332    -35572.8682834548    -3382.96954635757     50482.5245601762     -4151.6734431708     33990.9492895759     66.0410390326355\\n',\n",
       " '      9100      850.505115248484    -13.2670394747159    -12.9372302311551    -46835.9186264721     1078.50461556106     2451.37805779019    -42858.5588119948     2293.68856973469    -51606.2928132256     71.8881319158121\\n',\n",
       " '      9200      859.543539078105    -13.2523585999787    -12.9190444324936     12084.0294692347    -10224.6587932468    -10283.8761968597     17797.3528548543    -7410.34975680017      3319.1051289352     67.4724063857478\\n',\n",
       " '      9300      352.968585473421    -13.1885290694136    -13.0516547577973     17421.8817674659    -21655.8245321158     2607.34507977781     15789.1849699621     1362.82880114146    -2767.18218669184     67.7782684377014\\n',\n",
       " '      9400      353.727584702415    -13.3152739182025     -13.178105281535    -27959.9965127089     3438.25006097216    -7076.55897234712    -31324.7773071258    -961.682523210131    -29416.8254751475      69.760043084359\\n',\n",
       " '      9500      365.423699596291    -13.3063558169014    -13.1646516557126     41269.4782825565    -13015.5268304973     1779.43186152903     42604.0905067271    -1273.99565955556     33658.1064683209     65.0463933975239\\n',\n",
       " '      9600      397.091767221879     -13.211534502547    -13.0575500843188    -5722.85286731334     -1001.4095270933     -5997.2468494349    -14298.8765007585     1626.77604496653    -26225.4954492323     69.5444810739791\\n',\n",
       " '      9700      732.138474215932    -13.1146692206989    -12.8307602446872    -8731.38493258324     5572.49011034661     -16078.504968419    -15517.5190643092    -3812.99303469099    -11872.0089277863     70.2017361612823\\n',\n",
       " '      9800      763.295644563586    -13.1977166244024      -12.90172550732     28672.9140216495     -22932.734133394     8751.91067934712     22199.3710371399     1341.78646434889     3000.58945553936     67.3353427531155\\n',\n",
       " '      9900      466.681281143973    -13.2603094146594     -13.079339544451    -9841.41927434645     7364.24459527174    -11731.9793136008    -20996.9081990912    -763.913762824274    -21694.1817089139      69.331342991903\\n',\n",
       " '     10000      290.164264355789    -13.2576687918073     -13.145148767154      10761.664575491    -7767.37387132217    -6254.82291160261     10370.1867546648     4030.87385842822     5940.29071749746      67.354469691041\\n',\n",
       " 'Loop time of 0.099441 on 1 procs for 10000 steps with 4 atoms\\n',\n",
       " '\\n',\n",
       " 'Performance: 8688.570 ns/day, 0.003 hours/ns, 100562.153 timesteps/s\\n',\n",
       " '97.5% CPU use with 1 MPI tasks x no OpenMP threads\\n',\n",
       " '\\n',\n",
       " 'MPI task timing breakdown:\\n',\n",
       " 'Section |  min time  |  avg time  |  max time  |%varavg| %total\\n',\n",
       " '---------------------------------------------------------------\\n',\n",
       " 'Pair    | 0.068525   | 0.068525   | 0.068525   |   0.0 | 68.91\\n',\n",
       " 'Neigh   | 0          | 0          | 0          |   0.0 |  0.00\\n',\n",
       " 'Comm    | 0.012698   | 0.012698   | 0.012698   |   0.0 | 12.77\\n',\n",
       " 'Output  | 0.004875   | 0.004875   | 0.004875   |   0.0 |  4.90\\n',\n",
       " 'Modify  | 0.010854   | 0.010854   | 0.010854   |   0.0 | 10.91\\n',\n",
       " 'Other   |            | 0.00249    |            |       |  2.50\\n',\n",
       " '\\n',\n",
       " 'Nlocal:              4 ave           4 max           4 min\\n',\n",
       " 'Histogram: 1 0 0 0 0 0 0 0 0 0\\n',\n",
       " 'Nghost:            360 ave         360 max         360 min\\n',\n",
       " 'Histogram: 1 0 0 0 0 0 0 0 0 0\\n',\n",
       " 'Neighs:            268 ave         268 max         268 min\\n',\n",
       " 'Histogram: 1 0 0 0 0 0 0 0 0 0\\n',\n",
       " '\\n',\n",
       " 'Total # of neighbors = 268\\n',\n",
       " 'Ave neighs/atom = 67\\n',\n",
       " 'Neighbor list builds = 0\\n',\n",
       " 'Dangerous builds = 0\\n',\n",
       " 'Total wall time: 0:00:00\\n']"
      ]
     },
     "execution_count": 37,
     "metadata": {},
     "output_type": "execute_result"
    }
   ],
   "source": [
    "lmp[\"log.lammps\"]"
   ]
  },
  {
   "cell_type": "markdown",
   "id": "f522de6e-9320-41fc-bd72-71cd3ceb49b8",
   "metadata": {},
   "source": [
    "# Publish your results"
   ]
  },
  {
   "cell_type": "markdown",
   "id": "07ab686e-47e5-4e66-bf5e-79021619052c",
   "metadata": {},
   "source": [
    "To support users in publishing their simulation protocols and the results derived from corresponding calculation pyiron provides a `list_publications()` function to list all publication involved in creating the simulation protocol. In this particular case these are four publication: \n",
    "\n",
    "* the pyiron paper, as pyiron was used to develop the simulation protocol.\n",
    "* the ASE paper, as ASE was used to create the atomistic structure.\n",
    "* the LAMMPS paper, as LAMMPS was used to execute the calculation.\n",
    "* the paper for the interatomic potential which defines the interaction between the atoms."
   ]
  },
  {
   "cell_type": "code",
   "execution_count": 38,
   "id": "5a327e38-61d8-40d4-948b-407e26426a57",
   "metadata": {},
   "outputs": [
    {
     "data": {
      "text/html": [
       "<div>\n",
       "<style scoped>\n",
       "    .dataframe tbody tr th:only-of-type {\n",
       "        vertical-align: middle;\n",
       "    }\n",
       "\n",
       "    .dataframe tbody tr th {\n",
       "        vertical-align: top;\n",
       "    }\n",
       "\n",
       "    .dataframe thead th {\n",
       "        text-align: right;\n",
       "    }\n",
       "</style>\n",
       "<table border=\"1\" class=\"dataframe\">\n",
       "  <thead>\n",
       "    <tr style=\"text-align: right;\">\n",
       "      <th></th>\n",
       "      <th>author</th>\n",
       "      <th>title</th>\n",
       "      <th>journal</th>\n",
       "      <th>volume</th>\n",
       "      <th>pages</th>\n",
       "      <th>issn</th>\n",
       "      <th>doi</th>\n",
       "      <th>url</th>\n",
       "      <th>year</th>\n",
       "      <th>number</th>\n",
       "      <th>publisher</th>\n",
       "    </tr>\n",
       "  </thead>\n",
       "  <tbody>\n",
       "    <tr>\n",
       "      <th>0</th>\n",
       "      <td>[Jan Janssen, Sudarsan Surendralal, Yury Lysogorskiy, Mira Todorova, Tilmann Hickel, Ralf Drautz, Jörg Neugebauer]</td>\n",
       "      <td>pyiron: An integrated development environment for computational materials science</td>\n",
       "      <td>Computational Materials Science</td>\n",
       "      <td>161</td>\n",
       "      <td>24 - 36</td>\n",
       "      <td>0927-0256</td>\n",
       "      <td>https://doi.org/10.1016/j.commatsci.2018.07.043</td>\n",
       "      <td>http://www.sciencedirect.com/science/article/pii/S0927025618304786</td>\n",
       "      <td>2019</td>\n",
       "      <td>NaN</td>\n",
       "      <td>NaN</td>\n",
       "    </tr>\n",
       "    <tr>\n",
       "      <th>1</th>\n",
       "      <td>[Ask Hjorth Larsen, Jens Jørgen Mortensen, Jakob Blomqvist, Ivano E Castelli, Rune Christensen, Marcin Dułak, Jesper Friis, Michael N Groves, Bjørk Hammer, Cory Hargus, Eric D Hermes, Paul C Jenni...</td>\n",
       "      <td>The atomic simulation environment—a Python library for working with atoms</td>\n",
       "      <td>Journal of Physics: Condensed Matter</td>\n",
       "      <td>29</td>\n",
       "      <td>273002</td>\n",
       "      <td>NaN</td>\n",
       "      <td>NaN</td>\n",
       "      <td>http://stacks.iop.org/0953-8984/29/i=27/a=273002</td>\n",
       "      <td>2017</td>\n",
       "      <td>27</td>\n",
       "      <td>NaN</td>\n",
       "    </tr>\n",
       "    <tr>\n",
       "      <th>2</th>\n",
       "      <td>[Steve Plimpton]</td>\n",
       "      <td>Fast Parallel Algorithms for Short-Range Molecular Dynamics</td>\n",
       "      <td>Journal of Computational Physics</td>\n",
       "      <td>117</td>\n",
       "      <td>1-19</td>\n",
       "      <td>0021-9991</td>\n",
       "      <td>10.1006/jcph.1995.1039</td>\n",
       "      <td>http://www.sciencedirect.com/science/article/pii/S002199918571039X</td>\n",
       "      <td>1995</td>\n",
       "      <td>1</td>\n",
       "      <td>NaN</td>\n",
       "    </tr>\n",
       "    <tr>\n",
       "      <th>3</th>\n",
       "      <td>[Y. Mishin, M. J. Mehl, D. A. Papaconstantopoulos]</td>\n",
       "      <td>Embedded-atom potential for B2-NiAl</td>\n",
       "      <td>Physical Review B</td>\n",
       "      <td>65</td>\n",
       "      <td>224114</td>\n",
       "      <td>NaN</td>\n",
       "      <td>10.1103/physrevb.65.224114</td>\n",
       "      <td>https://doi.org/10.1103%2Fphysrevb.65.224114</td>\n",
       "      <td>2002</td>\n",
       "      <td>22</td>\n",
       "      <td>American Physical Society (APS)</td>\n",
       "    </tr>\n",
       "  </tbody>\n",
       "</table>\n",
       "</div>"
      ],
      "text/plain": [
       "                                                                                                                                                                                                    author  \\\n",
       "0                                                                                       [Jan Janssen, Sudarsan Surendralal, Yury Lysogorskiy, Mira Todorova, Tilmann Hickel, Ralf Drautz, Jörg Neugebauer]   \n",
       "1  [Ask Hjorth Larsen, Jens Jørgen Mortensen, Jakob Blomqvist, Ivano E Castelli, Rune Christensen, Marcin Dułak, Jesper Friis, Michael N Groves, Bjørk Hammer, Cory Hargus, Eric D Hermes, Paul C Jenni...   \n",
       "2                                                                                                                                                                                         [Steve Plimpton]   \n",
       "3                                                                                                                                                       [Y. Mishin, M. J. Mehl, D. A. Papaconstantopoulos]   \n",
       "\n",
       "                                                                               title  \\\n",
       "0  pyiron: An integrated development environment for computational materials science   \n",
       "1          The atomic simulation environment—a Python library for working with atoms   \n",
       "2                        Fast Parallel Algorithms for Short-Range Molecular Dynamics   \n",
       "3                                                Embedded-atom potential for B2-NiAl   \n",
       "\n",
       "                                journal volume    pages       issn  \\\n",
       "0       Computational Materials Science    161  24 - 36  0927-0256   \n",
       "1  Journal of Physics: Condensed Matter     29   273002        NaN   \n",
       "2      Journal of Computational Physics    117     1-19  0021-9991   \n",
       "3                     Physical Review B     65   224114        NaN   \n",
       "\n",
       "                                               doi  \\\n",
       "0  https://doi.org/10.1016/j.commatsci.2018.07.043   \n",
       "1                                              NaN   \n",
       "2                           10.1006/jcph.1995.1039   \n",
       "3                       10.1103/physrevb.65.224114   \n",
       "\n",
       "                                                                  url  year  \\\n",
       "0  http://www.sciencedirect.com/science/article/pii/S0927025618304786  2019   \n",
       "1                    http://stacks.iop.org/0953-8984/29/i=27/a=273002  2017   \n",
       "2  http://www.sciencedirect.com/science/article/pii/S002199918571039X  1995   \n",
       "3                        https://doi.org/10.1103%2Fphysrevb.65.224114  2002   \n",
       "\n",
       "  number                        publisher  \n",
       "0    NaN                              NaN  \n",
       "1     27                              NaN  \n",
       "2      1                              NaN  \n",
       "3     22  American Physical Society (APS)  "
      ]
     },
     "execution_count": 38,
     "metadata": {},
     "output_type": "execute_result"
    }
   ],
   "source": [
    "pr.list_publications()"
   ]
  },
  {
   "cell_type": "markdown",
   "id": "e38b84c8-f11e-419c-8d3f-3bc669585977",
   "metadata": {},
   "source": [
    "# Summary"
   ]
  },
  {
   "cell_type": "markdown",
   "id": "edd5f633-ebd2-41f2-a44e-dc007886636c",
   "metadata": {},
   "source": [
    "In this first pyiron LAMMPS tutorial you learned about the three most fundamental objects in an atomistic simulation with pyiron, namely the project object, the atomistic structure object and the LAMMPS job object. You also learned how to create both structure objects and LAMMPS job objects from the project object and finally the tutorial demonstrated the basic settings to setup, run and analyse your LAMMPS simulation. "
   ]
  },
  {
   "cell_type": "code",
   "execution_count": null,
   "id": "98d1b9ad-1d58-4f13-830f-12854afeddab",
   "metadata": {},
   "outputs": [],
   "source": []
  }
 ],
 "metadata": {
  "kernelspec": {
   "display_name": "Python 3 (ipykernel)",
   "language": "python",
   "name": "python3"
  },
  "language_info": {
   "codemirror_mode": {
    "name": "ipython",
    "version": 3
   },
   "file_extension": ".py",
   "mimetype": "text/x-python",
   "name": "python",
   "nbconvert_exporter": "python",
   "pygments_lexer": "ipython3",
   "version": "3.10.12"
  }
 },
 "nbformat": 4,
 "nbformat_minor": 5
}
